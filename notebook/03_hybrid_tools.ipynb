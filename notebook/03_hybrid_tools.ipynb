{
 "cells": [
  {
   "cell_type": "markdown",
   "id": "24cee39a-a77d-4493-a532-56935aa07fd8",
   "metadata": {
    "tags": []
   },
   "source": [
    "# Strands를 사용한 임상 증거 연구 에이전트 - 외부 & 내부 도구 사용\n",
    "이 노트북에서는 오픈소스 Strands 에이전트 프레임워크를 사용하여 임상 증거 연구 에이전트를 생성합니다"
   ]
  },
  {
   "cell_type": "markdown",
   "id": "3c401dd7-dd66-44cd-a02a-fcdd95d98605",
   "metadata": {},
   "source": [
    "#### Strands 에이전트 및 필수 종속성 설치"
   ]
  },
  {
   "cell_type": "code",
   "execution_count": null,
   "id": "install-strands",
   "metadata": {},
   "outputs": [],
   "source": [
    "%pip install strands-agents strands-agents-tools xmltodict --quiet"
   ]
  },
  {
   "cell_type": "markdown",
   "id": "environment-check",
   "metadata": {},
   "source": [
    "#### 최신 버전의 boto3가 아래에 표시되는지 확인\n",
    "아래에 출력된 boto3 버전이 **1.37.1** 이상인지 확인하세요."
   ]
  },
  {
   "cell_type": "code",
   "execution_count": null,
   "id": "73745fd0-9df8-4f95-b58e-843c958840ac",
   "metadata": {
    "execution": {
     "iopub.execute_input": "2025-07-04T01:30:38.911638Z",
     "iopub.status.busy": "2025-07-04T01:30:38.911317Z",
     "iopub.status.idle": "2025-07-04T01:30:39.657907Z",
     "shell.execute_reply": "2025-07-04T01:30:39.657236Z",
     "shell.execute_reply.started": "2025-07-04T01:30:38.911619Z"
    },
    "tags": []
   },
   "outputs": [],
   "source": [
    "%pip show boto3"
   ]
  },
  {
   "cell_type": "markdown",
   "id": "8ef228e7-54c0-4925-8c06-6d172ab3286c",
   "metadata": {},
   "source": [
    "#### 필수 라이브러리 가져오기"
   ]
  },
  {
   "cell_type": "code",
   "execution_count": null,
   "id": "ae4b0cf3-76bf-4287-9b40-cc14566ebf8b",
   "metadata": {
    "execution": {
     "iopub.execute_input": "2025-07-04T01:50:07.011716Z",
     "iopub.status.busy": "2025-07-04T01:50:07.011370Z",
     "iopub.status.idle": "2025-07-04T01:50:07.061405Z",
     "shell.execute_reply": "2025-07-04T01:50:07.060859Z",
     "shell.execute_reply.started": "2025-07-04T01:50:07.011690Z"
    },
    "tags": []
   },
   "outputs": [],
   "source": [
    "import os\n",
    "import boto3\n",
    "import json\n",
    "import uuid\n",
    "import requests\n",
    "from pathlib import Path\n",
    "from typing import Dict, Any, List\n",
    "from strands import Agent, tool\n",
    "from strands.models import BedrockModel\n",
    "from strands_tools import retrieve\n",
    "\n",
    "from utils.PubMed import PubMed\n",
    "\n",
    "# KB 도구 변수 초기화\n",
    "kb_tool = None\n",
    "\n",
    "# AWS 계정 정보 확인\n",
    "sts_client = boto3.client('sts')\n",
    "account_id = sts_client.get_caller_identity()['Account']\n",
    "region = boto3.Session().region_name"
   ]
  },
  {
   "cell_type": "markdown",
   "id": "document-upload",
   "metadata": {},
   "source": [
    "#### documents/ 디렉토리의 문서를 S3 버켓에 업로드"
   ]
  },
  {
   "cell_type": "code",
   "execution_count": null,
   "id": "upload-documents",
   "metadata": {},
   "outputs": [],
   "source": [
    "# S3 클라이언트 초기화\n",
    "s3_client = boto3.client('s3')\n",
    "environment_name = 'env1'\n",
    "bucket_name = f'clinical-kb-{environment_name}-{account_id}-{region}'\n",
    "\n",
    "documents_dir = Path('./documents')\n",
    "if documents_dir.exists():\n",
    "    for file_path in documents_dir.rglob('*'):\n",
    "        if file_path.is_file():\n",
    "            s3_key = str(file_path.relative_to('.'))\n",
    "            try:\n",
    "                s3_client.upload_file(str(file_path), bucket_name, s3_key)\n",
    "                print(f'업로드 완료: {s3_key} -> s3://{bucket_name}/{s3_key}')\n",
    "            except Exception as e:\n",
    "                print(f'업로드 실패: {s3_key} - {str(e)}')\n",
    "else:\n",
    "    print('documents/ 디렉토리가 존재하지 않습니다.')"
   ]
  },
  {
   "cell_type": "markdown",
   "id": "8c5ecfce-78c8-4721-a4e6-35a7745d8871",
   "metadata": {
    "tags": []
   },
   "source": [
    "## 전제 조건\n",
    "\n",
    "[00-setup_environment.ipynb](00-setup_environment.ipynb)에서 노트북 환경 설정을 완료하세요."
   ]
  },
  {
   "cell_type": "markdown",
   "id": "setup-lambda",
   "metadata": {},
   "source": [
    "#### AWS 클라이언트 설정\n",
    "도구에서 사용할 AWS 서비스 클라이언트를 정의합니다."
   ]
  },
  {
   "cell_type": "code",
   "execution_count": null,
   "id": "lambda-config",
   "metadata": {
    "execution": {
     "iopub.execute_input": "2025-07-04T01:50:09.092063Z",
     "iopub.status.busy": "2025-07-04T01:50:09.091734Z",
     "iopub.status.idle": "2025-07-04T01:50:09.106074Z",
     "shell.execute_reply": "2025-07-04T01:50:09.105512Z",
     "shell.execute_reply.started": "2025-07-04T01:50:09.092043Z"
    }
   },
   "outputs": [],
   "source": [
    "# AWS 클라이언트 초기화\n",
    "bedrock_client = boto3.client('bedrock-runtime', region_name=region)\n",
    "bedrock_agent_client = boto3.client(\"bedrock-agent\", region_name=region)\n",
    "\n",
    "print(f\"리전: {region}\")\n",
    "print(f\"계정 ID: {account_id}\")"
   ]
  },
  {
   "cell_type": "markdown",
   "id": "kb-setup",
   "metadata": {},
   "source": [
    "#### 내부 문서 검색을 위한 지식 베이스 설정\n",
    "\n",
    "이 예제에서는 Strands 에이전트의 내장 도구인 `retrieve`를 사용할 것입니다. 이 도구는 RAG, 메모리 및 기타 목적을 위해 Amazon Bedrock 지식베이스에서 데이터를 의미론적으로 검색합니다. 이 도구는 지식베이스 ID를 필요로 하며, 이는 아래에 정의된 환경 변수 `KNOWLEDGE_BASE_ID`를 통해 제공될 것입니다."
   ]
  },
  {
   "cell_type": "code",
   "execution_count": null,
   "id": "kb-config",
   "metadata": {
    "execution": {
     "iopub.execute_input": "2025-07-04T01:50:10.772321Z",
     "iopub.status.busy": "2025-07-04T01:50:10.771977Z",
     "iopub.status.idle": "2025-07-04T01:50:10.859484Z",
     "shell.execute_reply": "2025-07-04T01:50:10.858894Z",
     "shell.execute_reply.started": "2025-07-04T01:50:10.772288Z"
    }
   },
   "outputs": [],
   "source": [
    "# 지식 기반 찾기\n",
    "response = bedrock_agent_client.list_knowledge_bases()\n",
    "\n",
    "# 지식 기반 탐색\n",
    "ncbi_kb_id = None\n",
    "for kb in response['knowledgeBaseSummaries']:\n",
    "    kb_name = kb['name']\n",
    "    if 'ncbiKnowledgebase' in kb_name:\n",
    "        ncbi_kb_id = kb['knowledgeBaseId']\n",
    "        break\n",
    "\n",
    "if ncbi_kb_id:\n",
    "    print(f\"Found Knowledge Base ID: {ncbi_kb_id}\")\n",
    "    os.environ[\"KNOWLEDGE_BASE_ID\"] = ncbi_kb_id\n",
    "    print(\"Knowledge Base will be integrated using direct Strands tool approach\")\n",
    "else:\n",
    "    print(\"Warning: Knowledge Base not found. Internal evidence retrieval may not work.\")\n",
    "    ncbi_kb_id = None"
   ]
  },
  {
   "cell_type": "markdown",
   "id": "96053d0a-6dfd-4623-aea4-d7eaedc6dc63",
   "metadata": {
    "tags": []
   },
   "source": [
    "# Strands 에이전트 생성\n",
    "이 섹션에서는 Strands 프레임워크를 사용하여 에이전트를 생성합니다"
   ]
  },
  {
   "cell_type": "markdown",
   "id": "3e974c4f-200d-499a-ba94-70de02a88486",
   "metadata": {},
   "source": [
    "#### 에이전트 구성 및 지침 정의"
   ]
  },
  {
   "cell_type": "code",
   "execution_count": null,
   "id": "11e88b67-5f84-45be-90af-673c11730230",
   "metadata": {
    "execution": {
     "iopub.execute_input": "2025-07-04T01:50:13.820571Z",
     "iopub.status.busy": "2025-07-04T01:50:13.820227Z",
     "iopub.status.idle": "2025-07-04T01:50:13.825356Z",
     "shell.execute_reply": "2025-07-04T01:50:13.824804Z",
     "shell.execute_reply.started": "2025-07-04T01:50:13.820550Z"
    },
    "tags": []
   },
   "outputs": [],
   "source": [
    "clinical_research_agent_name = \"Clinical-evidence-researcher-strands\"\n",
    "clinical_research_agent_description = \"Research internal and external evidence using Strands framework\"\n",
    "clinical_research_agent_instruction = \"\"\"당신은 HER2 바이오마커와 관련된 내부 및 외부 증거를 요약하는 데 특화된 의료 연구 보조 AI입니다. \n",
    "주요 임무는 사용자 질의를 해석하고, 내부 및 외부 증거를 수집하며, 그 결과에 기반한 관련 의학적 통찰력을 제공하는 것입니다. \n",
    "특정 질문에 필요한 적절한 도구만 사용하십시오. 내부 증거 검색 시 항상 먼저 지식 기반 검색 도구를 사용하십시오. 다음 지침을 주의 깊게 따르십시오: \n",
    "\n",
    "1. retrieve 도구를 사용하여 내부 증거를 찾으십시오. retrieve 도구로 검색을 수행한 후 PubMed 쿼리 도구를 사용하십시오.\n",
    "\n",
    "2. retreive 도구 사용시: \n",
    "   a. 내부 증거의 경우 지식 기반을 활용하여 관련 정보를 검색하십시오. \n",
    "   b. 응답 시 항상 특정 콘텐츠 조각에 대한 인용(예. s3://bucket_name/test.pdf)을 포함하십시오. \n",
    "\n",
    "3. PubMed 쿼리 시:\n",
    "   a. 각 관련 연구의 결과를 요약하고 해당 연구의 특정 PubMed 웹 링크를 인용하십시오.\n",
    "   b. JSON 출력에는 '링크', '제목', '요약'이 포함됩니다. \n",
    "   c. 응답 시 항상 각 연구의 제목과 링크(예: 'https://pubmed.ncbi.nlm.nih.gov/')를 포함하십시오.  \n",
    "\n",
    "4. 응답 제공 시: \n",
    "   a. 사용자의 질의에 대한 이해를 간략히 요약하여 시작하십시오.  \n",
    "   b. 질의 해결을 위해 취하는 단계를 설명하십시오. 필요한 경우 사용자에게 추가 설명을 요청하십시오.  \n",
    "   c. 내부 증거(지식 기반)와 외부 증거(PubMed API)에서 생성된 응답을 구분하십시오.  \n",
    "   d. 발견 사항과 의학 연구에 대한 잠재적 함의를 간결히 요약하여 결론지으십시오.\n",
    "\"\"\""
   ]
  },
  {
   "cell_type": "markdown",
   "id": "lambda-tools",
   "metadata": {},
   "source": [
    "#### Strands 에이전트용 도구 정의\n",
    "PubMed를 쿼리하기 위해 커스텀 도구를 사용하며, Strands 프레임워크의 retrieve 도구와 결합할 예정입니다. retrieve 도구는 커스텀 도구처럼 함수로 정의할 필요가 없으므로, 단순히 도구 목록에 추가하면 됩니다."
   ]
  },
  {
   "cell_type": "code",
   "execution_count": null,
   "id": "create-tools",
   "metadata": {
    "execution": {
     "iopub.execute_input": "2025-07-04T01:50:14.461693Z",
     "iopub.status.busy": "2025-07-04T01:50:14.461351Z",
     "iopub.status.idle": "2025-07-04T01:50:14.471731Z",
     "shell.execute_reply": "2025-07-04T01:50:14.471234Z",
     "shell.execute_reply.started": "2025-07-04T01:50:14.461671Z"
    }
   },
   "outputs": [],
   "source": [
    "# Strands @tool 데코레이터를 사용하여 도구 정의\n",
    "@tool\n",
    "def query_pubmed(query: str) -> str:\n",
    "    \"\"\"\n",
    "    사용자의 질의에 기반하여 PubMed에서 관련 생의학 문헌을 검색합니다.\n",
    "    이 도구는 PubMed 초록을 검색하여 제목, 링크 및 요약이 포함된 관련 연구를 반환합니다.\n",
    "    \n",
    "    Args:\n",
    "        query (str): PubMed 검색어\n",
    "    \n",
    "    Returns:\n",
    "        str: PubMed 검색 결과(제목, 링크, 요약 포함)를 포함한 JSON 문자열\n",
    "    \"\"\"\n",
    "    \n",
    "    pubmed = PubMed()\n",
    "\n",
    "    print(f\"\\nPubMed 쿼리: {query}\\n\")\n",
    "    result = pubmed.run(query)\n",
    "    print(f\"\\nPubMed 결과: {result}\\n\")\n",
    "    return result\n",
    "\n",
    "# 사용자 정의 도구 목록 생성\n",
    "clinical_research_agent_tools = [query_pubmed, retrieve]\n",
    "print(f\"Strands 에이전트를 위한 {len(clinical_research_agent_tools)} 개의 사용자 정의 도구 생성됨\")"
   ]
  },
  {
   "cell_type": "markdown",
   "id": "create-provider",
   "metadata": {},
   "source": [
    "#### Strands용 AWS Bedrock 프로바이더 설정"
   ]
  },
  {
   "cell_type": "code",
   "execution_count": null,
   "id": "setup-provider",
   "metadata": {
    "execution": {
     "iopub.execute_input": "2025-07-04T01:50:16.523689Z",
     "iopub.status.busy": "2025-07-04T01:50:16.523363Z",
     "iopub.status.idle": "2025-07-04T01:50:16.589348Z",
     "shell.execute_reply": "2025-07-04T01:50:16.588739Z",
     "shell.execute_reply.started": "2025-07-04T01:50:16.523666Z"
    }
   },
   "outputs": [],
   "source": [
    "# Strands용 베드락 모델 생성\n",
    "model = BedrockModel(\n",
    "    model_id=\"us.anthropic.claude-3-7-sonnet-20250219-v1:0\",\n",
    "    region_name=region,\n",
    "    temperature=0.1,\n",
    "    streaming=False\n",
    ")"
   ]
  },
  {
   "cell_type": "markdown",
   "id": "3d2b94bc-1ed8-4542-9315-1494d76d4445",
   "metadata": {},
   "source": [
    "#### Strands 에이전트 생성"
   ]
  },
  {
   "cell_type": "code",
   "execution_count": null,
   "id": "37eb6515-56ec-4bf5-afc1-99f303add381",
   "metadata": {
    "execution": {
     "iopub.execute_input": "2025-07-04T01:50:18.172665Z",
     "iopub.status.busy": "2025-07-04T01:50:18.172329Z",
     "iopub.status.idle": "2025-07-04T01:50:18.178380Z",
     "shell.execute_reply": "2025-07-04T01:50:18.177850Z",
     "shell.execute_reply.started": "2025-07-04T01:50:18.172640Z"
    },
    "tags": []
   },
   "outputs": [],
   "source": [
    "# Strands 에이전트 생성\n",
    "try:\n",
    "    # 맞춤형 도구 사용\n",
    "    clinical_evidence_agent = Agent(\n",
    "        model=model,\n",
    "        tools=clinical_research_agent_tools,\n",
    "        system_prompt=clinical_research_agent_instruction\n",
    "    )\n",
    "    \n",
    "    print(f\"Strands 에이전트 생성 성공: {clinical_research_agent_name}\")\n",
    "    print(f\"에이전트에 {len(clinical_research_agent_tools)}개의 도구가 사용 가능합니다:\")\n",
    "    for tool in clinical_research_agent_tools:\n",
    "        print(f\"  - {tool.__name__}\")\n",
    "    \n",
    "except Exception as e:\n",
    "    print(f\"Error creating agent: {e}\")\n",
    "    raise"
   ]
  },
  {
   "cell_type": "markdown",
   "id": "test-agent",
   "metadata": {},
   "source": [
    "#### Strands 에이전트 테스트"
   ]
  },
  {
   "cell_type": "code",
   "execution_count": null,
   "id": "1f1dbd7b-b9c2-427b-b7e5-23961e64d877",
   "metadata": {
    "execution": {
     "iopub.execute_input": "2025-07-04T01:47:20.353935Z",
     "iopub.status.busy": "2025-07-04T01:47:20.353577Z",
     "iopub.status.idle": "2025-07-04T01:47:50.363057Z",
     "shell.execute_reply": "2025-07-04T01:47:50.362356Z",
     "shell.execute_reply.started": "2025-07-04T01:47:20.353913Z"
    },
    "tags": []
   },
   "outputs": [],
   "source": [
    "# 연구 질의로 에이전트 테스트\n",
    "test_query = \"HER2 양성 유방암에서 HER2 표적 치료제의 효과에 관한 증거를 내부 지식베이스와 PubMed에서 검색해 주실 수 있나요?\"\n",
    "\n",
    "print(f\"쿼리를 사용한 테스트 에이전트: {test_query}\")\n",
    "print(\"=\" * 140)\n",
    "\n",
    "try:\n",
    "    # 에이전트 실행\n",
    "    response = clinical_evidence_agent(test_query)\n",
    "    \n",
    "except Exception as e:\n",
    "    print(f\"Error during agent execution: {e}\")\n",
    "    import traceback\n",
    "    traceback.print_exc()"
   ]
  },
  {
   "cell_type": "markdown",
   "id": "advanced-usage",
   "metadata": {},
   "source": [
    "#### 고급 사용 예제"
   ]
  },
  {
   "cell_type": "code",
   "execution_count": null,
   "id": "advanced-examples",
   "metadata": {
    "execution": {
     "iopub.execute_input": "2025-07-04T01:34:24.696675Z",
     "iopub.status.busy": "2025-07-04T01:34:24.696347Z",
     "iopub.status.idle": "2025-07-04T01:35:47.659817Z",
     "shell.execute_reply": "2025-07-04T01:35:47.659206Z",
     "shell.execute_reply.started": "2025-07-04T01:34:24.696652Z"
    },
    "scrolled": true
   },
   "outputs": [],
   "source": [
    "# 더 복잡한 쿼리의 예시\n",
    "complex_queries = [\n",
    "    \"HER2 양성 유방암에서 트라스투주맙 내성 메커니즘에 대한 증거 검색\",\n",
    "    \"HER2 표적 치료제와 면역치료 병용요법의 효과에 관한 연구 찾기\",\n",
    "    \"HER2 바이오마커와 치료 반응 예측에 대해 내부 지식 기반은 무엇을 말하는가?\"\n",
    "]\n",
    "\n",
    "def test_complex_query(query: str):\n",
    "    \"\"\"\n",
    "    Test a complex query with the agent\n",
    "    \"\"\"\n",
    "    print(f\"\\n테스트 쿼리: {query}\")\n",
    "    print(\"-\" * 100)\n",
    "    \n",
    "    try:\n",
    "        response = clinical_evidence_agent(query)\n",
    "    except Exception as e:\n",
    "        print(f\"Error: {e}\")\n",
    "\n",
    "for query in complex_queries: \n",
    "    test_complex_query(query)"
   ]
  },
  {
   "cell_type": "markdown",
   "id": "summary",
   "metadata": {},
   "source": [
    "## 요약\n",
    "이 노트북은 Strands 프레임워크를 사용하여 Bedrock Knowledge 및 PubMed API에 연결하는 에이전트를 구축하는 방법을 보여줍니다.\n",
    "\n",
    "### 사용 가능한 도구:\n",
    "- `query_pubmed`: PubMed에서 의학 문헌 검색\n",
    "- `KnowledgeBase`: NCBI 지식베이스에서 내부 증거 검색\n",
    "\n",
    "### 연구 기능:\n",
    "- PubMed API 통합을 통한 **의학 문헌 검색**\n",
    "- 큐레이션된 지식베이스로부터의 **내부 증거 검색**\n",
    "- 다중 출처 통합을 통한 **종합적 연구 종합**\n",
    "- 원본 연구 링크를 포함한 **인용 추적**\n",
    "- HER2 양성 유방암 연구를 위한 **바이오마커 연구** 특화 기능"
   ]
  },
  {
   "cell_type": "markdown",
   "id": "3967a7e4",
   "metadata": {},
   "source": []
  }
 ],
 "metadata": {
  "kernelspec": {
   "display_name": "Python 3 (ipykernel)",
   "language": "python",
   "name": "python3"
  },
  "language_info": {
   "codemirror_mode": {
    "name": "ipython",
    "version": 3
   },
   "file_extension": ".py",
   "mimetype": "text/x-python",
   "name": "python",
   "nbconvert_exporter": "python",
   "pygments_lexer": "ipython3",
   "version": "3.12.9"
  }
 },
 "nbformat": 4,
 "nbformat_minor": 5
}
