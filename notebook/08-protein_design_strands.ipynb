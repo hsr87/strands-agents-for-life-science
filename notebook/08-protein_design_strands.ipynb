{
 "cells": [
  {
   "cell_type": "markdown",
   "id": "24cee39a-a77d-4493-a532-56935aa07fd8",
   "metadata": {
    "tags": []
   },
   "source": [
    "# Protein Design Agent with Strands\n",
    "\n",
    "이 노트북에서 우리는 오픈 소스 Strands Agents 프레임워크를 사용하여 단백질 설계 에이전트를 만들어요."
   ]
  },
  {
   "cell_type": "markdown",
   "id": "3c401dd7-dd66-44cd-a02a-fcdd95d98605",
   "metadata": {},
   "source": [
    "#### Install Strands agents and required dependencies"
   ]
  },
  {
   "cell_type": "code",
   "execution_count": null,
   "id": "install-strands",
   "metadata": {},
   "outputs": [],
   "source": [
    "%pip install strands-agents strands-agents-tools --quiet"
   ]
  },
  {
   "cell_type": "markdown",
   "id": "environment-check",
   "metadata": {},
   "source": [
    "#### Ensure the latest version of boto3 is shown below\n",
    "Ensure the boto3 version printed below is **1.37.1** or higher."
   ]
  },
  {
   "cell_type": "code",
   "execution_count": null,
   "id": "73745fd0-9df8-4f95-b58e-843c958840ac",
   "metadata": {},
   "outputs": [],
   "source": [
    "%pip show boto3"
   ]
  },
  {
   "cell_type": "markdown",
   "id": "8ef228e7-54c0-4925-8c06-6d172ab3286c",
   "metadata": {},
   "source": [
    "#### Import required libraries"
   ]
  },
  {
   "cell_type": "code",
   "execution_count": null,
   "id": "ae4b0cf3-76bf-4287-9b40-cc14566ebf8b",
   "metadata": {},
   "outputs": [],
   "source": [
    "import boto3\n",
    "import json\n",
    "import time\n",
    "import uuid\n",
    "import os\n",
    "from typing import Dict, Any, Optional\n",
    "from strands import Agent, tool\n",
    "from strands.models import BedrockModel\n",
    "from urllib.parse import urlparse\n",
    "\n",
    "# Get AWS account information\n",
    "sts_client = boto3.client('sts')\n",
    "account_id = sts_client.get_caller_identity()['Account']\n",
    "region = boto3.Session().region_name"
   ]
  },
  {
   "cell_type": "markdown",
   "id": "8c5ecfce-78c8-4721-a4e6-35a7745d8871",
   "metadata": {
    "tags": []
   },
   "source": [
    "## Prerequisites\n",
    "\n",
    "Run through the notebook environment setup in [00-setup_environment.ipynb](00-setup_environment.ipynb).\n",
    "\n",
    "Also ensure you have deployed the protein design CloudFormation stack from `stacks/protein_design_stack.yaml`"
   ]
  },
  {
   "cell_type": "markdown",
   "id": "setup-lambda",
   "metadata": {},
   "source": [
    "#### Setup AWS clients and configuration\n",
    "Define the clients to AWS services that will be used by tools."
   ]
  },
  {
   "cell_type": "code",
   "execution_count": null,
   "id": "lambda-config",
   "metadata": {},
   "outputs": [],
   "source": [
    "# Initialize AWS clients\n",
    "bedrock_client = boto3.client('bedrock-runtime', region_name=region)\n",
    "omics_client = boto3.client('omics')\n",
    "s3_client = boto3.client('s3')\n",
    "\n",
    "# Configuration - Update these values based on your CloudFormation stack outputs\n",
    "STACK_NAME = 'pppp'  # Your CloudFormation stack name\n",
    "DEFAULT_WORKFLOW_ID = None  # Will be retrieved from stack outputs\n",
    "DEFAULT_ROLE_ARN = None     # Will be retrieved from stack outputs\n",
    "DEFAULT_S3_BUCKET = None    # Will be retrieved from stack outputs\n",
    "\n",
    "# Set environment variable for tools to use\n",
    "os.environ['STACK_NAME'] = STACK_NAME\n",
    "\n",
    "print(f\"Region: {region}\")\n",
    "print(f\"Account ID: {account_id}\")\n",
    "print(f\"Stack Name: {STACK_NAME}\")"
   ]
  },
  {
   "cell_type": "markdown",
   "id": "get-stack-outputs",
   "metadata": {},
   "source": [
    "#### Get CloudFormation stack outputs"
   ]
  },
  {
   "cell_type": "code",
   "execution_count": null,
   "id": "stack-outputs",
   "metadata": {},
   "outputs": [],
   "source": [
    "# Get CloudFormation stack outputs\n",
    "cf_client = boto3.client('cloudformation')\n",
    "\n",
    "try:\n",
    "    response = cf_client.describe_stacks(StackName=STACK_NAME)\n",
    "    stack = response['Stacks'][0]\n",
    "\n",
    "    # Get from outputs\n",
    "    outputs = stack.get('Outputs', [])\n",
    "    for output in outputs:\n",
    "        key = output['OutputKey']\n",
    "        value = output['OutputValue']\n",
    "        if key == 'WorkflowId':\n",
    "            DEFAULT_WORKFLOW_ID = value\n",
    "        elif key == 'WorkflowExecutionRoleArn':\n",
    "            DEFAULT_ROLE_ARN = value\n",
    "            \n",
    "    parameters = stack.get('Parameters', [])\n",
    "    for param in parameters:\n",
    "        if param['ParameterKey'] == 'S3BucketName':\n",
    "            DEFAULT_S3_BUCKET = param['ParameterValue']\n",
    "            break\n",
    "    \n",
    "    print(f\"Workflow ID: {DEFAULT_WORKFLOW_ID}\")\n",
    "    print(f\"Role ARN: {DEFAULT_ROLE_ARN}\")\n",
    "    print(f\"S3 Bucket: {DEFAULT_S3_BUCKET}\")\n",
    "    \n",
    "    # Configure the tools with the stack information\n",
    "    from utils.protein_design_tools import set_stack_config\n",
    "    set_stack_config(\n",
    "        stack_name=STACK_NAME,\n",
    "        workflow_id=DEFAULT_WORKFLOW_ID,\n",
    "        role_arn=DEFAULT_ROLE_ARN,\n",
    "        s3_bucket=DEFAULT_S3_BUCKET\n",
    "    )\n",
    "    \n",
    "except Exception as e:\n",
    "    print(f\"Error getting stack outputs: {e}\")\n",
    "    print(\"Please update the configuration variables manually\")"
   ]
  },
  {
   "cell_type": "markdown",
   "id": "96053d0a-6dfd-4623-aea4-d7eaedc6dc63",
   "metadata": {
    "tags": []
   },
   "source": [
    "# Strands Agent Creation\n",
    "In this section we create the agent using the Strands framework"
   ]
  },
  {
   "cell_type": "markdown",
   "id": "3e974c4f-200d-499a-ba94-70de02a88486",
   "metadata": {},
   "source": [
    "#### Define agent configuration and instructions"
   ]
  },
  {
   "cell_type": "code",
   "execution_count": null,
   "id": "11e88b67-5f84-45be-90af-673c11730230",
   "metadata": {},
   "outputs": [],
   "source": [
    "protein_agent_name = 'Protein-Design-Agent-Strands'\n",
    "protein_agent_description = \"Protein design and optimization agent using AWS HealthOmics workflows with Strands framework\"\n",
    "protein_agent_instruction = \"\"\"\n",
    "You are a protein design specialist AI that helps researchers optimize protein sequences using directed evolution algorithms.\n",
    "You can trigger AWS HealthOmics workflows to perform protein sequence optimization and monitor their progress.\n",
    "\n",
    "Your capabilities include:\n",
    "1. Starting protein design optimization workflows with custom parameters\n",
    "2. Monitoring the status of running workflows\n",
    "3. Retrieving and analyzing results from completed optimizations\n",
    "\n",
    "When working with protein sequences:\n",
    "- Validate that sequences contain only valid amino acid letters\n",
    "- Provide clear explanations of the optimization process\n",
    "- Help users understand the results and their implications\n",
    "\n",
    "Always be helpful and provide detailed information about the protein design process.\n",
    "\"\"\""
   ]
  },
  {
   "cell_type": "markdown",
   "id": "lambda-tools",
   "metadata": {},
   "source": [
    "#### Define tools for Strands agent\n",
    "These tools will invoke AWS HealthOmics workflows for protein design operations"
   ]
  },
  {
   "cell_type": "code",
   "execution_count": null,
   "id": "create-tools",
   "metadata": {},
   "outputs": [],
   "source": [
    "# Import the updated tools that match the Bedrock agent action groups\n",
    "from utils.protein_design_tools import trigger_aho_workflow, monitor_aho_workflow, test_configuration\n",
    "\n",
    "# Set environment variables for the tools to use\n",
    "#import os\n",
    "#os.environ['DEFAULT_WORKFLOW_ID'] = DEFAULT_WORKFLOW_ID\n",
    "#os.environ['DEFAULT_ROLE_ARN'] = DEFAULT_ROLE_ARN\n",
    "#os.environ['DEFAULT_S3_BUCKET'] = DEFAULT_S3_BUCKET\n",
    "\n",
    "print(\"Tools imported successfully:\")\n",
    "print(f\"- trigger_aho_workflow: {trigger_aho_workflow.__doc__.split('Args:')[0].strip()}\")\n",
    "print(f\"- monitor_aho_workflow: {monitor_aho_workflow.__doc__.split('Args:')[0].strip()}\")"
   ]
  },
  {
   "cell_type": "markdown",
   "id": "create-agent",
   "metadata": {},
   "source": [
    "#### Create the Strands Agent"
   ]
  },
  {
   "cell_type": "code",
   "execution_count": null,
   "id": "agent-creation",
   "metadata": {},
   "outputs": [],
   "source": [
    "# Create the Bedrock model\n",
    "model = BedrockModel(\n",
    "    model_id=\"us.anthropic.claude-3-5-sonnet-20241022-v2:0\",\n",
    "    client=bedrock_client\n",
    ")\n",
    "\n",
    "# Create the agent with tools that match the Bedrock agent action groups\n",
    "protein_agent = Agent(\n",
    "    system_prompt=protein_agent_instruction,\n",
    "    model=model,\n",
    "    tools=[trigger_aho_workflow, monitor_aho_workflow]\n",
    ")\n",
    "\n",
    "print(f\"Created Protein Design Agent with Strands framework\")"
   ]
  },
  {
   "cell_type": "markdown",
   "id": "test-agent",
   "metadata": {},
   "source": [
    "# Test the Agent\n",
    "Let's test the protein design agent with some example queries"
   ]
  },
  {
   "cell_type": "code",
   "execution_count": null,
   "id": "b4a2ad65-4951-41fd-acb8-232132197786",
   "metadata": {},
   "outputs": [],
   "source": [
    "#https://strandsagents.com/latest/documentation/docs/user-guide/observability-evaluation/logs/\n",
    "import logging\n",
    "\n",
    "# Configure the root strands logger\n",
    "logging.getLogger(\"strands\").setLevel(logging.DEBUG)\n",
    "\n",
    "# Add a handler to see the logs\n",
    "logging.basicConfig(\n",
    "    format=\"%(levelname)s | %(name)s | %(message)s\", \n",
    "    handlers=[logging.StreamHandler()]\n",
    ")"
   ]
  },
  {
   "cell_type": "markdown",
   "id": "test-1",
   "metadata": {},
   "source": [
    "#### Test 1: Start a protein optimization"
   ]
  },
  {
   "cell_type": "code",
   "execution_count": null,
   "id": "test-optimization",
   "metadata": {},
   "outputs": [],
   "source": [
    "# Test starting a protein optimization\n",
    "test_sequence = \"EVQLVETGGGLVQPGGSLRLSCAASGFTLNSYGISWVRQAPGKGPEWVSVIYSDGRRTFYGDSVKGRFTISRDTSTNTVYLQMNSLRVEDTAVYYCAKGRAAGTFDSWGQGTLVTVSS\"\n",
    "\n",
    "query = f\"Can you optimize this protein sequence: {test_sequence}\"\n",
    "\n",
    "print(\"Query:\", query)\n",
    "\n",
    "try:\n",
    "    # Run the agent\n",
    "    print(\"\\nResponse:\")\n",
    "    protein_agent(query)\n",
    "except Exception as e:\n",
    "    print(f\"Error during agent execution: {e}\")\n",
    "    import traceback\n",
    "    traceback.print_exc()"
   ]
  },
  {
   "cell_type": "markdown",
   "id": "test-2",
   "metadata": {},
   "source": [
    "#### Test 2: Monitor workflow status"
   ]
  },
  {
   "cell_type": "code",
   "execution_count": null,
   "id": "test-monitor",
   "metadata": {},
   "outputs": [],
   "source": [
    "# Test monitoring a workflow (use a run ID from the previous test)\n",
    "# Replace 'YOUR_RUN_ID' with an actual run ID from the previous test\n",
    "test_run_id = \"{test_run_id}\"  # Update this with a real run ID\n",
    "\n",
    "query = f\"Check the status of workflow run {test_run_id}\"\n",
    "\n",
    "print(\"Query:\", query)\n",
    "print(\"\\nResponse:\")\n",
    "response = protein_agent(query)"
   ]
  },
  {
   "cell_type": "markdown",
   "id": "test-3",
   "metadata": {},
   "source": [
    "#### Test 3: Advanced optimization with custom parameters"
   ]
  },
  {
   "cell_type": "code",
   "execution_count": null,
   "id": "test-advanced",
   "metadata": {},
   "outputs": [],
   "source": [
    "# Test with custom parameters\n",
    "query = \"Run a protein optimization for sequence ACDEFGHIKLMNPQRSTVWY with 20 parallel chains and 200 steps\"\n",
    "\n",
    "print(\"Query:\", query)\n",
    "print(\"\\nResponse:\")\n",
    "response = protein_agent(query)"
   ]
  },
  {
   "cell_type": "code",
   "execution_count": null,
   "id": "8242b494-894c-4903-aa06-f866f4ee4b2e",
   "metadata": {},
   "outputs": [],
   "source": [
    "# metrics: https://strandsagents.com/latest/documentation/docs/user-guide/observability-evaluation/metrics/\n",
    "\n",
    "# Access metrics through the AgentResult\n",
    "print(f\"Total tokens: {response.metrics.accumulated_usage['totalTokens']}\")\n",
    "print(f\"Execution time: {sum(response.metrics.cycle_durations):.2f} seconds\")\n",
    "print(f\"Tools used: {list(response.metrics.tool_metrics.keys())}\")\n"
   ]
  },
  {
   "cell_type": "code",
   "execution_count": null,
   "id": "deploy-agent",
   "metadata": {},
   "outputs": [],
   "source": [
    "# Install Bedrock AgentCore if not already installed\n",
    "%pip install bedrock-agentcore bedrock-agentcore-starter-toolkit --quiet"
   ]
  },
  {
   "cell_type": "code",
   "execution_count": null,
   "id": "agentcore-deploy",
   "metadata": {},
   "outputs": [],
   "source": [
    "from bedrock_agentcore_starter_toolkit import deploy_agent\n",
    "\n",
    "# Deploy the agent to Bedrock AgentCore\n",
    "try:\n",
    "    deployment_result = deploy_agent(\n",
    "        agent=protein_agent,\n",
    "        agent_name=protein_agent_name,\n",
    "        description=protein_agent_description\n",
    "    )\n",
    "    \n",
    "    print(\"Agent deployed successfully to Bedrock AgentCore!\")\n",
    "    print(f\"Agent ID: {deployment_result.get('agent_id')}\")\n",
    "    print(f\"Agent ARN: {deployment_result.get('agent_arn')}\")\n",
    "    \n",
    "except Exception as e:\n",
    "    print(f\"Deployment failed: {e}\")\n",
    "    print(\"Make sure you have the necessary permissions and Bedrock AgentCore is available in your region\")"
   ]
  }
 ],
 "metadata": {
  "kernelspec": {
   "display_name": "Python 3 (ipykernel)",
   "language": "python",
   "name": "python3"
  },
  "language_info": {
   "codemirror_mode": {
    "name": "ipython",
    "version": 3
   },
   "file_extension": ".py",
   "mimetype": "text/x-python",
   "name": "python",
   "nbconvert_exporter": "python",
   "pygments_lexer": "ipython3",
   "version": "3.12.9"
  }
 },
 "nbformat": 4,
 "nbformat_minor": 5
}
