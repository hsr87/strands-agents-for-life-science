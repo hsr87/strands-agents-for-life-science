{
 "cells": [
  {
   "cell_type": "markdown",
   "id": "24cee39a-a77d-4493-a532-56935aa07fd8",
   "metadata": {
    "tags": []
   },
   "source": [
    "# Protein Design Agent with Strands\n",
    "\n",
    "이 노트북에서 우리는 오픈 소스 Strands Agents 프레임워크를 사용하여 단백질 설계 에이전트를 만들어요."
   ]
  },
  {
   "cell_type": "markdown",
   "id": "3c401dd7-dd66-44cd-a02a-fcdd95d98605",
   "metadata": {},
   "source": [
    "#### Install Strands agents and required dependencies"
   ]
  },
  {
   "cell_type": "code",
   "execution_count": 1,
   "id": "install-strands",
   "metadata": {
    "execution": {
     "iopub.execute_input": "2025-09-02T07:38:49.068644Z",
     "iopub.status.busy": "2025-09-02T07:38:49.068398Z",
     "iopub.status.idle": "2025-09-02T07:38:53.534743Z",
     "shell.execute_reply": "2025-09-02T07:38:53.533919Z",
     "shell.execute_reply.started": "2025-09-02T07:38:49.068624Z"
    }
   },
   "outputs": [
    {
     "name": "stdout",
     "output_type": "stream",
     "text": [
      "Note: you may need to restart the kernel to use updated packages.\n"
     ]
    }
   ],
   "source": [
    "%pip install strands-agents strands-agents-tools --quiet"
   ]
  },
  {
   "cell_type": "markdown",
   "id": "environment-check",
   "metadata": {},
   "source": [
    "#### Ensure the latest version of boto3 is shown below\n",
    "Ensure the boto3 version printed below is **1.37.1** or higher."
   ]
  },
  {
   "cell_type": "code",
   "execution_count": 2,
   "id": "73745fd0-9df8-4f95-b58e-843c958840ac",
   "metadata": {
    "execution": {
     "iopub.execute_input": "2025-09-02T07:39:01.621958Z",
     "iopub.status.busy": "2025-09-02T07:39:01.621680Z",
     "iopub.status.idle": "2025-09-02T07:39:02.882848Z",
     "shell.execute_reply": "2025-09-02T07:39:02.881944Z",
     "shell.execute_reply.started": "2025-09-02T07:39:01.621933Z"
    }
   },
   "outputs": [
    {
     "name": "stdout",
     "output_type": "stream",
     "text": [
      "Name: boto3\n",
      "Version: 1.37.1\n",
      "Summary: The AWS SDK for Python\n",
      "Home-page: https://github.com/boto/boto3\n",
      "Author: Amazon Web Services\n",
      "Author-email: \n",
      "License: Apache License 2.0\n",
      "Location: /opt/conda/lib/python3.12/site-packages\n",
      "Requires: botocore, jmespath, s3transfer\n",
      "Required-by: amazon-q-developer-jupyterlab-ext, amazon-sagemaker-sql-editor, amazon-sagemaker-sql-execution, amazon_sagemaker_jupyter_ai_q_developer, autogluon.common, autogluon.core, autogluon.multimodal, aws-glue-sessions, langchain-aws, PyAthena, redshift_connector, sagemaker, sagemaker-core, sagemaker-jupyterlab-extension-common, sagemaker-kernel-wrapper, sagemaker-mlflow, sagemaker-studio-analytics-extension, sagemaker-studio-dataengineering-extensions, sagemaker-studio-dataengineering-sessions, sagemaker_studio, sagemaker_studio_sparkmagic_lib, snowflake-connector-python, strands-agents\n",
      "Note: you may need to restart the kernel to use updated packages.\n"
     ]
    }
   ],
   "source": [
    "%pip show boto3"
   ]
  },
  {
   "cell_type": "markdown",
   "id": "8ef228e7-54c0-4925-8c06-6d172ab3286c",
   "metadata": {},
   "source": [
    "#### Import required libraries"
   ]
  },
  {
   "cell_type": "code",
   "execution_count": 3,
   "id": "ae4b0cf3-76bf-4287-9b40-cc14566ebf8b",
   "metadata": {
    "execution": {
     "iopub.execute_input": "2025-09-02T07:39:03.040902Z",
     "iopub.status.busy": "2025-09-02T07:39:03.040628Z",
     "iopub.status.idle": "2025-09-02T07:39:03.656709Z",
     "shell.execute_reply": "2025-09-02T07:39:03.656002Z",
     "shell.execute_reply.started": "2025-09-02T07:39:03.040880Z"
    }
   },
   "outputs": [],
   "source": [
    "import boto3\n",
    "import json\n",
    "import time\n",
    "import uuid\n",
    "import os\n",
    "from typing import Dict, Any, Optional\n",
    "from strands import Agent, tool\n",
    "from strands.models import BedrockModel\n",
    "from urllib.parse import urlparse\n",
    "\n",
    "# Get AWS account information\n",
    "sts_client = boto3.client('sts')\n",
    "account_id = sts_client.get_caller_identity()['Account']\n",
    "region = boto3.Session().region_name"
   ]
  },
  {
   "cell_type": "markdown",
   "id": "8c5ecfce-78c8-4721-a4e6-35a7745d8871",
   "metadata": {
    "tags": []
   },
   "source": [
    "## Prerequisites\n",
    "\n",
    "Run through the notebook environment setup in [00-setup_environment.ipynb](00-setup_environment.ipynb).\n",
    "\n",
    "Also ensure you have deployed the protein design CloudFormation stack from `stacks/protein_design_stack.yaml`"
   ]
  },
  {
   "cell_type": "markdown",
   "id": "setup-lambda",
   "metadata": {},
   "source": [
    "#### Setup AWS clients and configuration\n",
    "Define the clients to AWS services that will be used by tools."
   ]
  },
  {
   "cell_type": "code",
   "execution_count": 4,
   "id": "lambda-config",
   "metadata": {
    "execution": {
     "iopub.execute_input": "2025-09-02T07:39:07.077118Z",
     "iopub.status.busy": "2025-09-02T07:39:07.076786Z",
     "iopub.status.idle": "2025-09-02T07:39:07.155140Z",
     "shell.execute_reply": "2025-09-02T07:39:07.154434Z",
     "shell.execute_reply.started": "2025-09-02T07:39:07.077096Z"
    }
   },
   "outputs": [
    {
     "name": "stdout",
     "output_type": "stream",
     "text": [
      "Region: us-west-2\n",
      "Account ID: 664263524008\n"
     ]
    }
   ],
   "source": [
    "# Initialize AWS clients\n",
    "bedrock_client = boto3.client('bedrock-runtime', region_name=region)\n",
    "omics_client = boto3.client('omics')\n",
    "s3_client = boto3.client('s3')\n",
    "\n",
    "# Configuration - Update these values based on your CloudFormation stack outputs\n",
    "STACK_NAME = 'protein-design-stack'  # Your CloudFormation stack name\n",
    "DEFAULT_WORKFLOW_ID = None  # Will be retrieved from stack outputs\n",
    "DEFAULT_ROLE_ARN = None     # Will be retrieved from stack outputs\n",
    "DEFAULT_S3_BUCKET = None    # Will be retrieved from stack outputs\n",
    "\n",
    "print(f\"Region: {region}\")\n",
    "print(f\"Account ID: {account_id}\")"
   ]
  },
  {
   "cell_type": "markdown",
   "id": "get-stack-outputs",
   "metadata": {},
   "source": [
    "#### Get CloudFormation stack outputs"
   ]
  },
  {
   "cell_type": "code",
   "execution_count": 5,
   "id": "stack-outputs",
   "metadata": {
    "execution": {
     "iopub.execute_input": "2025-09-02T07:39:14.110733Z",
     "iopub.status.busy": "2025-09-02T07:39:14.110473Z",
     "iopub.status.idle": "2025-09-02T07:39:14.201585Z",
     "shell.execute_reply": "2025-09-02T07:39:14.200948Z",
     "shell.execute_reply.started": "2025-09-02T07:39:14.110713Z"
    }
   },
   "outputs": [
    {
     "name": "stdout",
     "output_type": "stream",
     "text": [
      "Workflow ID: 1024576\n",
      "Role ARN: arn:aws:iam::664263524008:role/protein-design-stack-WorkflowExecutionRole-QppAFVfXxcAy\n",
      "S3 Bucket: protein-c776afefa57d4cc09a98ec589dd3376a\n"
     ]
    }
   ],
   "source": [
    "# Get CloudFormation stack outputs\n",
    "cf_client = boto3.client('cloudformation')\n",
    "\n",
    "try:\n",
    "    response = cf_client.describe_stacks(StackName=STACK_NAME)\n",
    "    stack = response['Stacks'][0]\n",
    "\n",
    "    # Get from outputs\n",
    "    outputs = stack.get('Outputs', [])\n",
    "    for output in outputs:\n",
    "        key = output['OutputKey']\n",
    "        value = output['OutputValue']\n",
    "        if key == 'WorkflowId':\n",
    "            DEFAULT_WORKFLOW_ID = value\n",
    "        elif key == 'WorkflowExecutionRoleArn':\n",
    "            DEFAULT_ROLE_ARN = value\n",
    "            \n",
    "    parameters = stack.get('Parameters', [])\n",
    "    for param in parameters:\n",
    "        if param['ParameterKey'] == 'S3BucketName':\n",
    "            DEFAULT_S3_BUCKET = param['ParameterValue']\n",
    "            break\n",
    "    \n",
    "    print(f\"Workflow ID: {DEFAULT_WORKFLOW_ID}\")\n",
    "    print(f\"Role ARN: {DEFAULT_ROLE_ARN}\")\n",
    "    print(f\"S3 Bucket: {DEFAULT_S3_BUCKET}\")\n",
    "    \n",
    "except Exception as e:\n",
    "    print(f\"Error getting stack outputs: {e}\")\n",
    "    print(\"Please update the configuration variables manually\")"
   ]
  },
  {
   "cell_type": "markdown",
   "id": "96053d0a-6dfd-4623-aea4-d7eaedc6dc63",
   "metadata": {
    "tags": []
   },
   "source": [
    "# Strands Agent Creation\n",
    "In this section we create the agent using the Strands framework"
   ]
  },
  {
   "cell_type": "markdown",
   "id": "3e974c4f-200d-499a-ba94-70de02a88486",
   "metadata": {},
   "source": [
    "#### Define agent configuration and instructions"
   ]
  },
  {
   "cell_type": "code",
   "execution_count": 6,
   "id": "11e88b67-5f84-45be-90af-673c11730230",
   "metadata": {
    "execution": {
     "iopub.execute_input": "2025-09-02T07:39:16.266404Z",
     "iopub.status.busy": "2025-09-02T07:39:16.266121Z",
     "iopub.status.idle": "2025-09-02T07:39:16.270067Z",
     "shell.execute_reply": "2025-09-02T07:39:16.269393Z",
     "shell.execute_reply.started": "2025-09-02T07:39:16.266383Z"
    }
   },
   "outputs": [],
   "source": [
    "protein_agent_name = 'Protein-Design-Agent-Strands'\n",
    "protein_agent_description = \"Protein design and optimization agent using AWS HealthOmics workflows with Strands framework\"\n",
    "protein_agent_instruction = \"\"\"\n",
    "You are a protein design specialist AI that helps researchers optimize protein sequences using directed evolution algorithms.\n",
    "You can trigger AWS HealthOmics workflows to perform protein sequence optimization and monitor their progress.\n",
    "\n",
    "Your capabilities include:\n",
    "1. Starting protein design optimization workflows with custom parameters\n",
    "2. Monitoring the status of running workflows\n",
    "3. Retrieving and analyzing results from completed optimizations\n",
    "\n",
    "When working with protein sequences:\n",
    "- Validate that sequences contain only valid amino acid letters\n",
    "- Provide clear explanations of the optimization process\n",
    "- Help users understand the results and their implications\n",
    "\n",
    "Always be helpful and provide detailed information about the protein design process.\n",
    "\"\"\""
   ]
  },
  {
   "cell_type": "markdown",
   "id": "lambda-tools",
   "metadata": {},
   "source": [
    "#### Define tools for Strands agent\n",
    "These tools will invoke AWS HealthOmics workflows for protein design operations"
   ]
  },
  {
   "cell_type": "code",
   "execution_count": 7,
   "id": "create-tools",
   "metadata": {
    "execution": {
     "iopub.execute_input": "2025-09-02T07:39:17.299702Z",
     "iopub.status.busy": "2025-09-02T07:39:17.299446Z",
     "iopub.status.idle": "2025-09-02T07:39:17.345486Z",
     "shell.execute_reply": "2025-09-02T07:39:17.344802Z",
     "shell.execute_reply.started": "2025-09-02T07:39:17.299681Z"
    }
   },
   "outputs": [
    {
     "name": "stdout",
     "output_type": "stream",
     "text": [
      "Tools imported successfully:\n",
      "- trigger_aho_workflow: Trigger the AWS HealthOmics workflow for protein design optimization\n",
      "- monitor_aho_workflow: Monitor the status of a running AWS HealthOmics workflow and retrieve results when complete\n"
     ]
    }
   ],
   "source": [
    "# Import the updated tools that match the Bedrock agent action groups\n",
    "from protein_design_tools import trigger_aho_workflow, monitor_aho_workflow\n",
    "\n",
    "# Set environment variables for the tools to use\n",
    "#import os\n",
    "#os.environ['DEFAULT_WORKFLOW_ID'] = DEFAULT_WORKFLOW_ID\n",
    "#os.environ['DEFAULT_ROLE_ARN'] = DEFAULT_ROLE_ARN\n",
    "#os.environ['DEFAULT_S3_BUCKET'] = DEFAULT_S3_BUCKET\n",
    "\n",
    "print(\"Tools imported successfully:\")\n",
    "print(f\"- trigger_aho_workflow: {trigger_aho_workflow.__doc__.split('Args:')[0].strip()}\")\n",
    "print(f\"- monitor_aho_workflow: {monitor_aho_workflow.__doc__.split('Args:')[0].strip()}\")"
   ]
  },
  {
   "cell_type": "markdown",
   "id": "create-agent",
   "metadata": {},
   "source": [
    "#### Create the Strands Agent"
   ]
  },
  {
   "cell_type": "code",
   "execution_count": 8,
   "id": "agent-creation",
   "metadata": {
    "execution": {
     "iopub.execute_input": "2025-09-02T07:39:18.756625Z",
     "iopub.status.busy": "2025-09-02T07:39:18.756363Z",
     "iopub.status.idle": "2025-09-02T07:39:18.815538Z",
     "shell.execute_reply": "2025-09-02T07:39:18.814841Z",
     "shell.execute_reply.started": "2025-09-02T07:39:18.756605Z"
    }
   },
   "outputs": [
    {
     "name": "stdout",
     "output_type": "stream",
     "text": [
      "Created Protein Design Agent with Strands framework\n"
     ]
    }
   ],
   "source": [
    "# Create the Bedrock model\n",
    "model = BedrockModel(\n",
    "    model_id=\"anthropic.claude-3-5-sonnet-20241022-v2:0\",\n",
    "    client=bedrock_client\n",
    ")\n",
    "\n",
    "# Create the agent with tools that match the Bedrock agent action groups\n",
    "protein_agent = Agent(\n",
    "    system_prompt=protein_agent_instruction,\n",
    "    model=model,\n",
    "    tools=[trigger_aho_workflow, monitor_aho_workflow]\n",
    ")\n",
    "\n",
    "print(f\"Created Protein Design Agent with Strands framework\")"
   ]
  },
  {
   "cell_type": "markdown",
   "id": "test-agent",
   "metadata": {},
   "source": [
    "# Test the Agent\n",
    "Let's test the protein design agent with some example queries"
   ]
  },
  {
   "cell_type": "code",
   "execution_count": 10,
   "id": "b4a2ad65-4951-41fd-acb8-232132197786",
   "metadata": {
    "execution": {
     "iopub.execute_input": "2025-09-02T06:40:37.246115Z",
     "iopub.status.busy": "2025-09-02T06:40:37.245461Z",
     "iopub.status.idle": "2025-09-02T06:40:37.253983Z",
     "shell.execute_reply": "2025-09-02T06:40:37.253177Z",
     "shell.execute_reply.started": "2025-09-02T06:40:37.246083Z"
    }
   },
   "outputs": [],
   "source": [
    "#https://strandsagents.com/latest/documentation/docs/user-guide/observability-evaluation/logs/\n",
    "import logging\n",
    "\n",
    "# Configure the root strands logger\n",
    "logging.getLogger(\"strands\").setLevel(logging.DEBUG)\n",
    "\n",
    "# Add a handler to see the logs\n",
    "logging.basicConfig(\n",
    "    format=\"%(levelname)s | %(name)s | %(message)s\", \n",
    "    handlers=[logging.StreamHandler()]\n",
    ")"
   ]
  },
  {
   "cell_type": "markdown",
   "id": "test-1",
   "metadata": {},
   "source": [
    "#### Test 1: Start a protein optimization"
   ]
  },
  {
   "cell_type": "code",
   "execution_count": 9,
   "id": "test-optimization",
   "metadata": {
    "execution": {
     "iopub.execute_input": "2025-09-02T07:39:22.408430Z",
     "iopub.status.busy": "2025-09-02T07:39:22.408127Z",
     "iopub.status.idle": "2025-09-02T07:39:34.243072Z",
     "shell.execute_reply": "2025-09-02T07:39:34.242373Z",
     "shell.execute_reply.started": "2025-09-02T07:39:22.408409Z"
    }
   },
   "outputs": [
    {
     "name": "stdout",
     "output_type": "stream",
     "text": [
      "Query: Can you optimize this protein sequence: EVQLVETGGGLVQPGGSLRLSCAASGFTLNSYGISWVRQAPGKGPEWVSVIYSDGRRTFYGDSVKGRFTISRDTSTNTVYLQMNSLRVEDTAVYYCAKGRAAGTFDSWGQGTLVTVSS\n",
      "\n",
      "Response:\n",
      "I'll help you optimize this protein sequence using the AWS HealthOmics workflow. The sequence appears to be valid as it contains only standard amino acid letters. This looks like an antibody variable domain sequence.\n",
      "\n",
      "I'll trigger the optimization workflow with your provided sequence:\n",
      "Tool #1: trigger_aho_workflow\n",
      "Great! The optimization workflow has been started. Let me monitor its progress to check the status:\n",
      "Tool #2: monitor_aho_workflow\n",
      "The workflow has been successfully initiated and is currently running. The optimization process will:\n",
      "1. Use machine learning models to evaluate potential sequence modifications\n",
      "2. Run multiple parallel Markov Chain Monte Carlo (MCMC) chains to explore sequence space\n",
      "3. Generate optimized variants that may have improved properties\n",
      "\n",
      "The workflow is currently in a PENDING state. You can ask me to check its status again by requesting to \"monitor workflow run 6750176\". When the workflow completes, we'll be able to see the optimized sequences and their predicted improvements.\n",
      "\n",
      "Would you like me to continue monitoring the workflow's progress?"
     ]
    }
   ],
   "source": [
    "# Test starting a protein optimization\n",
    "test_sequence = \"EVQLVETGGGLVQPGGSLRLSCAASGFTLNSYGISWVRQAPGKGPEWVSVIYSDGRRTFYGDSVKGRFTISRDTSTNTVYLQMNSLRVEDTAVYYCAKGRAAGTFDSWGQGTLVTVSS\"\n",
    "\n",
    "query = f\"Can you optimize this protein sequence: {test_sequence}\"\n",
    "\n",
    "print(\"Query:\", query)\n",
    "\n",
    "try:\n",
    "    # Run the agent\n",
    "    print(\"\\nResponse:\")\n",
    "    protein_agent(query)\n",
    "except Exception as e:\n",
    "    print(f\"Error during agent execution: {e}\")\n",
    "    import traceback\n",
    "    traceback.print_exc()"
   ]
  },
  {
   "cell_type": "markdown",
   "id": "test-2",
   "metadata": {},
   "source": [
    "#### Test 2: Monitor workflow status"
   ]
  },
  {
   "cell_type": "code",
   "execution_count": 10,
   "id": "test-monitor",
   "metadata": {
    "execution": {
     "iopub.execute_input": "2025-09-02T07:40:02.500007Z",
     "iopub.status.busy": "2025-09-02T07:40:02.499750Z",
     "iopub.status.idle": "2025-09-02T07:40:08.571908Z",
     "shell.execute_reply": "2025-09-02T07:40:08.571213Z",
     "shell.execute_reply.started": "2025-09-02T07:40:02.499987Z"
    }
   },
   "outputs": [
    {
     "name": "stdout",
     "output_type": "stream",
     "text": [
      "Query: Check the status of workflow run 6408075\n",
      "\n",
      "Response:\n",
      "I'll check the status of the workflow run you specified:\n",
      "Tool #3: monitor_aho_workflow\n",
      "Great news! The workflow has completed successfully. The results are available in the output files, which include a CSV file containing the optimized protein variants and their predicted properties. The workflow:\n",
      "\n",
      "1. Started at: 2025-09-02 06:43:01 UTC\n",
      "2. Completed at: 2025-09-02 07:04:53 UTC\n",
      "3. Total runtime: approximately 22 minutes\n",
      "\n",
      "The results are stored in a CSV file named \"de_results.csv\" which contains the optimized sequences and their associated metrics. The file size of 94KB suggests that multiple variant sequences were generated during the optimization process.\n",
      "\n",
      "Would you like me to help you interpret the results or start a new optimization workflow with different parameters?"
     ]
    }
   ],
   "source": [
    "# Test monitoring a workflow (use a run ID from the previous test)\n",
    "# Replace 'YOUR_RUN_ID' with an actual run ID from the previous test\n",
    "test_run_id = \"6408075\"  # Update this with a real run ID\n",
    "\n",
    "query = f\"Check the status of workflow run {test_run_id}\"\n",
    "\n",
    "print(\"Query:\", query)\n",
    "print(\"\\nResponse:\")\n",
    "response = protein_agent(query)"
   ]
  },
  {
   "cell_type": "markdown",
   "id": "test-3",
   "metadata": {},
   "source": [
    "#### Test 3: Advanced optimization with custom parameters"
   ]
  },
  {
   "cell_type": "code",
   "execution_count": 11,
   "id": "test-advanced",
   "metadata": {
    "execution": {
     "iopub.execute_input": "2025-09-02T07:40:24.660398Z",
     "iopub.status.busy": "2025-09-02T07:40:24.660099Z",
     "iopub.status.idle": "2025-09-02T07:40:34.407045Z",
     "shell.execute_reply": "2025-09-02T07:40:34.406424Z",
     "shell.execute_reply.started": "2025-09-02T07:40:24.660377Z"
    }
   },
   "outputs": [
    {
     "name": "stdout",
     "output_type": "stream",
     "text": [
      "Query: Run a protein optimization for sequence ACDEFGHIKLMNPQRSTVWY with 20 parallel chains and 200 steps\n",
      "\n",
      "Response:\n",
      "I'll help you run a protein optimization workflow for your sequence with the specified parameters. The sequence appears to be valid and contains all 20 standard amino acids.\n",
      "Tool #4: trigger_aho_workflow\n",
      "Let me check the initial status of the workflow:\n",
      "Tool #5: monitor_aho_workflow\n",
      "I've started the optimization workflow with your specified parameters:\n",
      "- Input sequence: ACDEFGHIKLMNPQRSTVWY (20 amino acids)\n",
      "- Number of parallel chains: 20 (as requested)\n",
      "- Steps per chain: 200 (as requested)\n",
      "\n",
      "The workflow is currently in the STARTING state. With 20 parallel chains and 200 steps each, this will explore a broader range of sequence variations than the default settings would. The total number of evaluations will be 4000 (20 chains × 200 steps).\n",
      "\n",
      "You can monitor the progress of this optimization by asking me to check workflow run 6785473. Would you like me to continue monitoring its progress?"
     ]
    }
   ],
   "source": [
    "# Test with custom parameters\n",
    "query = \"Run a protein optimization for sequence ACDEFGHIKLMNPQRSTVWY with 20 parallel chains and 200 steps\"\n",
    "\n",
    "print(\"Query:\", query)\n",
    "print(\"\\nResponse:\")\n",
    "response = protein_agent(query)"
   ]
  },
  {
   "cell_type": "code",
   "execution_count": null,
   "id": "8242b494-894c-4903-aa06-f866f4ee4b2e",
   "metadata": {},
   "outputs": [],
   "source": [
    "# metrics: https://strandsagents.com/latest/documentation/docs/user-guide/observability-evaluation/metrics/\n",
    "\n",
    "# Access metrics through the AgentResult\n",
    "print(f\"Total tokens: {response.metrics.accumulated_usage['totalTokens']}\")\n",
    "print(f\"Execution time: {sum(response.metrics.cycle_durations):.2f} seconds\")\n",
    "print(f\"Tools used: {list(response.metrics.tool_metrics.keys())}\")\n"
   ]
  },
  {
   "cell_type": "markdown",
   "id": "deploy-agentcore",
   "metadata": {},
   "source": [
    "# Deploy to Amazon Bedrock AgentCore\n",
    "Deploy the agent to Bedrock AgentCore for production use"
   ]
  },
  {
   "cell_type": "code",
   "execution_count": null,
   "id": "deploy-agent",
   "metadata": {},
   "outputs": [],
   "source": [
    "# Install Bedrock AgentCore if not already installed\n",
    "%pip install bedrock-agentcore bedrock-agentcore-starter-toolkit --quiet"
   ]
  },
  {
   "cell_type": "code",
   "execution_count": null,
   "id": "agentcore-deploy",
   "metadata": {},
   "outputs": [],
   "source": [
    "from bedrock_agentcore_starter_toolkit import deploy_agent\n",
    "\n",
    "# Deploy the agent to Bedrock AgentCore\n",
    "try:\n",
    "    deployment_result = deploy_agent(\n",
    "        agent=protein_agent,\n",
    "        agent_name=protein_agent_name,\n",
    "        description=protein_agent_description\n",
    "    )\n",
    "    \n",
    "    print(\"Agent deployed successfully to Bedrock AgentCore!\")\n",
    "    print(f\"Agent ID: {deployment_result.get('agent_id')}\")\n",
    "    print(f\"Agent ARN: {deployment_result.get('agent_arn')}\")\n",
    "    \n",
    "except Exception as e:\n",
    "    print(f\"Deployment failed: {e}\")\n",
    "    print(\"Make sure you have the necessary permissions and Bedrock AgentCore is available in your region\")"
   ]
  },
  {
   "cell_type": "markdown",
   "id": "conclusion",
   "metadata": {},
   "source": [
    "# Conclusion\n",
    "\n",
    "This notebook demonstrates how to migrate the original Bedrock Agent-based Protein Design Agent to use the Strands framework while maintaining full compatibility with the original functionality.\n",
    "\n",
    "## Migration Summary:\n",
    "\n",
    "### Original Bedrock Agent Action Groups:\n",
    "1. **ProteinDesignTriggerWorkflow** - Lambda function: `protein-design-stack-WorkflowTriggerFunction-2KrE8ky1s8p1`\n",
    "2. **ProteinDesignMonitorRuns** - Lambda function: `protein-design-stack-WorkflowMonitorFunction-wY1yduueAKV5`\n",
    "\n",
    "### Migrated Strands Tools:\n",
    "1. **trigger_aho_workflow** - Direct implementation of the trigger Lambda functionality\n",
    "2. **monitor_aho_workflow** - Direct implementation of the monitor Lambda functionality\n",
    "\n",
    "## Key Changes from Original Agent:\n",
    "\n",
    "1. **Framework**: Uses Strands agents instead of Bedrock Agents\n",
    "2. **Tool Definition**: Tools are defined using `@tool` decorator instead of Lambda functions\n",
    "3. **Direct Integration**: Direct AWS SDK calls instead of Lambda function invocations\n",
    "4. **Simplified Architecture**: No need for separate Lambda functions and API Gateway\n",
    "5. **Parameter Compatibility**: Maintains exact parameter names and types from original Bedrock agent\n",
    "\n",
    "## Features Maintained:\n",
    "\n",
    "- Protein sequence optimization using AWS HealthOmics workflows\n",
    "- Workflow monitoring and status checking\n",
    "- Results retrieval from S3\n",
    "- Parameter validation and error handling\n",
    "- Same function signatures as original Lambda functions\n",
    "- Compatible with existing CloudFormation infrastructure\n",
    "\n",
    "## Benefits of Strands Approach:\n",
    "\n",
    "- **Simplified Deployment**: No need for complex CloudFormation templates for agent infrastructure\n",
    "- **Direct Control**: Direct access to AWS services without Lambda intermediaries\n",
    "- **Easier Testing**: Can test tools directly in the notebook environment\n",
    "- **Better Integration**: Seamless integration with Bedrock AgentCore for production deployment\n",
    "- **Cost Effective**: Eliminates Lambda function costs for agent operations\n",
    "- **Faster Execution**: Removes Lambda cold start delays\n",
    "\n",
    "The migrated agent maintains all the original functionality while providing a more streamlined development and deployment experience. The tools are now directly integrated into the Strands framework, making them easier to maintain and extend."
   ]
  }
 ],
 "metadata": {
  "kernelspec": {
   "display_name": "Python 3 (ipykernel)",
   "language": "python",
   "name": "python3"
  },
  "language_info": {
   "codemirror_mode": {
    "name": "ipython",
    "version": 3
   },
   "file_extension": ".py",
   "mimetype": "text/x-python",
   "name": "python",
   "nbconvert_exporter": "python",
   "pygments_lexer": "ipython3",
   "version": "3.12.9"
  }
 },
 "nbformat": 4,
 "nbformat_minor": 5
}
