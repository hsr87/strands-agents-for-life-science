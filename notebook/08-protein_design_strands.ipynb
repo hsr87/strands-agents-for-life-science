{
 "cells": [
  {
   "cell_type": "markdown",
   "id": "24cee39a-a77d-4493-a532-56935aa07fd8",
   "metadata": {
    "tags": []
   },
   "source": [
    "# Protein Design Agent with Strands\n",
    "\n",
    "이 노트북에서 우리는 오픈 소스 Strands Agents 프레임워크를 사용하여 단백질 설계 에이전트를 만들어요."
   ]
  },
  {
   "cell_type": "markdown",
   "id": "3c401dd7-dd66-44cd-a02a-fcdd95d98605",
   "metadata": {},
   "source": [
    "#### Install Strands agents and required dependencies"
   ]
  },
  {
   "cell_type": "code",
   "execution_count": 1,
   "id": "install-strands",
   "metadata": {
    "execution": {
     "iopub.execute_input": "2025-09-02T06:40:03.451456Z",
     "iopub.status.busy": "2025-09-02T06:40:03.451211Z",
     "iopub.status.idle": "2025-09-02T06:40:05.232909Z",
     "shell.execute_reply": "2025-09-02T06:40:05.231985Z",
     "shell.execute_reply.started": "2025-09-02T06:40:03.451436Z"
    }
   },
   "outputs": [
    {
     "name": "stdout",
     "output_type": "stream",
     "text": [
      "Note: you may need to restart the kernel to use updated packages.\n"
     ]
    }
   ],
   "source": [
    "%pip install strands-agents strands-agents-tools --quiet"
   ]
  },
  {
   "cell_type": "markdown",
   "id": "environment-check",
   "metadata": {},
   "source": [
    "#### Ensure the latest version of boto3 is shown below\n",
    "Ensure the boto3 version printed below is **1.37.1** or higher."
   ]
  },
  {
   "cell_type": "code",
   "execution_count": 2,
   "id": "73745fd0-9df8-4f95-b58e-843c958840ac",
   "metadata": {
    "execution": {
     "iopub.execute_input": "2025-09-02T06:40:05.234927Z",
     "iopub.status.busy": "2025-09-02T06:40:05.234666Z",
     "iopub.status.idle": "2025-09-02T06:40:06.556890Z",
     "shell.execute_reply": "2025-09-02T06:40:06.556024Z",
     "shell.execute_reply.started": "2025-09-02T06:40:05.234901Z"
    }
   },
   "outputs": [
    {
     "name": "stdout",
     "output_type": "stream",
     "text": [
      "Name: boto3\n",
      "Version: 1.37.1\n",
      "Summary: The AWS SDK for Python\n",
      "Home-page: https://github.com/boto/boto3\n",
      "Author: Amazon Web Services\n",
      "Author-email: \n",
      "License: Apache License 2.0\n",
      "Location: /opt/conda/lib/python3.12/site-packages\n",
      "Requires: botocore, jmespath, s3transfer\n",
      "Required-by: amazon-q-developer-jupyterlab-ext, amazon-sagemaker-sql-editor, amazon-sagemaker-sql-execution, amazon_sagemaker_jupyter_ai_q_developer, autogluon.common, autogluon.core, autogluon.multimodal, aws-glue-sessions, langchain-aws, PyAthena, redshift_connector, sagemaker, sagemaker-core, sagemaker-jupyterlab-extension-common, sagemaker-kernel-wrapper, sagemaker-mlflow, sagemaker-studio-analytics-extension, sagemaker-studio-dataengineering-extensions, sagemaker-studio-dataengineering-sessions, sagemaker_studio, sagemaker_studio_sparkmagic_lib, snowflake-connector-python, strands-agents\n",
      "Note: you may need to restart the kernel to use updated packages.\n"
     ]
    }
   ],
   "source": [
    "%pip show boto3"
   ]
  },
  {
   "cell_type": "markdown",
   "id": "8ef228e7-54c0-4925-8c06-6d172ab3286c",
   "metadata": {},
   "source": [
    "#### Import required libraries"
   ]
  },
  {
   "cell_type": "code",
   "execution_count": 3,
   "id": "ae4b0cf3-76bf-4287-9b40-cc14566ebf8b",
   "metadata": {
    "execution": {
     "iopub.execute_input": "2025-09-02T06:40:06.558293Z",
     "iopub.status.busy": "2025-09-02T06:40:06.557745Z",
     "iopub.status.idle": "2025-09-02T06:40:07.152217Z",
     "shell.execute_reply": "2025-09-02T06:40:07.151582Z",
     "shell.execute_reply.started": "2025-09-02T06:40:06.558266Z"
    }
   },
   "outputs": [],
   "source": [
    "import boto3\n",
    "import json\n",
    "import time\n",
    "import uuid\n",
    "import os\n",
    "from typing import Dict, Any, Optional\n",
    "from strands import Agent, tool\n",
    "from strands.models import BedrockModel\n",
    "from urllib.parse import urlparse\n",
    "\n",
    "# Get AWS account information\n",
    "sts_client = boto3.client('sts')\n",
    "account_id = sts_client.get_caller_identity()['Account']\n",
    "region = boto3.Session().region_name"
   ]
  },
  {
   "cell_type": "markdown",
   "id": "8c5ecfce-78c8-4721-a4e6-35a7745d8871",
   "metadata": {
    "tags": []
   },
   "source": [
    "## Prerequisites\n",
    "\n",
    "Run through the notebook environment setup in [00-setup_environment.ipynb](00-setup_environment.ipynb).\n",
    "\n",
    "Also ensure you have deployed the protein design CloudFormation stack from `stacks/protein_design_stack.yaml`"
   ]
  },
  {
   "cell_type": "markdown",
   "id": "setup-lambda",
   "metadata": {},
   "source": [
    "#### Setup AWS clients and configuration\n",
    "Define the clients to AWS services that will be used by tools."
   ]
  },
  {
   "cell_type": "code",
   "execution_count": 4,
   "id": "lambda-config",
   "metadata": {
    "execution": {
     "iopub.execute_input": "2025-09-02T06:40:07.153661Z",
     "iopub.status.busy": "2025-09-02T06:40:07.153356Z",
     "iopub.status.idle": "2025-09-02T06:40:07.221543Z",
     "shell.execute_reply": "2025-09-02T06:40:07.220861Z",
     "shell.execute_reply.started": "2025-09-02T06:40:07.153641Z"
    }
   },
   "outputs": [
    {
     "name": "stdout",
     "output_type": "stream",
     "text": [
      "Region: us-west-2\n",
      "Account ID: 664263524008\n"
     ]
    }
   ],
   "source": [
    "# Initialize AWS clients\n",
    "bedrock_client = boto3.client('bedrock-runtime', region_name=region)\n",
    "omics_client = boto3.client('omics')\n",
    "s3_client = boto3.client('s3')\n",
    "\n",
    "# Configuration - Update these values based on your CloudFormation stack outputs\n",
    "STACK_NAME = 'protein-design-stack'  # Your CloudFormation stack name\n",
    "DEFAULT_WORKFLOW_ID = None  # Will be retrieved from stack outputs\n",
    "DEFAULT_ROLE_ARN = None     # Will be retrieved from stack outputs\n",
    "DEFAULT_S3_BUCKET = None    # Will be retrieved from stack outputs\n",
    "\n",
    "print(f\"Region: {region}\")\n",
    "print(f\"Account ID: {account_id}\")"
   ]
  },
  {
   "cell_type": "markdown",
   "id": "get-stack-outputs",
   "metadata": {},
   "source": [
    "#### Get CloudFormation stack outputs"
   ]
  },
  {
   "cell_type": "code",
   "execution_count": 5,
   "id": "stack-outputs",
   "metadata": {
    "execution": {
     "iopub.execute_input": "2025-09-02T06:40:08.851372Z",
     "iopub.status.busy": "2025-09-02T06:40:08.850023Z",
     "iopub.status.idle": "2025-09-02T06:40:08.949490Z",
     "shell.execute_reply": "2025-09-02T06:40:08.948755Z",
     "shell.execute_reply.started": "2025-09-02T06:40:08.851072Z"
    }
   },
   "outputs": [
    {
     "name": "stdout",
     "output_type": "stream",
     "text": [
      "Workflow ID: 1024576\n",
      "Role ARN: arn:aws:iam::664263524008:role/protein-design-stack-WorkflowExecutionRole-QppAFVfXxcAy\n",
      "S3 Bucket: protein-c776afefa57d4cc09a98ec589dd3376a\n"
     ]
    }
   ],
   "source": [
    "# Get CloudFormation stack outputs\n",
    "cf_client = boto3.client('cloudformation')\n",
    "\n",
    "try:\n",
    "    response = cf_client.describe_stacks(StackName=STACK_NAME)\n",
    "    stack = response['Stacks'][0]\n",
    "\n",
    "    # Get from outputs\n",
    "    outputs = stack.get('Outputs', [])\n",
    "    for output in outputs:\n",
    "        key = output['OutputKey']\n",
    "        value = output['OutputValue']\n",
    "        if key == 'WorkflowId':\n",
    "            DEFAULT_WORKFLOW_ID = value\n",
    "        elif key == 'WorkflowExecutionRoleArn':\n",
    "            DEFAULT_ROLE_ARN = value\n",
    "            \n",
    "    parameters = stack.get('Parameters', [])\n",
    "    for param in parameters:\n",
    "        if param['ParameterKey'] == 'S3BucketName':\n",
    "            DEFAULT_S3_BUCKET = param['ParameterValue']\n",
    "            break\n",
    "    \n",
    "    print(f\"Workflow ID: {DEFAULT_WORKFLOW_ID}\")\n",
    "    print(f\"Role ARN: {DEFAULT_ROLE_ARN}\")\n",
    "    print(f\"S3 Bucket: {DEFAULT_S3_BUCKET}\")\n",
    "    \n",
    "except Exception as e:\n",
    "    print(f\"Error getting stack outputs: {e}\")\n",
    "    print(\"Please update the configuration variables manually\")"
   ]
  },
  {
   "cell_type": "markdown",
   "id": "96053d0a-6dfd-4623-aea4-d7eaedc6dc63",
   "metadata": {
    "tags": []
   },
   "source": [
    "# Strands Agent Creation\n",
    "In this section we create the agent using the Strands framework"
   ]
  },
  {
   "cell_type": "markdown",
   "id": "3e974c4f-200d-499a-ba94-70de02a88486",
   "metadata": {},
   "source": [
    "#### Define agent configuration and instructions"
   ]
  },
  {
   "cell_type": "code",
   "execution_count": 6,
   "id": "11e88b67-5f84-45be-90af-673c11730230",
   "metadata": {
    "execution": {
     "iopub.execute_input": "2025-09-02T06:40:14.892452Z",
     "iopub.status.busy": "2025-09-02T06:40:14.892070Z",
     "iopub.status.idle": "2025-09-02T06:40:14.896371Z",
     "shell.execute_reply": "2025-09-02T06:40:14.895622Z",
     "shell.execute_reply.started": "2025-09-02T06:40:14.892428Z"
    }
   },
   "outputs": [],
   "source": [
    "protein_agent_name = 'Protein-Design-Agent-Strands'\n",
    "protein_agent_description = \"Protein design and optimization agent using AWS HealthOmics workflows with Strands framework\"\n",
    "protein_agent_instruction = \"\"\"\n",
    "You are a protein design specialist AI that helps researchers optimize protein sequences using directed evolution algorithms.\n",
    "You can trigger AWS HealthOmics workflows to perform protein sequence optimization and monitor their progress.\n",
    "\n",
    "Your capabilities include:\n",
    "1. Starting protein design optimization workflows with custom parameters\n",
    "2. Monitoring the status of running workflows\n",
    "3. Retrieving and analyzing results from completed optimizations\n",
    "\n",
    "When working with protein sequences:\n",
    "- Validate that sequences contain only valid amino acid letters\n",
    "- Provide clear explanations of the optimization process\n",
    "- Help users understand the results and their implications\n",
    "\n",
    "Always be helpful and provide detailed information about the protein design process.\n",
    "\"\"\""
   ]
  },
  {
   "cell_type": "markdown",
   "id": "lambda-tools",
   "metadata": {},
   "source": [
    "#### Define tools for Strands agent\n",
    "These tools will invoke AWS HealthOmics workflows for protein design operations"
   ]
  },
  {
   "cell_type": "code",
   "execution_count": 7,
   "id": "create-tools",
   "metadata": {
    "execution": {
     "iopub.execute_input": "2025-09-02T06:40:21.949608Z",
     "iopub.status.busy": "2025-09-02T06:40:21.949008Z",
     "iopub.status.idle": "2025-09-02T06:40:21.995076Z",
     "shell.execute_reply": "2025-09-02T06:40:21.994318Z",
     "shell.execute_reply.started": "2025-09-02T06:40:21.949582Z"
    }
   },
   "outputs": [
    {
     "name": "stdout",
     "output_type": "stream",
     "text": [
      "Tools imported successfully:\n",
      "- trigger_aho_workflow: Trigger the AWS HealthOmics workflow for protein design optimization\n",
      "- monitor_aho_workflow: Monitor the status of a running AWS HealthOmics workflow and retrieve results when complete\n"
     ]
    }
   ],
   "source": [
    "# Import the updated tools that match the Bedrock agent action groups\n",
    "from protein_design_tools import trigger_aho_workflow, monitor_aho_workflow\n",
    "\n",
    "# Set environment variables for the tools to use\n",
    "#import os\n",
    "#os.environ['DEFAULT_WORKFLOW_ID'] = DEFAULT_WORKFLOW_ID\n",
    "#os.environ['DEFAULT_ROLE_ARN'] = DEFAULT_ROLE_ARN\n",
    "#os.environ['DEFAULT_S3_BUCKET'] = DEFAULT_S3_BUCKET\n",
    "\n",
    "print(\"Tools imported successfully:\")\n",
    "print(f\"- trigger_aho_workflow: {trigger_aho_workflow.__doc__.split('Args:')[0].strip()}\")\n",
    "print(f\"- monitor_aho_workflow: {monitor_aho_workflow.__doc__.split('Args:')[0].strip()}\")"
   ]
  },
  {
   "cell_type": "markdown",
   "id": "create-agent",
   "metadata": {},
   "source": [
    "#### Create the Strands Agent"
   ]
  },
  {
   "cell_type": "code",
   "execution_count": 9,
   "id": "agent-creation",
   "metadata": {
    "execution": {
     "iopub.execute_input": "2025-09-02T06:40:35.251123Z",
     "iopub.status.busy": "2025-09-02T06:40:35.250331Z",
     "iopub.status.idle": "2025-09-02T06:40:35.320369Z",
     "shell.execute_reply": "2025-09-02T06:40:35.319687Z",
     "shell.execute_reply.started": "2025-09-02T06:40:35.251098Z"
    }
   },
   "outputs": [
    {
     "name": "stdout",
     "output_type": "stream",
     "text": [
      "Created Protein Design Agent with Strands framework\n"
     ]
    }
   ],
   "source": [
    "# Create the Bedrock model\n",
    "model = BedrockModel(\n",
    "    model_id=\"anthropic.claude-3-5-sonnet-20241022-v2:0\",\n",
    "    client=bedrock_client\n",
    ")\n",
    "\n",
    "# Create the agent with tools that match the Bedrock agent action groups\n",
    "protein_agent = Agent(\n",
    "    system_prompt=protein_agent_instruction,\n",
    "    model=model,\n",
    "    tools=[trigger_aho_workflow, monitor_aho_workflow]\n",
    ")\n",
    "\n",
    "print(f\"Created Protein Design Agent with Strands framework\")"
   ]
  },
  {
   "cell_type": "markdown",
   "id": "test-agent",
   "metadata": {},
   "source": [
    "# Test the Agent\n",
    "Let's test the protein design agent with some example queries"
   ]
  },
  {
   "cell_type": "code",
   "execution_count": 10,
   "id": "b4a2ad65-4951-41fd-acb8-232132197786",
   "metadata": {
    "execution": {
     "iopub.execute_input": "2025-09-02T06:40:37.246115Z",
     "iopub.status.busy": "2025-09-02T06:40:37.245461Z",
     "iopub.status.idle": "2025-09-02T06:40:37.253983Z",
     "shell.execute_reply": "2025-09-02T06:40:37.253177Z",
     "shell.execute_reply.started": "2025-09-02T06:40:37.246083Z"
    }
   },
   "outputs": [],
   "source": [
    "#https://strandsagents.com/latest/documentation/docs/user-guide/observability-evaluation/logs/\n",
    "import logging\n",
    "\n",
    "# Configure the root strands logger\n",
    "logging.getLogger(\"strands\").setLevel(logging.DEBUG)\n",
    "\n",
    "# Add a handler to see the logs\n",
    "logging.basicConfig(\n",
    "    format=\"%(levelname)s | %(name)s | %(message)s\", \n",
    "    handlers=[logging.StreamHandler()]\n",
    ")"
   ]
  },
  {
   "cell_type": "markdown",
   "id": "test-1",
   "metadata": {},
   "source": [
    "#### Test 1: Start a protein optimization"
   ]
  },
  {
   "cell_type": "code",
   "execution_count": 11,
   "id": "test-optimization",
   "metadata": {
    "execution": {
     "iopub.execute_input": "2025-09-02T06:40:37.846241Z",
     "iopub.status.busy": "2025-09-02T06:40:37.845869Z",
     "iopub.status.idle": "2025-09-02T06:40:52.547840Z",
     "shell.execute_reply": "2025-09-02T06:40:52.547223Z",
     "shell.execute_reply.started": "2025-09-02T06:40:37.846217Z"
    }
   },
   "outputs": [
    {
     "name": "stderr",
     "output_type": "stream",
     "text": [
      "DEBUG | strands.tools.registry | getting tool configurations\n",
      "DEBUG | strands.tools.registry | tool_name=<trigger_aho_workflow> | loaded tool config\n",
      "DEBUG | strands.tools.registry | tool_name=<monitor_aho_workflow> | loaded tool config\n",
      "DEBUG | strands.tools.registry | tool_count=<2> | tools configured\n",
      "INFO | strands.telemetry.metrics | Creating Strands MetricsClient\n",
      "DEBUG | strands.tools.registry | getting tool configurations\n",
      "DEBUG | strands.tools.registry | tool_name=<trigger_aho_workflow> | loaded tool config\n",
      "DEBUG | strands.tools.registry | tool_name=<monitor_aho_workflow> | loaded tool config\n",
      "DEBUG | strands.tools.registry | tool_count=<2> | tools configured\n",
      "DEBUG | strands.event_loop.streaming | model=<<strands.models.bedrock.BedrockModel object at 0x7fc953e3b0b0>> | streaming messages\n",
      "DEBUG | strands.models.bedrock | formatting request\n",
      "DEBUG | strands.models.bedrock | request=<{'modelId': 'anthropic.claude-3-5-sonnet-20241022-v2:0', 'messages': [{'content': [{'text': 'Can you optimize this protein sequence: EVQLVETGGGLVQPGGSLRLSCAASGFTLNSYGISWVRQAPGKGPEWVSVIYSDGRRTFYGDSVKGRFTISRDTSTNTVYLQMNSLRVEDTAVYYCAKGRAAGTFDSWGQGTLVTVSS'}], 'role': 'user'}], 'system': [{'text': '\\nYou are a protein design specialist AI that helps researchers optimize protein sequences using directed evolution algorithms.\\nYou can trigger AWS HealthOmics workflows to perform protein sequence optimization and monitor their progress.\\n\\nYour capabilities include:\\n1. Starting protein design optimization workflows with custom parameters\\n2. Monitoring the status of running workflows\\n3. Retrieving and analyzing results from completed optimizations\\n\\nWhen working with protein sequences:\\n- Validate that sequences contain only valid amino acid letters\\n- Provide clear explanations of the optimization process\\n- Help users understand the results and their implications\\n\\nAlways be helpful and provide detailed information about the protein design process.\\n'}], 'toolConfig': {'tools': [{'toolSpec': {'name': 'trigger_aho_workflow', 'description': \"Trigger the AWS HealthOmics workflow for protein design optimization\\n\\nArgs:\\n    seed_sequence: The input protein sequence to optimize\\n    runName: Name for the workflow run (optional)\\n    outputUri: S3 URI where the workflow outputs will be stored (optional)\\n    esm_model_files: S3 directory storing ESM pLM model files (optional)\\n    onehotcnn_model_files: S3 directory storing Onehot CNN predictor model files (optional)\\n    output_type: Output type, can be 'best', 'last', or 'all' variants (optional)\\n    parallel_chains: Number of MCMC chains to run in parallel (optional)\\n    n_steps: Number of MCMC steps per chain (optional)\\n    max_mutations: Maximum number of mutations per variant (optional)\\n\\nReturns:\\n    String with workflow run information\", 'inputSchema': {'json': {'properties': {'seed_sequence': {'description': 'The input protein sequence to optimize', 'type': 'string'}, 'runName': {'default': None, 'description': 'Name for the workflow run (optional)', 'type': 'string'}, 'outputUri': {'default': None, 'description': 'S3 URI where the workflow outputs will be stored (optional)', 'type': 'string'}, 'esm_model_files': {'default': None, 'description': 'S3 directory storing ESM pLM model files (optional)', 'type': 'string'}, 'onehotcnn_model_files': {'default': None, 'description': 'S3 directory storing Onehot CNN predictor model files (optional)', 'type': 'string'}, 'output_type': {'default': None, 'description': \"Output type, can be 'best', 'last', or 'all' variants (optional)\", 'type': 'string'}, 'parallel_chains': {'default': None, 'description': 'Number of MCMC chains to run in parallel (optional)', 'type': 'string'}, 'n_steps': {'default': None, 'description': 'Number of MCMC steps per chain (optional)', 'type': 'string'}, 'max_mutations': {'default': None, 'description': 'Maximum number of mutations per variant (optional)', 'type': 'string'}}, 'required': ['seed_sequence'], 'type': 'object'}}}}, {'toolSpec': {'name': 'monitor_aho_workflow', 'description': 'Monitor the status of a running AWS HealthOmics workflow and retrieve results when complete\\n\\nArgs:\\n    runId: The ID of the HealthOmics workflow run to monitor\\n    waitForCompletion: Whether to wait for the workflow to complete before returning (optional, defaults to True)\\n    pollIntervalSeconds: Time between status checks in seconds (optional, defaults to 30)\\n    maxWaitTimeMinutes: Maximum time to wait for workflow completion in minutes (optional, defaults to 30)\\n\\nReturns:\\n    String with workflow status and results if completed', 'inputSchema': {'json': {'properties': {'runId': {'description': 'The ID of the HealthOmics workflow run to monitor', 'type': 'string'}, 'waitForCompletion': {'default': None, 'description': 'Whether to wait for the workflow to complete before returning (optional, defaults to True)', 'type': 'boolean'}, 'pollIntervalSeconds': {'default': None, 'description': 'Time between status checks in seconds (optional, defaults to 30)', 'type': 'integer'}, 'maxWaitTimeMinutes': {'default': None, 'description': 'Maximum time to wait for workflow completion in minutes (optional, defaults to 30)', 'type': 'integer'}}, 'required': ['runId'], 'type': 'object'}}}}], 'toolChoice': {'auto': {}}}, 'inferenceConfig': {}}>\n",
      "DEBUG | strands.models.bedrock | invoking model\n",
      "DEBUG | strands.models.bedrock | got response from model\n"
     ]
    },
    {
     "name": "stdout",
     "output_type": "stream",
     "text": [
      "Query: Can you optimize this protein sequence: EVQLVETGGGLVQPGGSLRLSCAASGFTLNSYGISWVRQAPGKGPEWVSVIYSDGRRTFYGDSVKGRFTISRDTSTNTVYLQMNSLRVEDTAVYYCAKGRAAGTFDSWGQGTLVTVSS\n",
      "\n",
      "Response:\n",
      "I'll help you optimize this protein sequence using the AWS HealthOmics workflow. I'll first verify the sequence:\n",
      "\n",
      "The sequence appears to be valid, containing only standard amino acid letters. It's 121 amino acids long and appears to be an antibody variable domain sequence.\n",
      "\n",
      "I'll trigger the optimization workflow using this sequence as the seed sequence. Since no specific parameters were provided, I'll use the default settings for the optional parameters.\n",
      "Tool #1: trigger_aho_workflow\n"
     ]
    },
    {
     "name": "stderr",
     "output_type": "stream",
     "text": [
      "DEBUG | strands.models.bedrock | finished streaming response from model\n",
      "DEBUG | strands.tools.executors._executor | tool_use=<{'toolUseId': 'tooluse_9Eit15z1SCyMTZQ4ACnakA', 'name': 'trigger_aho_workflow', 'input': {'seed_sequence': 'EVQLVETGGGLVQPGGSLRLSCAASGFTLNSYGISWVRQAPGKGPEWVSVIYSDGRRTFYGDSVKGRFTISRDTSTNTVYLQMNSLRVEDTAVYYCAKGRAAGTFDSWGQGTLVTVSS'}}> | streaming\n",
      "DEBUG | strands.tools.registry | getting tool configurations\n",
      "DEBUG | strands.tools.registry | tool_name=<trigger_aho_workflow> | loaded tool config\n",
      "DEBUG | strands.tools.registry | tool_name=<monitor_aho_workflow> | loaded tool config\n",
      "DEBUG | strands.tools.registry | tool_count=<2> | tools configured\n",
      "DEBUG | strands.tools.registry | getting tool configurations\n",
      "DEBUG | strands.tools.registry | tool_name=<trigger_aho_workflow> | loaded tool config\n",
      "DEBUG | strands.tools.registry | tool_name=<monitor_aho_workflow> | loaded tool config\n",
      "DEBUG | strands.tools.registry | tool_count=<2> | tools configured\n",
      "DEBUG | strands.event_loop.streaming | model=<<strands.models.bedrock.BedrockModel object at 0x7fc953e3b0b0>> | streaming messages\n",
      "DEBUG | strands.models.bedrock | formatting request\n",
      "DEBUG | strands.models.bedrock | request=<{'modelId': 'anthropic.claude-3-5-sonnet-20241022-v2:0', 'messages': [{'content': [{'text': 'Can you optimize this protein sequence: EVQLVETGGGLVQPGGSLRLSCAASGFTLNSYGISWVRQAPGKGPEWVSVIYSDGRRTFYGDSVKGRFTISRDTSTNTVYLQMNSLRVEDTAVYYCAKGRAAGTFDSWGQGTLVTVSS'}], 'role': 'user'}, {'content': [{'text': \"I'll help you optimize this protein sequence using the AWS HealthOmics workflow. I'll first verify the sequence:\\n\\nThe sequence appears to be valid, containing only standard amino acid letters. It's 121 amino acids long and appears to be an antibody variable domain sequence.\\n\\nI'll trigger the optimization workflow using this sequence as the seed sequence. Since no specific parameters were provided, I'll use the default settings for the optional parameters.\"}, {'toolUse': {'toolUseId': 'tooluse_9Eit15z1SCyMTZQ4ACnakA', 'name': 'trigger_aho_workflow', 'input': {'seed_sequence': 'EVQLVETGGGLVQPGGSLRLSCAASGFTLNSYGISWVRQAPGKGPEWVSVIYSDGRRTFYGDSVKGRFTISRDTSTNTVYLQMNSLRVEDTAVYYCAKGRAAGTFDSWGQGTLVTVSS'}}}], 'role': 'assistant'}, {'content': [{'toolResult': {'content': [{'text': \"Successfully started protein optimization workflow.\\n\\nRun ID: 6408075\\nStatus: PENDING\\nOutput URI: s3://protein-c776afefa57d4cc09a98ec589dd3376a/outputs/workflow-run-2d3a0669/\\n\\nOptimization parameters:\\n- Seed sequence: EVQLVETGGGLVQPGGSLRL... (118 amino acids)\\n- Parallel chains: 10\\n- Steps per chain: 100\\n- Max mutations: 15\\n- Output type: all\\n\\nYou can check the status later by asking me to 'monitor workflow run 6408075'\"}], 'toolUseId': 'tooluse_9Eit15z1SCyMTZQ4ACnakA', 'status': 'success'}}], 'role': 'user'}], 'system': [{'text': '\\nYou are a protein design specialist AI that helps researchers optimize protein sequences using directed evolution algorithms.\\nYou can trigger AWS HealthOmics workflows to perform protein sequence optimization and monitor their progress.\\n\\nYour capabilities include:\\n1. Starting protein design optimization workflows with custom parameters\\n2. Monitoring the status of running workflows\\n3. Retrieving and analyzing results from completed optimizations\\n\\nWhen working with protein sequences:\\n- Validate that sequences contain only valid amino acid letters\\n- Provide clear explanations of the optimization process\\n- Help users understand the results and their implications\\n\\nAlways be helpful and provide detailed information about the protein design process.\\n'}], 'toolConfig': {'tools': [{'toolSpec': {'name': 'trigger_aho_workflow', 'description': \"Trigger the AWS HealthOmics workflow for protein design optimization\\n\\nArgs:\\n    seed_sequence: The input protein sequence to optimize\\n    runName: Name for the workflow run (optional)\\n    outputUri: S3 URI where the workflow outputs will be stored (optional)\\n    esm_model_files: S3 directory storing ESM pLM model files (optional)\\n    onehotcnn_model_files: S3 directory storing Onehot CNN predictor model files (optional)\\n    output_type: Output type, can be 'best', 'last', or 'all' variants (optional)\\n    parallel_chains: Number of MCMC chains to run in parallel (optional)\\n    n_steps: Number of MCMC steps per chain (optional)\\n    max_mutations: Maximum number of mutations per variant (optional)\\n\\nReturns:\\n    String with workflow run information\", 'inputSchema': {'json': {'properties': {'seed_sequence': {'description': 'The input protein sequence to optimize', 'type': 'string'}, 'runName': {'default': None, 'description': 'Name for the workflow run (optional)', 'type': 'string'}, 'outputUri': {'default': None, 'description': 'S3 URI where the workflow outputs will be stored (optional)', 'type': 'string'}, 'esm_model_files': {'default': None, 'description': 'S3 directory storing ESM pLM model files (optional)', 'type': 'string'}, 'onehotcnn_model_files': {'default': None, 'description': 'S3 directory storing Onehot CNN predictor model files (optional)', 'type': 'string'}, 'output_type': {'default': None, 'description': \"Output type, can be 'best', 'last', or 'all' variants (optional)\", 'type': 'string'}, 'parallel_chains': {'default': None, 'description': 'Number of MCMC chains to run in parallel (optional)', 'type': 'string'}, 'n_steps': {'default': None, 'description': 'Number of MCMC steps per chain (optional)', 'type': 'string'}, 'max_mutations': {'default': None, 'description': 'Maximum number of mutations per variant (optional)', 'type': 'string'}}, 'required': ['seed_sequence'], 'type': 'object'}}}}, {'toolSpec': {'name': 'monitor_aho_workflow', 'description': 'Monitor the status of a running AWS HealthOmics workflow and retrieve results when complete\\n\\nArgs:\\n    runId: The ID of the HealthOmics workflow run to monitor\\n    waitForCompletion: Whether to wait for the workflow to complete before returning (optional, defaults to True)\\n    pollIntervalSeconds: Time between status checks in seconds (optional, defaults to 30)\\n    maxWaitTimeMinutes: Maximum time to wait for workflow completion in minutes (optional, defaults to 30)\\n\\nReturns:\\n    String with workflow status and results if completed', 'inputSchema': {'json': {'properties': {'runId': {'description': 'The ID of the HealthOmics workflow run to monitor', 'type': 'string'}, 'waitForCompletion': {'default': None, 'description': 'Whether to wait for the workflow to complete before returning (optional, defaults to True)', 'type': 'boolean'}, 'pollIntervalSeconds': {'default': None, 'description': 'Time between status checks in seconds (optional, defaults to 30)', 'type': 'integer'}, 'maxWaitTimeMinutes': {'default': None, 'description': 'Maximum time to wait for workflow completion in minutes (optional, defaults to 30)', 'type': 'integer'}}, 'required': ['runId'], 'type': 'object'}}}}], 'toolChoice': {'auto': {}}}, 'inferenceConfig': {}}>\n",
      "DEBUG | strands.models.bedrock | invoking model\n",
      "DEBUG | strands.models.bedrock | got response from model\n"
     ]
    },
    {
     "name": "stdout",
     "output_type": "stream",
     "text": [
      "The workflow has been successfully started. I'll now monitor its progress to check the status and retrieve results when it's complete.\n",
      "Tool #2: monitor_aho_workflow\n"
     ]
    },
    {
     "name": "stderr",
     "output_type": "stream",
     "text": [
      "DEBUG | strands.models.bedrock | finished streaming response from model\n",
      "DEBUG | strands.tools.executors._executor | tool_use=<{'toolUseId': 'tooluse_AgA1IVlHRqOeDz8b8pfEXg', 'name': 'monitor_aho_workflow', 'input': {'runId': '6408075'}}> | streaming\n",
      "DEBUG | strands.tools.registry | getting tool configurations\n",
      "DEBUG | strands.tools.registry | tool_name=<trigger_aho_workflow> | loaded tool config\n",
      "DEBUG | strands.tools.registry | tool_name=<monitor_aho_workflow> | loaded tool config\n",
      "DEBUG | strands.tools.registry | tool_count=<2> | tools configured\n",
      "DEBUG | strands.tools.registry | getting tool configurations\n",
      "DEBUG | strands.tools.registry | tool_name=<trigger_aho_workflow> | loaded tool config\n",
      "DEBUG | strands.tools.registry | tool_name=<monitor_aho_workflow> | loaded tool config\n",
      "DEBUG | strands.tools.registry | tool_count=<2> | tools configured\n",
      "DEBUG | strands.event_loop.streaming | model=<<strands.models.bedrock.BedrockModel object at 0x7fc953e3b0b0>> | streaming messages\n",
      "DEBUG | strands.models.bedrock | formatting request\n",
      "DEBUG | strands.models.bedrock | request=<{'modelId': 'anthropic.claude-3-5-sonnet-20241022-v2:0', 'messages': [{'content': [{'text': 'Can you optimize this protein sequence: EVQLVETGGGLVQPGGSLRLSCAASGFTLNSYGISWVRQAPGKGPEWVSVIYSDGRRTFYGDSVKGRFTISRDTSTNTVYLQMNSLRVEDTAVYYCAKGRAAGTFDSWGQGTLVTVSS'}], 'role': 'user'}, {'content': [{'text': \"I'll help you optimize this protein sequence using the AWS HealthOmics workflow. I'll first verify the sequence:\\n\\nThe sequence appears to be valid, containing only standard amino acid letters. It's 121 amino acids long and appears to be an antibody variable domain sequence.\\n\\nI'll trigger the optimization workflow using this sequence as the seed sequence. Since no specific parameters were provided, I'll use the default settings for the optional parameters.\"}, {'toolUse': {'toolUseId': 'tooluse_9Eit15z1SCyMTZQ4ACnakA', 'name': 'trigger_aho_workflow', 'input': {'seed_sequence': 'EVQLVETGGGLVQPGGSLRLSCAASGFTLNSYGISWVRQAPGKGPEWVSVIYSDGRRTFYGDSVKGRFTISRDTSTNTVYLQMNSLRVEDTAVYYCAKGRAAGTFDSWGQGTLVTVSS'}}}], 'role': 'assistant'}, {'content': [{'toolResult': {'content': [{'text': \"Successfully started protein optimization workflow.\\n\\nRun ID: 6408075\\nStatus: PENDING\\nOutput URI: s3://protein-c776afefa57d4cc09a98ec589dd3376a/outputs/workflow-run-2d3a0669/\\n\\nOptimization parameters:\\n- Seed sequence: EVQLVETGGGLVQPGGSLRL... (118 amino acids)\\n- Parallel chains: 10\\n- Steps per chain: 100\\n- Max mutations: 15\\n- Output type: all\\n\\nYou can check the status later by asking me to 'monitor workflow run 6408075'\"}], 'toolUseId': 'tooluse_9Eit15z1SCyMTZQ4ACnakA', 'status': 'success'}}], 'role': 'user'}, {'content': [{'text': \"The workflow has been successfully started. I'll now monitor its progress to check the status and retrieve results when it's complete.\"}, {'toolUse': {'toolUseId': 'tooluse_AgA1IVlHRqOeDz8b8pfEXg', 'name': 'monitor_aho_workflow', 'input': {'runId': '6408075'}}}], 'role': 'assistant'}, {'content': [{'toolResult': {'content': [{'text': \"Run ID: 6408075\\nCurrent Status: PENDING\\nRun Name: workflow-run-2d3a0669\\n\\nThe workflow is still running. You can check again later with the same run ID.\\nTo check again, ask me to 'monitor workflow run 6408075'.\"}], 'toolUseId': 'tooluse_AgA1IVlHRqOeDz8b8pfEXg', 'status': 'success'}}], 'role': 'user'}], 'system': [{'text': '\\nYou are a protein design specialist AI that helps researchers optimize protein sequences using directed evolution algorithms.\\nYou can trigger AWS HealthOmics workflows to perform protein sequence optimization and monitor their progress.\\n\\nYour capabilities include:\\n1. Starting protein design optimization workflows with custom parameters\\n2. Monitoring the status of running workflows\\n3. Retrieving and analyzing results from completed optimizations\\n\\nWhen working with protein sequences:\\n- Validate that sequences contain only valid amino acid letters\\n- Provide clear explanations of the optimization process\\n- Help users understand the results and their implications\\n\\nAlways be helpful and provide detailed information about the protein design process.\\n'}], 'toolConfig': {'tools': [{'toolSpec': {'name': 'trigger_aho_workflow', 'description': \"Trigger the AWS HealthOmics workflow for protein design optimization\\n\\nArgs:\\n    seed_sequence: The input protein sequence to optimize\\n    runName: Name for the workflow run (optional)\\n    outputUri: S3 URI where the workflow outputs will be stored (optional)\\n    esm_model_files: S3 directory storing ESM pLM model files (optional)\\n    onehotcnn_model_files: S3 directory storing Onehot CNN predictor model files (optional)\\n    output_type: Output type, can be 'best', 'last', or 'all' variants (optional)\\n    parallel_chains: Number of MCMC chains to run in parallel (optional)\\n    n_steps: Number of MCMC steps per chain (optional)\\n    max_mutations: Maximum number of mutations per variant (optional)\\n\\nReturns:\\n    String with workflow run information\", 'inputSchema': {'json': {'properties': {'seed_sequence': {'description': 'The input protein sequence to optimize', 'type': 'string'}, 'runName': {'default': None, 'description': 'Name for the workflow run (optional)', 'type': 'string'}, 'outputUri': {'default': None, 'description': 'S3 URI where the workflow outputs will be stored (optional)', 'type': 'string'}, 'esm_model_files': {'default': None, 'description': 'S3 directory storing ESM pLM model files (optional)', 'type': 'string'}, 'onehotcnn_model_files': {'default': None, 'description': 'S3 directory storing Onehot CNN predictor model files (optional)', 'type': 'string'}, 'output_type': {'default': None, 'description': \"Output type, can be 'best', 'last', or 'all' variants (optional)\", 'type': 'string'}, 'parallel_chains': {'default': None, 'description': 'Number of MCMC chains to run in parallel (optional)', 'type': 'string'}, 'n_steps': {'default': None, 'description': 'Number of MCMC steps per chain (optional)', 'type': 'string'}, 'max_mutations': {'default': None, 'description': 'Maximum number of mutations per variant (optional)', 'type': 'string'}}, 'required': ['seed_sequence'], 'type': 'object'}}}}, {'toolSpec': {'name': 'monitor_aho_workflow', 'description': 'Monitor the status of a running AWS HealthOmics workflow and retrieve results when complete\\n\\nArgs:\\n    runId: The ID of the HealthOmics workflow run to monitor\\n    waitForCompletion: Whether to wait for the workflow to complete before returning (optional, defaults to True)\\n    pollIntervalSeconds: Time between status checks in seconds (optional, defaults to 30)\\n    maxWaitTimeMinutes: Maximum time to wait for workflow completion in minutes (optional, defaults to 30)\\n\\nReturns:\\n    String with workflow status and results if completed', 'inputSchema': {'json': {'properties': {'runId': {'description': 'The ID of the HealthOmics workflow run to monitor', 'type': 'string'}, 'waitForCompletion': {'default': None, 'description': 'Whether to wait for the workflow to complete before returning (optional, defaults to True)', 'type': 'boolean'}, 'pollIntervalSeconds': {'default': None, 'description': 'Time between status checks in seconds (optional, defaults to 30)', 'type': 'integer'}, 'maxWaitTimeMinutes': {'default': None, 'description': 'Maximum time to wait for workflow completion in minutes (optional, defaults to 30)', 'type': 'integer'}}, 'required': ['runId'], 'type': 'object'}}}}], 'toolChoice': {'auto': {}}}, 'inferenceConfig': {}}>\n",
      "DEBUG | strands.models.bedrock | invoking model\n",
      "DEBUG | strands.models.bedrock | got response from model\n"
     ]
    },
    {
     "name": "stdout",
     "output_type": "stream",
     "text": [
      "The optimization workflow is currently running. This process may take some time as it:\n",
      "1. Uses protein language models to evaluate sequence variants\n",
      "2. Performs parallel MCMC sampling to explore the sequence space\n",
      "3. Optimizes for protein stability and function\n",
      "\n",
      "Once the workflow completes, it will provide optimized sequence variants with potentially improved properties. You can check the status later by asking me to monitor workflow run 6408075. Would you like me to continue monitoring the workflow, or would you prefer to check back later?"
     ]
    },
    {
     "name": "stderr",
     "output_type": "stream",
     "text": [
      "DEBUG | strands.models.bedrock | finished streaming response from model\n",
      "DEBUG | strands.agent.conversation_manager.sliding_window_conversation_manager | message_count=<6>, window_size=<40> | skipping context reduction\n"
     ]
    }
   ],
   "source": [
    "# Test starting a protein optimization\n",
    "test_sequence = \"EVQLVETGGGLVQPGGSLRLSCAASGFTLNSYGISWVRQAPGKGPEWVSVIYSDGRRTFYGDSVKGRFTISRDTSTNTVYLQMNSLRVEDTAVYYCAKGRAAGTFDSWGQGTLVTVSS\"\n",
    "\n",
    "query = f\"Can you optimize this protein sequence: {test_sequence}\"\n",
    "\n",
    "print(\"Query:\", query)\n",
    "\n",
    "try:\n",
    "    # Run the agent\n",
    "    print(\"\\nResponse:\")\n",
    "    protein_agent(query)\n",
    "except Exception as e:\n",
    "    print(f\"Error during agent execution: {e}\")\n",
    "    import traceback\n",
    "    traceback.print_exc()"
   ]
  },
  {
   "cell_type": "markdown",
   "id": "test-2",
   "metadata": {},
   "source": [
    "#### Test 2: Monitor workflow status"
   ]
  },
  {
   "cell_type": "code",
   "execution_count": 13,
   "id": "test-monitor",
   "metadata": {
    "execution": {
     "iopub.execute_input": "2025-09-02T06:52:06.128674Z",
     "iopub.status.busy": "2025-09-02T06:52:06.128042Z",
     "iopub.status.idle": "2025-09-02T06:52:11.629904Z",
     "shell.execute_reply": "2025-09-02T06:52:11.629327Z",
     "shell.execute_reply.started": "2025-09-02T06:52:06.128649Z"
    }
   },
   "outputs": [
    {
     "name": "stderr",
     "output_type": "stream",
     "text": [
      "DEBUG | strands.tools.registry | getting tool configurations\n",
      "DEBUG | strands.tools.registry | tool_name=<trigger_aho_workflow> | loaded tool config\n",
      "DEBUG | strands.tools.registry | tool_name=<monitor_aho_workflow> | loaded tool config\n",
      "DEBUG | strands.tools.registry | tool_count=<2> | tools configured\n",
      "DEBUG | strands.tools.registry | getting tool configurations\n",
      "DEBUG | strands.tools.registry | tool_name=<trigger_aho_workflow> | loaded tool config\n",
      "DEBUG | strands.tools.registry | tool_name=<monitor_aho_workflow> | loaded tool config\n",
      "DEBUG | strands.tools.registry | tool_count=<2> | tools configured\n",
      "DEBUG | strands.event_loop.streaming | model=<<strands.models.bedrock.BedrockModel object at 0x7fc953e3b0b0>> | streaming messages\n",
      "DEBUG | strands.models.bedrock | formatting request\n",
      "DEBUG | strands.models.bedrock | request=<{'modelId': 'anthropic.claude-3-5-sonnet-20241022-v2:0', 'messages': [{'content': [{'text': 'Can you optimize this protein sequence: EVQLVETGGGLVQPGGSLRLSCAASGFTLNSYGISWVRQAPGKGPEWVSVIYSDGRRTFYGDSVKGRFTISRDTSTNTVYLQMNSLRVEDTAVYYCAKGRAAGTFDSWGQGTLVTVSS'}], 'role': 'user'}, {'content': [{'text': \"I'll help you optimize this protein sequence using the AWS HealthOmics workflow. I'll first verify the sequence:\\n\\nThe sequence appears to be valid, containing only standard amino acid letters. It's 121 amino acids long and appears to be an antibody variable domain sequence.\\n\\nI'll trigger the optimization workflow using this sequence as the seed sequence. Since no specific parameters were provided, I'll use the default settings for the optional parameters.\"}, {'toolUse': {'toolUseId': 'tooluse_9Eit15z1SCyMTZQ4ACnakA', 'name': 'trigger_aho_workflow', 'input': {'seed_sequence': 'EVQLVETGGGLVQPGGSLRLSCAASGFTLNSYGISWVRQAPGKGPEWVSVIYSDGRRTFYGDSVKGRFTISRDTSTNTVYLQMNSLRVEDTAVYYCAKGRAAGTFDSWGQGTLVTVSS'}}}], 'role': 'assistant'}, {'content': [{'toolResult': {'content': [{'text': \"Successfully started protein optimization workflow.\\n\\nRun ID: 6408075\\nStatus: PENDING\\nOutput URI: s3://protein-c776afefa57d4cc09a98ec589dd3376a/outputs/workflow-run-2d3a0669/\\n\\nOptimization parameters:\\n- Seed sequence: EVQLVETGGGLVQPGGSLRL... (118 amino acids)\\n- Parallel chains: 10\\n- Steps per chain: 100\\n- Max mutations: 15\\n- Output type: all\\n\\nYou can check the status later by asking me to 'monitor workflow run 6408075'\"}], 'toolUseId': 'tooluse_9Eit15z1SCyMTZQ4ACnakA', 'status': 'success'}}], 'role': 'user'}, {'content': [{'text': \"The workflow has been successfully started. I'll now monitor its progress to check the status and retrieve results when it's complete.\"}, {'toolUse': {'toolUseId': 'tooluse_AgA1IVlHRqOeDz8b8pfEXg', 'name': 'monitor_aho_workflow', 'input': {'runId': '6408075'}}}], 'role': 'assistant'}, {'content': [{'toolResult': {'content': [{'text': \"Run ID: 6408075\\nCurrent Status: PENDING\\nRun Name: workflow-run-2d3a0669\\n\\nThe workflow is still running. You can check again later with the same run ID.\\nTo check again, ask me to 'monitor workflow run 6408075'.\"}], 'toolUseId': 'tooluse_AgA1IVlHRqOeDz8b8pfEXg', 'status': 'success'}}], 'role': 'user'}, {'content': [{'text': 'The optimization workflow is currently running. This process may take some time as it:\\n1. Uses protein language models to evaluate sequence variants\\n2. Performs parallel MCMC sampling to explore the sequence space\\n3. Optimizes for protein stability and function\\n\\nOnce the workflow completes, it will provide optimized sequence variants with potentially improved properties. You can check the status later by asking me to monitor workflow run 6408075. Would you like me to continue monitoring the workflow, or would you prefer to check back later?'}], 'role': 'assistant'}, {'content': [{'text': 'Check the status of workflow run 6408075'}], 'role': 'user'}], 'system': [{'text': '\\nYou are a protein design specialist AI that helps researchers optimize protein sequences using directed evolution algorithms.\\nYou can trigger AWS HealthOmics workflows to perform protein sequence optimization and monitor their progress.\\n\\nYour capabilities include:\\n1. Starting protein design optimization workflows with custom parameters\\n2. Monitoring the status of running workflows\\n3. Retrieving and analyzing results from completed optimizations\\n\\nWhen working with protein sequences:\\n- Validate that sequences contain only valid amino acid letters\\n- Provide clear explanations of the optimization process\\n- Help users understand the results and their implications\\n\\nAlways be helpful and provide detailed information about the protein design process.\\n'}], 'toolConfig': {'tools': [{'toolSpec': {'name': 'trigger_aho_workflow', 'description': \"Trigger the AWS HealthOmics workflow for protein design optimization\\n\\nArgs:\\n    seed_sequence: The input protein sequence to optimize\\n    runName: Name for the workflow run (optional)\\n    outputUri: S3 URI where the workflow outputs will be stored (optional)\\n    esm_model_files: S3 directory storing ESM pLM model files (optional)\\n    onehotcnn_model_files: S3 directory storing Onehot CNN predictor model files (optional)\\n    output_type: Output type, can be 'best', 'last', or 'all' variants (optional)\\n    parallel_chains: Number of MCMC chains to run in parallel (optional)\\n    n_steps: Number of MCMC steps per chain (optional)\\n    max_mutations: Maximum number of mutations per variant (optional)\\n\\nReturns:\\n    String with workflow run information\", 'inputSchema': {'json': {'properties': {'seed_sequence': {'description': 'The input protein sequence to optimize', 'type': 'string'}, 'runName': {'default': None, 'description': 'Name for the workflow run (optional)', 'type': 'string'}, 'outputUri': {'default': None, 'description': 'S3 URI where the workflow outputs will be stored (optional)', 'type': 'string'}, 'esm_model_files': {'default': None, 'description': 'S3 directory storing ESM pLM model files (optional)', 'type': 'string'}, 'onehotcnn_model_files': {'default': None, 'description': 'S3 directory storing Onehot CNN predictor model files (optional)', 'type': 'string'}, 'output_type': {'default': None, 'description': \"Output type, can be 'best', 'last', or 'all' variants (optional)\", 'type': 'string'}, 'parallel_chains': {'default': None, 'description': 'Number of MCMC chains to run in parallel (optional)', 'type': 'string'}, 'n_steps': {'default': None, 'description': 'Number of MCMC steps per chain (optional)', 'type': 'string'}, 'max_mutations': {'default': None, 'description': 'Maximum number of mutations per variant (optional)', 'type': 'string'}}, 'required': ['seed_sequence'], 'type': 'object'}}}}, {'toolSpec': {'name': 'monitor_aho_workflow', 'description': 'Monitor the status of a running AWS HealthOmics workflow and retrieve results when complete\\n\\nArgs:\\n    runId: The ID of the HealthOmics workflow run to monitor\\n    waitForCompletion: Whether to wait for the workflow to complete before returning (optional, defaults to True)\\n    pollIntervalSeconds: Time between status checks in seconds (optional, defaults to 30)\\n    maxWaitTimeMinutes: Maximum time to wait for workflow completion in minutes (optional, defaults to 30)\\n\\nReturns:\\n    String with workflow status and results if completed', 'inputSchema': {'json': {'properties': {'runId': {'description': 'The ID of the HealthOmics workflow run to monitor', 'type': 'string'}, 'waitForCompletion': {'default': None, 'description': 'Whether to wait for the workflow to complete before returning (optional, defaults to True)', 'type': 'boolean'}, 'pollIntervalSeconds': {'default': None, 'description': 'Time between status checks in seconds (optional, defaults to 30)', 'type': 'integer'}, 'maxWaitTimeMinutes': {'default': None, 'description': 'Maximum time to wait for workflow completion in minutes (optional, defaults to 30)', 'type': 'integer'}}, 'required': ['runId'], 'type': 'object'}}}}], 'toolChoice': {'auto': {}}}, 'inferenceConfig': {}}>\n",
      "DEBUG | strands.models.bedrock | invoking model\n",
      "DEBUG | strands.models.bedrock | got response from model\n"
     ]
    },
    {
     "name": "stdout",
     "output_type": "stream",
     "text": [
      "Query: Check the status of workflow run 6408075\n",
      "\n",
      "Response:\n",
      "I'll check the current status of the workflow run 6408075.\n",
      "Tool #3: monitor_aho_workflow\n"
     ]
    },
    {
     "name": "stderr",
     "output_type": "stream",
     "text": [
      "DEBUG | strands.models.bedrock | finished streaming response from model\n",
      "DEBUG | strands.tools.executors._executor | tool_use=<{'toolUseId': 'tooluse_UNCXm2gfQ6WQbnzNQs4cag', 'name': 'monitor_aho_workflow', 'input': {'runId': '6408075'}}> | streaming\n",
      "DEBUG | strands.tools.registry | getting tool configurations\n",
      "DEBUG | strands.tools.registry | tool_name=<trigger_aho_workflow> | loaded tool config\n",
      "DEBUG | strands.tools.registry | tool_name=<monitor_aho_workflow> | loaded tool config\n",
      "DEBUG | strands.tools.registry | tool_count=<2> | tools configured\n",
      "DEBUG | strands.tools.registry | getting tool configurations\n",
      "DEBUG | strands.tools.registry | tool_name=<trigger_aho_workflow> | loaded tool config\n",
      "DEBUG | strands.tools.registry | tool_name=<monitor_aho_workflow> | loaded tool config\n",
      "DEBUG | strands.tools.registry | tool_count=<2> | tools configured\n",
      "DEBUG | strands.event_loop.streaming | model=<<strands.models.bedrock.BedrockModel object at 0x7fc953e3b0b0>> | streaming messages\n",
      "DEBUG | strands.models.bedrock | formatting request\n",
      "DEBUG | strands.models.bedrock | request=<{'modelId': 'anthropic.claude-3-5-sonnet-20241022-v2:0', 'messages': [{'content': [{'text': 'Can you optimize this protein sequence: EVQLVETGGGLVQPGGSLRLSCAASGFTLNSYGISWVRQAPGKGPEWVSVIYSDGRRTFYGDSVKGRFTISRDTSTNTVYLQMNSLRVEDTAVYYCAKGRAAGTFDSWGQGTLVTVSS'}], 'role': 'user'}, {'content': [{'text': \"I'll help you optimize this protein sequence using the AWS HealthOmics workflow. I'll first verify the sequence:\\n\\nThe sequence appears to be valid, containing only standard amino acid letters. It's 121 amino acids long and appears to be an antibody variable domain sequence.\\n\\nI'll trigger the optimization workflow using this sequence as the seed sequence. Since no specific parameters were provided, I'll use the default settings for the optional parameters.\"}, {'toolUse': {'toolUseId': 'tooluse_9Eit15z1SCyMTZQ4ACnakA', 'name': 'trigger_aho_workflow', 'input': {'seed_sequence': 'EVQLVETGGGLVQPGGSLRLSCAASGFTLNSYGISWVRQAPGKGPEWVSVIYSDGRRTFYGDSVKGRFTISRDTSTNTVYLQMNSLRVEDTAVYYCAKGRAAGTFDSWGQGTLVTVSS'}}}], 'role': 'assistant'}, {'content': [{'toolResult': {'content': [{'text': \"Successfully started protein optimization workflow.\\n\\nRun ID: 6408075\\nStatus: PENDING\\nOutput URI: s3://protein-c776afefa57d4cc09a98ec589dd3376a/outputs/workflow-run-2d3a0669/\\n\\nOptimization parameters:\\n- Seed sequence: EVQLVETGGGLVQPGGSLRL... (118 amino acids)\\n- Parallel chains: 10\\n- Steps per chain: 100\\n- Max mutations: 15\\n- Output type: all\\n\\nYou can check the status later by asking me to 'monitor workflow run 6408075'\"}], 'toolUseId': 'tooluse_9Eit15z1SCyMTZQ4ACnakA', 'status': 'success'}}], 'role': 'user'}, {'content': [{'text': \"The workflow has been successfully started. I'll now monitor its progress to check the status and retrieve results when it's complete.\"}, {'toolUse': {'toolUseId': 'tooluse_AgA1IVlHRqOeDz8b8pfEXg', 'name': 'monitor_aho_workflow', 'input': {'runId': '6408075'}}}], 'role': 'assistant'}, {'content': [{'toolResult': {'content': [{'text': \"Run ID: 6408075\\nCurrent Status: PENDING\\nRun Name: workflow-run-2d3a0669\\n\\nThe workflow is still running. You can check again later with the same run ID.\\nTo check again, ask me to 'monitor workflow run 6408075'.\"}], 'toolUseId': 'tooluse_AgA1IVlHRqOeDz8b8pfEXg', 'status': 'success'}}], 'role': 'user'}, {'content': [{'text': 'The optimization workflow is currently running. This process may take some time as it:\\n1. Uses protein language models to evaluate sequence variants\\n2. Performs parallel MCMC sampling to explore the sequence space\\n3. Optimizes for protein stability and function\\n\\nOnce the workflow completes, it will provide optimized sequence variants with potentially improved properties. You can check the status later by asking me to monitor workflow run 6408075. Would you like me to continue monitoring the workflow, or would you prefer to check back later?'}], 'role': 'assistant'}, {'content': [{'text': 'Check the status of workflow run 6408075'}], 'role': 'user'}, {'content': [{'text': \"I'll check the current status of the workflow run 6408075.\"}, {'toolUse': {'toolUseId': 'tooluse_UNCXm2gfQ6WQbnzNQs4cag', 'name': 'monitor_aho_workflow', 'input': {'runId': '6408075'}}}], 'role': 'assistant'}, {'content': [{'toolResult': {'content': [{'text': \"Run ID: 6408075\\nCurrent Status: RUNNING\\nRun Name: workflow-run-2d3a0669\\nStart Time: 2025-09-02T06:43:01.735000+00:00\\n\\nThe workflow is still running. You can check again later with the same run ID.\\nTo check again, ask me to 'monitor workflow run 6408075'.\"}], 'toolUseId': 'tooluse_UNCXm2gfQ6WQbnzNQs4cag', 'status': 'success'}}], 'role': 'user'}], 'system': [{'text': '\\nYou are a protein design specialist AI that helps researchers optimize protein sequences using directed evolution algorithms.\\nYou can trigger AWS HealthOmics workflows to perform protein sequence optimization and monitor their progress.\\n\\nYour capabilities include:\\n1. Starting protein design optimization workflows with custom parameters\\n2. Monitoring the status of running workflows\\n3. Retrieving and analyzing results from completed optimizations\\n\\nWhen working with protein sequences:\\n- Validate that sequences contain only valid amino acid letters\\n- Provide clear explanations of the optimization process\\n- Help users understand the results and their implications\\n\\nAlways be helpful and provide detailed information about the protein design process.\\n'}], 'toolConfig': {'tools': [{'toolSpec': {'name': 'trigger_aho_workflow', 'description': \"Trigger the AWS HealthOmics workflow for protein design optimization\\n\\nArgs:\\n    seed_sequence: The input protein sequence to optimize\\n    runName: Name for the workflow run (optional)\\n    outputUri: S3 URI where the workflow outputs will be stored (optional)\\n    esm_model_files: S3 directory storing ESM pLM model files (optional)\\n    onehotcnn_model_files: S3 directory storing Onehot CNN predictor model files (optional)\\n    output_type: Output type, can be 'best', 'last', or 'all' variants (optional)\\n    parallel_chains: Number of MCMC chains to run in parallel (optional)\\n    n_steps: Number of MCMC steps per chain (optional)\\n    max_mutations: Maximum number of mutations per variant (optional)\\n\\nReturns:\\n    String with workflow run information\", 'inputSchema': {'json': {'properties': {'seed_sequence': {'description': 'The input protein sequence to optimize', 'type': 'string'}, 'runName': {'default': None, 'description': 'Name for the workflow run (optional)', 'type': 'string'}, 'outputUri': {'default': None, 'description': 'S3 URI where the workflow outputs will be stored (optional)', 'type': 'string'}, 'esm_model_files': {'default': None, 'description': 'S3 directory storing ESM pLM model files (optional)', 'type': 'string'}, 'onehotcnn_model_files': {'default': None, 'description': 'S3 directory storing Onehot CNN predictor model files (optional)', 'type': 'string'}, 'output_type': {'default': None, 'description': \"Output type, can be 'best', 'last', or 'all' variants (optional)\", 'type': 'string'}, 'parallel_chains': {'default': None, 'description': 'Number of MCMC chains to run in parallel (optional)', 'type': 'string'}, 'n_steps': {'default': None, 'description': 'Number of MCMC steps per chain (optional)', 'type': 'string'}, 'max_mutations': {'default': None, 'description': 'Maximum number of mutations per variant (optional)', 'type': 'string'}}, 'required': ['seed_sequence'], 'type': 'object'}}}}, {'toolSpec': {'name': 'monitor_aho_workflow', 'description': 'Monitor the status of a running AWS HealthOmics workflow and retrieve results when complete\\n\\nArgs:\\n    runId: The ID of the HealthOmics workflow run to monitor\\n    waitForCompletion: Whether to wait for the workflow to complete before returning (optional, defaults to True)\\n    pollIntervalSeconds: Time between status checks in seconds (optional, defaults to 30)\\n    maxWaitTimeMinutes: Maximum time to wait for workflow completion in minutes (optional, defaults to 30)\\n\\nReturns:\\n    String with workflow status and results if completed', 'inputSchema': {'json': {'properties': {'runId': {'description': 'The ID of the HealthOmics workflow run to monitor', 'type': 'string'}, 'waitForCompletion': {'default': None, 'description': 'Whether to wait for the workflow to complete before returning (optional, defaults to True)', 'type': 'boolean'}, 'pollIntervalSeconds': {'default': None, 'description': 'Time between status checks in seconds (optional, defaults to 30)', 'type': 'integer'}, 'maxWaitTimeMinutes': {'default': None, 'description': 'Maximum time to wait for workflow completion in minutes (optional, defaults to 30)', 'type': 'integer'}}, 'required': ['runId'], 'type': 'object'}}}}], 'toolChoice': {'auto': {}}}, 'inferenceConfig': {}}>\n",
      "DEBUG | strands.models.bedrock | invoking model\n",
      "DEBUG | strands.models.bedrock | got response from model\n"
     ]
    },
    {
     "name": "stdout",
     "output_type": "stream",
     "text": [
      "The workflow is still in progress (RUNNING status). This is normal as protein optimization involves computationally intensive steps including:\n",
      "- Running the protein language model predictions\n",
      "- Performing MCMC sampling across multiple chains\n",
      "- Evaluating sequence variants\n",
      "\n",
      "The workflow will continue to run until it completes all requested optimization steps. You can check the status again at any time by asking me to monitor the same run ID (6408075). Would you like me to keep monitoring the workflow,"
     ]
    },
    {
     "name": "stderr",
     "output_type": "stream",
     "text": [
      "DEBUG | strands.models.bedrock | finished streaming response from model\n",
      "DEBUG | strands.agent.conversation_manager.sliding_window_conversation_manager | message_count=<10>, window_size=<40> | skipping context reduction\n"
     ]
    },
    {
     "name": "stdout",
     "output_type": "stream",
     "text": [
      " or would you prefer to check back later?"
     ]
    }
   ],
   "source": [
    "# Test monitoring a workflow (use a run ID from the previous test)\n",
    "# Replace 'YOUR_RUN_ID' with an actual run ID from the previous test\n",
    "test_run_id = \"6408075\"  # Update this with a real run ID\n",
    "\n",
    "query = f\"Check the status of workflow run {test_run_id}\"\n",
    "\n",
    "print(\"Query:\", query)\n",
    "print(\"\\nResponse:\")\n",
    "response = protein_agent(query)"
   ]
  },
  {
   "cell_type": "markdown",
   "id": "test-3",
   "metadata": {},
   "source": [
    "#### Test 3: Advanced optimization with custom parameters"
   ]
  },
  {
   "cell_type": "code",
   "execution_count": null,
   "id": "test-advanced",
   "metadata": {},
   "outputs": [],
   "source": [
    "# Test with custom parameters\n",
    "query = \"Run a protein optimization for sequence ACDEFGHIKLMNPQRSTVWY with 20 parallel chains and 200 steps\"\n",
    "\n",
    "print(\"Query:\", query)\n",
    "print(\"\\nResponse:\")\n",
    "response = protein_agent(query)\n",
    "print(response.content)"
   ]
  },
  {
   "cell_type": "code",
   "execution_count": null,
   "id": "8242b494-894c-4903-aa06-f866f4ee4b2e",
   "metadata": {},
   "outputs": [],
   "source": [
    "# metrics: https://strandsagents.com/latest/documentation/docs/user-guide/observability-evaluation/metrics/\n",
    "\n",
    "# Access metrics through the AgentResult\n",
    "print(f\"Total tokens: {response.metrics.accumulated_usage['totalTokens']}\")\n",
    "print(f\"Execution time: {sum(response.metrics.cycle_durations):.2f} seconds\")\n",
    "print(f\"Tools used: {list(response.metrics.tool_metrics.keys())}\")\n"
   ]
  },
  {
   "cell_type": "markdown",
   "id": "deploy-agentcore",
   "metadata": {},
   "source": [
    "# Deploy to Amazon Bedrock AgentCore\n",
    "Deploy the agent to Bedrock AgentCore for production use"
   ]
  },
  {
   "cell_type": "code",
   "execution_count": null,
   "id": "deploy-agent",
   "metadata": {},
   "outputs": [],
   "source": [
    "# Install Bedrock AgentCore if not already installed\n",
    "%pip install bedrock-agentcore bedrock-agentcore-starter-toolkit --quiet"
   ]
  },
  {
   "cell_type": "code",
   "execution_count": null,
   "id": "agentcore-deploy",
   "metadata": {},
   "outputs": [],
   "source": [
    "from bedrock_agentcore_starter_toolkit import deploy_agent\n",
    "\n",
    "# Deploy the agent to Bedrock AgentCore\n",
    "try:\n",
    "    deployment_result = deploy_agent(\n",
    "        agent=protein_agent,\n",
    "        agent_name=protein_agent_name,\n",
    "        description=protein_agent_description\n",
    "    )\n",
    "    \n",
    "    print(\"Agent deployed successfully to Bedrock AgentCore!\")\n",
    "    print(f\"Agent ID: {deployment_result.get('agent_id')}\")\n",
    "    print(f\"Agent ARN: {deployment_result.get('agent_arn')}\")\n",
    "    \n",
    "except Exception as e:\n",
    "    print(f\"Deployment failed: {e}\")\n",
    "    print(\"Make sure you have the necessary permissions and Bedrock AgentCore is available in your region\")"
   ]
  },
  {
   "cell_type": "markdown",
   "id": "conclusion",
   "metadata": {},
   "source": [
    "# Conclusion\n",
    "\n",
    "This notebook demonstrates how to migrate the original Bedrock Agent-based Protein Design Agent to use the Strands framework while maintaining full compatibility with the original functionality.\n",
    "\n",
    "## Migration Summary:\n",
    "\n",
    "### Original Bedrock Agent Action Groups:\n",
    "1. **ProteinDesignTriggerWorkflow** - Lambda function: `protein-design-stack-WorkflowTriggerFunction-2KrE8ky1s8p1`\n",
    "2. **ProteinDesignMonitorRuns** - Lambda function: `protein-design-stack-WorkflowMonitorFunction-wY1yduueAKV5`\n",
    "\n",
    "### Migrated Strands Tools:\n",
    "1. **trigger_aho_workflow** - Direct implementation of the trigger Lambda functionality\n",
    "2. **monitor_aho_workflow** - Direct implementation of the monitor Lambda functionality\n",
    "\n",
    "## Key Changes from Original Agent:\n",
    "\n",
    "1. **Framework**: Uses Strands agents instead of Bedrock Agents\n",
    "2. **Tool Definition**: Tools are defined using `@tool` decorator instead of Lambda functions\n",
    "3. **Direct Integration**: Direct AWS SDK calls instead of Lambda function invocations\n",
    "4. **Simplified Architecture**: No need for separate Lambda functions and API Gateway\n",
    "5. **Parameter Compatibility**: Maintains exact parameter names and types from original Bedrock agent\n",
    "\n",
    "## Features Maintained:\n",
    "\n",
    "- Protein sequence optimization using AWS HealthOmics workflows\n",
    "- Workflow monitoring and status checking\n",
    "- Results retrieval from S3\n",
    "- Parameter validation and error handling\n",
    "- Same function signatures as original Lambda functions\n",
    "- Compatible with existing CloudFormation infrastructure\n",
    "\n",
    "## Benefits of Strands Approach:\n",
    "\n",
    "- **Simplified Deployment**: No need for complex CloudFormation templates for agent infrastructure\n",
    "- **Direct Control**: Direct access to AWS services without Lambda intermediaries\n",
    "- **Easier Testing**: Can test tools directly in the notebook environment\n",
    "- **Better Integration**: Seamless integration with Bedrock AgentCore for production deployment\n",
    "- **Cost Effective**: Eliminates Lambda function costs for agent operations\n",
    "- **Faster Execution**: Removes Lambda cold start delays\n",
    "\n",
    "The migrated agent maintains all the original functionality while providing a more streamlined development and deployment experience. The tools are now directly integrated into the Strands framework, making them easier to maintain and extend."
   ]
  }
 ],
 "metadata": {
  "kernelspec": {
   "display_name": "Python 3 (ipykernel)",
   "language": "python",
   "name": "python3"
  },
  "language_info": {
   "codemirror_mode": {
    "name": "ipython",
    "version": 3
   },
   "file_extension": ".py",
   "mimetype": "text/x-python",
   "name": "python",
   "nbconvert_exporter": "python",
   "pygments_lexer": "ipython3",
   "version": "3.12.9"
  }
 },
 "nbformat": 4,
 "nbformat_minor": 5
}
