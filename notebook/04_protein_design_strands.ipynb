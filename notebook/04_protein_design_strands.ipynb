{
 "cells": [
  {
   "cell_type": "markdown",
   "id": "24cee39a-a77d-4493-a532-56935aa07fd8",
   "metadata": {
    "tags": []
   },
   "source": [
    "# Strands를 사용한 단백질 설계 에이전트\n",
    "\n",
    "이 노트북에서는 오픈 소스 Strands Agents 프레임워크를 사용하여 단백질 설계 에이전트를 만들어보겠습니다."
   ]
  },
  {
   "cell_type": "markdown",
   "id": "f8272626",
   "metadata": {},
   "source": [
    "## 학습 목표 \n",
    "\n",
    "- Strands 프레임워크를 사용한 단백질 설계 에이전트 구축\n",
    "- AWS HealthOmics 워크플로우를 실행하는 방법\n",
    "- 워크플로우 모니터링 및 결과 분석\n"
   ]
  },
  {
   "cell_type": "markdown",
   "id": "98731c61",
   "metadata": {},
   "source": [
    "## 1. 환경 설정"
   ]
  },
  {
   "cell_type": "markdown",
   "id": "3c401dd7-dd66-44cd-a02a-fcdd95d98605",
   "metadata": {},
   "source": [
    "#### Strands 에이전트 및 필수 종속성 설치"
   ]
  },
  {
   "cell_type": "code",
   "execution_count": null,
   "id": "install-strands",
   "metadata": {},
   "outputs": [],
   "source": [
    "%pip install strands-agents strands-agents-tools --quiet"
   ]
  },
  {
   "cell_type": "markdown",
   "id": "environment-check",
   "metadata": {},
   "source": [
    "#### 아래에 표시된 최신 버전의 boto3 확인\n",
    "아래에 출력된 boto3 버전이 **1.37.1** 이상인지 확인하세요."
   ]
  },
  {
   "cell_type": "code",
   "execution_count": null,
   "id": "73745fd0-9df8-4f95-b58e-843c958840ac",
   "metadata": {},
   "outputs": [],
   "source": [
    "%pip show boto3"
   ]
  },
  {
   "cell_type": "markdown",
   "id": "8ef228e7-54c0-4925-8c06-6d172ab3286c",
   "metadata": {},
   "source": [
    "#### 필수 라이브러리 가져오기"
   ]
  },
  {
   "cell_type": "code",
   "execution_count": null,
   "id": "ae4b0cf3-76bf-4287-9b40-cc14566ebf8b",
   "metadata": {
    "execution": {
     "iopub.execute_input": "2025-09-28T15:29:25.866647Z",
     "iopub.status.busy": "2025-09-28T15:29:25.866291Z",
     "iopub.status.idle": "2025-09-28T15:29:26.387672Z",
     "shell.execute_reply": "2025-09-28T15:29:26.386957Z",
     "shell.execute_reply.started": "2025-09-28T15:29:25.866627Z"
    }
   },
   "outputs": [],
   "source": [
    "import boto3\n",
    "import json\n",
    "import time\n",
    "import uuid\n",
    "import os\n",
    "from typing import Dict, Any, Optional\n",
    "from strands import Agent, tool\n",
    "from strands.models import BedrockModel\n",
    "from urllib.parse import urlparse\n",
    "\n",
    "# AWS 계정 정보 가져오기\n",
    "sts_client = boto3.client('sts')\n",
    "account_id = sts_client.get_caller_identity()['Account']\n",
    "\n"
   ]
  },
  {
   "cell_type": "code",
   "execution_count": null,
   "id": "d25e04e5-e1aa-4e27-88f3-f3b563cd2105",
   "metadata": {
    "execution": {
     "iopub.execute_input": "2025-09-28T15:29:26.388580Z",
     "iopub.status.busy": "2025-09-28T15:29:26.388298Z",
     "iopub.status.idle": "2025-09-28T15:29:26.407642Z",
     "shell.execute_reply": "2025-09-28T15:29:26.406719Z",
     "shell.execute_reply.started": "2025-09-28T15:29:26.388560Z"
    }
   },
   "outputs": [],
   "source": [
    "session = boto3.Session(\n",
    "    #aws_access_key_id='your_access_key',\n",
    "    #aws_secret_access_key='your_secret_key',\n",
    "    #aws_session_token='your_session_token',  # If using temporary credentials\n",
    "    #region_name='us-west-2',\n",
    "    #profile_name='your-profile'  # Optional: Use a specific profile\n",
    ")\n",
    "region = session.region_name"
   ]
  },
  {
   "cell_type": "markdown",
   "id": "8c5ecfce-78c8-4721-a4e6-35a7745d8871",
   "metadata": {
    "tags": []
   },
   "source": [
    "### 전제 조건\n",
    "\n",
    "[00-setup_environment.ipynb](00-setup_environment.ipynb)에서 노트북 환경 설정을 실행하세요.\n",
    "\n",
    "또한 `stacks/protein_design_stack.yaml`에서 단백질 설계 CloudFormation 스택을 배포했는지 확인하세요.\n",
    "\n",
    "<img src=\"https://github.com/hsr87/strands-agents-for-life-science/blob/main/notebook/images/protein-stack-completion.png?raw=true\" width=\"400\" alt=\"CloudFormation Checking\">\n"
   ]
  },
  {
   "cell_type": "markdown",
   "id": "setup-lambda",
   "metadata": {},
   "source": [
    "### AWS 클라이언트 및 구성 설정\n",
    "도구에서 사용할 AWS 서비스에 대한 클라이언트를 정의합니다."
   ]
  },
  {
   "cell_type": "code",
   "execution_count": null,
   "id": "lambda-config",
   "metadata": {
    "execution": {
     "iopub.execute_input": "2025-09-28T15:29:26.412411Z",
     "iopub.status.busy": "2025-09-28T15:29:26.412205Z",
     "iopub.status.idle": "2025-09-28T15:29:26.483413Z",
     "shell.execute_reply": "2025-09-28T15:29:26.482677Z",
     "shell.execute_reply.started": "2025-09-28T15:29:26.412392Z"
    }
   },
   "outputs": [],
   "source": [
    "# AWS 클라이언트 초기화\n",
    "bedrock_client = boto3.client('bedrock-runtime', region_name=region)\n",
    "omics_client = boto3.client('omics')\n",
    "s3_client = boto3.client('s3')\n",
    "\n",
    "# 구성 - CloudFormation 스택 출력을 기반으로 이 값들을 업데이트하세요\n",
    "STACK_NAME = 'protein-design-stack'  # 여러분의 CloudFormation 스택 이름\n",
    "DEFAULT_WORKFLOW_ID = None  # 스택 출력에서 검색됩니다\n",
    "DEFAULT_ROLE_ARN = None     # 스택 출력에서 검색됩니다\n",
    "DEFAULT_S3_BUCKET = f\"{STACK_NAME}-{account_id}-{region}\"    # CloudFormation 에 사전 정의된 형식으로 정해짐.\n",
    "\n",
    "# 도구에서 사용할 환경 변수 설정\n",
    "os.environ['STACK_NAME'] = STACK_NAME\n",
    "\n",
    "print(f\"Region: {region}\")\n",
    "print(f\"Account ID: {account_id}\")\n",
    "print(f\"Stack Name: {STACK_NAME}\")"
   ]
  },
  {
   "cell_type": "markdown",
   "id": "get-stack-outputs",
   "metadata": {},
   "source": [
    "### CloudFormation 스택 출력 가져오기"
   ]
  },
  {
   "cell_type": "code",
   "execution_count": null,
   "id": "stack-outputs",
   "metadata": {
    "execution": {
     "iopub.execute_input": "2025-09-28T15:29:26.485799Z",
     "iopub.status.busy": "2025-09-28T15:29:26.485523Z",
     "iopub.status.idle": "2025-09-28T15:29:26.629436Z",
     "shell.execute_reply": "2025-09-28T15:29:26.628679Z",
     "shell.execute_reply.started": "2025-09-28T15:29:26.485780Z"
    }
   },
   "outputs": [],
   "source": [
    "# CloudFormation 스택 출력 가져오기\n",
    "cf_client = boto3.client('cloudformation')\n",
    "\n",
    "try:\n",
    "    response = cf_client.describe_stacks(StackName=STACK_NAME)\n",
    "    stack = response['Stacks'][0]\n",
    "\n",
    "    # 출력에서 가져오기\n",
    "    outputs = stack.get('Outputs', [])\n",
    "    for output in outputs:\n",
    "        key = output['OutputKey']\n",
    "        value = output['OutputValue']\n",
    "        if key == 'WorkflowId':\n",
    "            DEFAULT_WORKFLOW_ID = value\n",
    "        elif key == 'WorkflowExecutionRoleArn':\n",
    "            DEFAULT_ROLE_ARN = value\n",
    "            \n",
    "    parameters = stack.get('Parameters', [])\n",
    "\n",
    "    \n",
    "    print(f\"Workflow ID: {DEFAULT_WORKFLOW_ID}\")\n",
    "    print(f\"Role ARN: {DEFAULT_ROLE_ARN}\")\n",
    "    print(f\"S3 Bucket: {DEFAULT_S3_BUCKET}\")\n",
    "    \n",
    "    # 스택 정보로 도구 구성\n",
    "    from utils.protein_design_tools import set_stack_config\n",
    "    set_stack_config(\n",
    "        stack_name=STACK_NAME,\n",
    "        workflow_id=DEFAULT_WORKFLOW_ID,\n",
    "        role_arn=DEFAULT_ROLE_ARN,\n",
    "        s3_bucket=DEFAULT_S3_BUCKET\n",
    "    )\n",
    "    \n",
    "except Exception as e:\n",
    "    print(f\"스택 출력 가져오기 오류: {e}\")\n",
    "    print(\"구성 변수를 수동으로 업데이트해 주세요\")"
   ]
  },
  {
   "cell_type": "markdown",
   "id": "96053d0a-6dfd-4623-aea4-d7eaedc6dc63",
   "metadata": {
    "tags": []
   },
   "source": [
    "## 2. Strands 에이전트 생성\n",
    "이 섹션에서는 Strands 프레임워크를 사용하여 에이전트를 생성합니다"
   ]
  },
  {
   "cell_type": "markdown",
   "id": "3e974c4f-200d-499a-ba94-70de02a88486",
   "metadata": {},
   "source": [
    "### 에이전트 구성 및 지침 정의"
   ]
  },
  {
   "cell_type": "code",
   "execution_count": null,
   "id": "11e88b67-5f84-45be-90af-673c11730230",
   "metadata": {
    "execution": {
     "iopub.execute_input": "2025-09-28T15:29:26.635466Z",
     "iopub.status.busy": "2025-09-28T15:29:26.634994Z",
     "iopub.status.idle": "2025-09-28T15:29:26.639216Z",
     "shell.execute_reply": "2025-09-28T15:29:26.638475Z",
     "shell.execute_reply.started": "2025-09-28T15:29:26.635433Z"
    }
   },
   "outputs": [],
   "source": [
    "protein_agent_name = 'Protein-Design-Agent-Strands'\n",
    "protein_agent_description = \"Strands 프레임워크를 사용한 AWS HealthOmics 워크플로우 기반 단백질 설계 및 최적화 에이전트\"\n",
    "protein_agent_instruction = \"\"\"\n",
    "당신은 방향성 진화 알고리즘을 사용하여 연구자들이 단백질 서열을 최적화하는 데 도움을 주는 단백질 설계 전문 AI입니다.\n",
    "AWS HealthOmics 워크플로우를 트리거하여 단백질 서열 최적화를 수행하고 진행 상황을 모니터링할 수 있습니다.\n",
    "\n",
    "당신의 기능은 다음과 같습니다:\n",
    "1. 사용자 정의 매개변수로 단백질 설계 최적화 워크플로우 시작\n",
    "2. 실행 중인 워크플로우의 상태 모니터링\n",
    "3. 완료된 최적화에서 결과 검색 및 분석\n",
    "\n",
    "단백질 서열 작업 시:\n",
    "- 서열이 유효한 아미노산 문자만 포함하는지 검증\n",
    "- 최적화 과정에 대한 명확한 설명 제공\n",
    "- 사용자가 결과와 그 의미를 이해할 수 있도록 도움\n",
    "\n",
    "항상 도움이 되고 단백질 설계 과정에 대한 자세한 정보를 제공하세요.\n",
    "\"\"\""
   ]
  },
  {
   "cell_type": "markdown",
   "id": "lambda-tools",
   "metadata": {},
   "source": [
    "#### Strands 에이전트용 도구 정의\n",
    "\n",
    "이 도구들은 단백질 설계 작업을 위해 AWS HealthOmics 워크플로우를 호출 및 모니터링 하게 될 것 입니다."
   ]
  },
  {
   "cell_type": "code",
   "execution_count": null,
   "id": "create-tools",
   "metadata": {
    "execution": {
     "iopub.execute_input": "2025-09-28T15:29:29.699500Z",
     "iopub.status.busy": "2025-09-28T15:29:29.699221Z",
     "iopub.status.idle": "2025-09-28T15:29:29.703393Z",
     "shell.execute_reply": "2025-09-28T15:29:29.702836Z",
     "shell.execute_reply.started": "2025-09-28T15:29:29.699479Z"
    }
   },
   "outputs": [],
   "source": [
    "# Bedrock 에이전트 액션 그룹과 일치하는 업데이트된 도구 가져오기\n",
    "from utils.protein_design_tools import trigger_aho_workflow, monitor_aho_workflow, test_configuration\n",
    "\n",
    "print(\"도구가 성공적으로 가져와졌습니다:\")\n",
    "print(f\"- trigger_aho_workflow: {trigger_aho_workflow.__doc__.split('Args:')[0].strip()}\")\n",
    "print(f\"- monitor_aho_workflow: {monitor_aho_workflow.__doc__.split('Args:')[0].strip()}\")"
   ]
  },
  {
   "cell_type": "markdown",
   "id": "create-agent",
   "metadata": {},
   "source": [
    "#### Strands 에이전트 생성"
   ]
  },
  {
   "cell_type": "code",
   "execution_count": null,
   "id": "agent-creation",
   "metadata": {
    "execution": {
     "iopub.execute_input": "2025-09-28T15:34:46.196068Z",
     "iopub.status.busy": "2025-09-28T15:34:46.195794Z",
     "iopub.status.idle": "2025-09-28T15:34:46.264557Z",
     "shell.execute_reply": "2025-09-28T15:34:46.263849Z",
     "shell.execute_reply.started": "2025-09-28T15:34:46.196048Z"
    }
   },
   "outputs": [],
   "source": [
    "# Bedrock 모델 생성\n",
    "model = BedrockModel(\n",
    "    model_id=\"us.anthropic.claude-3-7-sonnet-20250219-v1:0\",\n",
    "    boto_session=session\n",
    ")\n",
    "\n",
    "# Bedrock 에이전트 액션 그룹과 일치하는 도구로 에이전트 생성\n",
    "protein_agent = Agent(\n",
    "    system_prompt=protein_agent_instruction,\n",
    "    model=model,\n",
    "    tools=[trigger_aho_workflow, monitor_aho_workflow]\n",
    ")\n",
    "\n",
    "print(f\"Strands 프레임워크로 단백질 설계 에이전트를 생성했습니다\")"
   ]
  },
  {
   "cell_type": "markdown",
   "id": "test-agent",
   "metadata": {},
   "source": [
    "# 에이전트 테스트\n",
    "몇 가지 예제 쿼리로 단백질 설계 에이전트를 테스트해보겠습니다."
   ]
  },
  {
   "cell_type": "markdown",
   "id": "80e98d12",
   "metadata": {},
   "source": [
    "#### (옵션) 디버깅 \n",
    "\n",
    "StrandsAgents 의 로깅 모듈을 활용해 필요하다면 디버깅할 수 있습니다."
   ]
  },
  {
   "cell_type": "code",
   "execution_count": null,
   "id": "17bd0e5f",
   "metadata": {},
   "outputs": [],
   "source": [
    "#https://strandsagents.com/latest/documentation/docs/user-guide/observability-evaluation/logs/\n",
    "#import logging\n",
    "\n",
    "# 루트 strands 로거 구성\n",
    "#logging.getLogger(\"strands\").setLevel(logging.DEBUG)\n",
    "\n",
    "# 로그를 보기 위한 핸들러 추가\n",
    "#logging.basicConfig(\n",
    "#    format=\"%(levelname)s | %(name)s | %(message)s\", \n",
    "#    handlers=[logging.StreamHandler()]\n",
    "#)"
   ]
  },
  {
   "cell_type": "markdown",
   "id": "test-1",
   "metadata": {},
   "source": [
    "#### 테스트 1: 단백질 최적화 시작"
   ]
  },
  {
   "cell_type": "code",
   "execution_count": null,
   "id": "test-optimization",
   "metadata": {
    "execution": {
     "iopub.execute_input": "2025-09-28T15:34:49.444186Z",
     "iopub.status.busy": "2025-09-28T15:34:49.443910Z",
     "iopub.status.idle": "2025-09-28T15:35:16.955258Z",
     "shell.execute_reply": "2025-09-28T15:35:16.954302Z",
     "shell.execute_reply.started": "2025-09-28T15:34:49.444165Z"
    }
   },
   "outputs": [],
   "source": [
    "# 단백질 최적화 시작 테스트\n",
    "test_sequence = \"EVQLVETGGGLVQPGGSLRLSCAASGFTLNSYGISWVRQAPGKGPEWVSVIYSDGRRTFYGDSVKGRFTISRDTSTNTVYLQMNSLRVEDTAVYYCAKGRAAGTFDSWGQGTLVTVSS\"\n",
    "\n",
    "query = f\"이 단백질 서열을 최적화해 주세요: {test_sequence}\"\n",
    "\n",
    "print(\"쿼리:\", query)\n",
    "\n",
    "try:\n",
    "    # 에이전트 실행\n",
    "    print(\"\\n응답:\")\n",
    "    protein_agent(query)\n",
    "except Exception as e:\n",
    "    print(f\"에이전트 실행 중 오류: {e}\")\n",
    "    import traceback\n",
    "    traceback.print_exc()"
   ]
  },
  {
   "cell_type": "markdown",
   "id": "test-2",
   "metadata": {},
   "source": [
    "#### 테스트 2: 워크플로우 상태 모니터링"
   ]
  },
  {
   "cell_type": "markdown",
   "id": "ae94be32",
   "metadata": {},
   "source": [
    "아래와 같이 HealthOmics 콘솔로 진입하여 Run 메뉴를 통해 앞에서 실행한 Run ID에 대한 상황을 조회할 수도 있습니다. (여기 예시 그림에서는 Run ID의 경우 2951139 이며 사용자마다 이 값은 다를 것입니다)"
   ]
  },
  {
   "cell_type": "markdown",
   "id": "7530dc24",
   "metadata": {},
   "source": [
    "<img src=\"https://github.com/hsr87/strands-agents-for-life-science/blob/main/notebook/images/healthomics.png?raw=true\" width=\"400\" alt=\"HealthOmics Run\">\n"
   ]
  },
  {
   "cell_type": "code",
   "execution_count": null,
   "id": "test-monitor",
   "metadata": {},
   "outputs": [],
   "source": [
    "# 워크플로우 모니터링 테스트 (이전 테스트의 실행 ID 사용)\n",
    "# 'YOUR_RUN_ID'를 이전 테스트의 실제 실행 ID로 교체하세요\n",
    "test_run_id = \"{test_run_id}\"  # 실제 실행 ID로 업데이트하세요\n",
    "\n",
    "query = f\"워크플로우 실행 {test_run_id}의 상태를 확인해 주세요\"\n",
    "\n",
    "print(\"쿼리:\", query)\n",
    "print(\"\\n응답:\")\n",
    "response = protein_agent(query)"
   ]
  },
  {
   "cell_type": "markdown",
   "id": "test-3",
   "metadata": {},
   "source": [
    "#### 테스트 3: 사용자 정의 매개변수를 사용한 고급 최적화"
   ]
  },
  {
   "cell_type": "code",
   "execution_count": null,
   "id": "test-advanced",
   "metadata": {},
   "outputs": [],
   "source": [
    "# 사용자 정의 매개변수로 테스트\n",
    "query = \"ACDEFGHIKLMNPQRSTVWY 서열에 대해 20개의 병렬 체인과 200단계로 단백질 최적화를 실행해 주세요\"\n",
    "\n",
    "print(\"쿼리:\", query)\n",
    "print(\"\\n응답:\")\n",
    "response = protein_agent(query)"
   ]
  },
  {
   "cell_type": "code",
   "execution_count": null,
   "id": "8242b494-894c-4903-aa06-f866f4ee4b2e",
   "metadata": {},
   "outputs": [],
   "source": [
    "# 메트릭: https://strandsagents.com/latest/documentation/docs/user-guide/observability-evaluation/metrics/\n",
    "\n",
    "# AgentResult를 통해 메트릭에 액세스\n",
    "print(f\"총 토큰: {response.metrics.accumulated_usage['totalTokens']}\")\n",
    "print(f\"실행 시간: {sum(response.metrics.cycle_durations):.2f}초\")\n",
    "print(f\"사용된 도구: {list(response.metrics.tool_metrics.keys())}\")"
   ]
  },
  {
   "cell_type": "code",
   "execution_count": null,
   "id": "05f1e0d1-c92e-4a3f-a085-20022ba549ad",
   "metadata": {},
   "outputs": [],
   "source": []
  }
 ],
 "metadata": {
  "kernelspec": {
   "display_name": "Python 3",
   "language": "python",
   "name": "python3"
  },
  "language_info": {
   "codemirror_mode": {
    "name": "ipython",
    "version": 3
   },
   "file_extension": ".py",
   "mimetype": "text/x-python",
   "name": "python",
   "nbconvert_exporter": "python",
   "pygments_lexer": "ipython3",
   "version": "3.9.20"
  }
 },
 "nbformat": 4,
 "nbformat_minor": 5
}
