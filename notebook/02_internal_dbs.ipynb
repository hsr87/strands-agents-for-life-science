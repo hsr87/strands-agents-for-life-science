{
 "cells": [
  {
   "metadata": {},
   "cell_type": "markdown",
   "source": [
    "# MCP를 통한 Internal Database 활용\n",
    "\n",
    "이 노트북에서는 Strands Agents와 MCP (Model Context Protocol)를 사용하여 사내 데이터베이스 (PostgreSQL)와 연동하는 방법을 실습합니다.\n",
    "\n",
    "## 학습 목표\n",
    "- MCP를 통해 사내 데이터베이스를 Agent의 도구로 활용하는 방법 이해\n",
    "- MCP 서버와 클라이언트를 통한 데이터베이스 연동 패턴 학습\n",
    "- 관계형 데이터베이스의 쿼리를 몰라도 자연어로 쿼리를 실행하고 결과를 획득하는 과정 실습"
   ],
   "id": "492f8ebe7f9c5cce"
  },
  {
   "cell_type": "markdown",
   "metadata": {},
   "source": [
    "## 실습 데이터셋 소개\n",
    "\n",
    "의료 연구자들은 복잡한 데이터베이스 구조와 수많은 컬럼명을 모두 기억하기 어렵습니다. 이 실습에서는 다음과 같은 실제 의료 데이터를 사용하여, LLM의 도움으로 자연어만으로도 복잡한 데이터 분석이 가능함을 보여드립니다.\n",
    "\n",
    "### chemotherapy_survival 테이블\n",
    "화학요법 후 환자 생존 데이터 (50개 컬럼, 1,000+ 환자)\n",
    "\n",
    "<img src=\"https://raw.githubusercontent.com/jikang-jeong/aws-q-mem-mcp-server/refs/heads/main/rdb_sample1.png\" width=\"800\" alt=\"chemotherapy_survival 데이터 예시\">\n",
    "\n",
    "### clinical_genomic 테이블\n",
    "임상 및 유전체 통합 데이터 (200+ 컬럼, 500+ 환자)\n",
    "\n",
    "<img src=\"https://raw.githubusercontent.com/jikang-jeong/aws-q-mem-mcp-server/refs/heads/main/rdb_sample2.png\" width=\"800\" alt=\"clinical_genomic 데이터 예시\">\n",
    "\n",
    "### 연구자의 도전과 LLM 에이전트의 접근방식\n",
    "\n",
    "**🤔 연구자의 고민**: \n",
    "- \"EGFR 돌연변이 환자의 생존율이 궁금한데, 어떤 컬럼을 조회해야 하지?\"\n",
    "- \"50세 이상 흡연자 중 선암 환자는 몇 명일까? SQL을 어떻게 작성하지?\"\n",
    "- \"LRIG1 유전자 발현량과 생존 기간의 상관관계를 보려면...?\"\n",
    "\n",
    "\n",
    "## 데이터베이스 스키마 상세 정보\n",
    "\n",
    "### chemotherapy_survival 테이블\n",
    "화학요법(항암치료) 후 환자들의 생존상태를 담고 있는 테이블\n",
    "\n",
    "**컬럼 설명:**\n",
    "- `lrig1`: Leucine-rich repeats and immunoglobulin-like domains 1 유전자 발현량\n",
    "  - 세포 성장 조절 및 종양 억제 유전자로 작용할 수 있음\n",
    "  - 항암 치료 반응성 또는 예후 지표로서 활용\n",
    "  - LRIG1의 발현수준이 생존율과 상관관계를 가짐\n",
    "- `survival_status`: 생존 상태 - true/false\n",
    "- `survival_duration`: 생존 기간\n",
    "- `expressiongroup`: 발현수준에 따라 나눈 그룹 - 0/1\n",
    "\n",
    "### clinical_genomic 테이블\n",
    "암 환자의 임상 및 유전체 정보를 포함하고 있는 테이블\n",
    "\n",
    "**주요 컬럼들:**\n",
    "- 다양한 유전자들의 발현량 컬럼\n",
    "- `patient_affiliation`: 병원, 연구기관 등의 환자 소속정보\n",
    "- `age_at_histological_diagnosis`: 조직학적 진단 당시 나이\n",
    "- `weight_lbs`: 체중\n",
    "- `gender`: 성별\n",
    "- `ethnicity`: 인종\n",
    "- `smoking_status`: 흡연 상태\n",
    "- `pack_years`: 누적 흡연량\n",
    "- `percent_gg`: 종양 내 GGO 비율\n",
    "- `tumor_location_*`: 종양 위치\n",
    "- `histology`: 조직학적 암 유형\n",
    "- `pathological_*`: 병리적 병기/결과\n",
    "- `histopathological_grade`: 암세포 분화 정도\n",
    "- `lymphovascular_invasion`: 림프관 또는 혈관 침습 여부\n",
    "- `pleural_invasion`: 흉막 침습 여부\n",
    "- `egfr_mutation_status`: EGFR 유전자 돌연변이 상태\n",
    "- `kras_mutation_status`: KRAS 유전자 돌연변이 상태\n",
    "- `alk_translocation_status`: ALK 유전자 전좌 여부\n",
    "- `adjuvant_treatment`: 보조 치료 여부\n",
    "- `chemotherapy`: 항암화학요법 수행 여부\n",
    "- `radiation`: 방사선 치료 여부\n",
    "- `recurrence`: 암 재발 여부\n",
    "- `recurrence_location`: 암 재발 부위\n",
    "- `survival_status`: 생존 상태\n",
    "- `time_to_death`: 진단 후 사망까지의 시간\n",
    "- `days_between_ct_and_surgery`: CT 촬영일과 수술일 사이의 간격\n",
    "- `survival_duration`: 전체 생존 기간"
   ],
   "id": "bbf731f9a81d3610"
  },
  {
   "cell_type": "markdown",
   "id": "3c401dd7-dd66-44cd-a02a-fcdd95d98605",
   "metadata": {},
   "source": [
    "### 환경 설정\n",
    "\n",
    "필요한 라이브러리와 의존성을 설치합니다."
   ]
  },
  {
   "cell_type": "code",
   "execution_count": null,
   "id": "install-strands",
   "metadata": {},
   "outputs": [],
   "source": [
    "%pip install strands-agents strands-agents-tools psycopg2-binary --quiet"
   ]
  },
  {
   "cell_type": "markdown",
   "id": "environment-check",
   "metadata": {},
   "source": [
    "### MCP 서버 정의\n",
    "데이터베이스 스키마 조회와 쿼리 실행을 위한 MCP 서버를 정의합니다.\n",
    "\n",
    "MCP (Model Context Protocol)는 AI 에이전트가 외부 도구와 통신할 수 있게 해주는 프로토콜입니다.\n"
   ]
  },
  {
   "metadata": {},
   "cell_type": "code",
   "outputs": [],
   "execution_count": null,
   "source": [
    "\n",
    "# AWS SDK\n",
    "import boto3\n",
    "from botocore.config import Config\n",
    "\n",
    "# Strands Agents\n",
    "from strands import Agent\n",
    "from strands.models import BedrockModel\n",
    "from strands.tools.mcp import MCPClient\n",
    "\n",
    "# MCP\n",
    "from mcp import stdio_client, StdioServerParameters"
   ],
   "id": "265f8809965af6bc"
  },
  {
   "metadata": {},
   "cell_type": "markdown",
   "source": "다음 rds endpoint를 워크샵 메인 페이지 Outputs AuroraClusterEndpoint 값을 확인해 DB_CONFIG 변수에 할당 합니다.",
   "id": "c44b73772ea4ea99"
  },
  {
   "metadata": {},
   "cell_type": "code",
   "outputs": [],
   "execution_count": null,
   "source": [
    "%%writefile mcp_server_internal_db.py\n",
    "\n",
    "import logging\n",
    "import sys\n",
    "from mcp.server.fastmcp import FastMCP\n",
    "import psycopg2\n",
    "from collections import defaultdict\n",
    "\n",
    "# Database configuration\n",
    "DB_CONFIG = {\n",
    "    \"host\": \"YOUR_RDS_ENDPOINT\",  # ⚠️ 중요: RDS 엔드포인트 설정 Outputs Key: AuroraClusterEndpoint 값을 입력하세요.\n",
    "    \"port\": 5432,\n",
    "    \"database\": \"agentdb\",\n",
    "    \"user\": \"dbadmin\",\n",
    "    \"password\": \"postgres\"\n",
    "}\n",
    "\n",
    "logging.basicConfig(\n",
    "    level=logging.INFO,\n",
    "    format='%(filename)s:%(lineno)d | %(message)s',\n",
    "    handlers=[logging.StreamHandler(sys.stderr)]\n",
    ")\n",
    "logger = logging.getLogger(\"internal_db_mcp\")\n",
    "\n",
    "try:\n",
    "    mcp = FastMCP(name=\"internal_db_tool\")\n",
    "    logger.info(\"internal database Postgres MCP server initialized successfully\")\n",
    "except Exception as e:\n",
    "    logger.error(f\"Error: {str(e)}\")\n",
    "\n",
    "@mcp.tool\n",
    "async def fetch_table_schema() -> dict:\n",
    "    \"\"\"Postgres public 스키마의 테이블과 컬럼 정보를 조회하는 도구입니다.\n",
    "    - 쿼리를 자동 생성할 때 테이블 구조가 필요하면 이 도구를 사용하세요.\n",
    "    - 단순히 데이터 조회만 하는 경우에는 호출할 필요가 없습니다.\n",
    "    \"\"\"\n",
    "    try:\n",
    "        conn = psycopg2.connect(**DB_CONFIG)\n",
    "        with conn.cursor() as cursor:\n",
    "            cursor.execute(\"\"\"\n",
    "                           SELECT\n",
    "                               c.relname AS table_name,\n",
    "                               a.attname AS column_name,\n",
    "                               pg_catalog.format_type(a.atttypid, a.atttypmod) AS data_type,\n",
    "                               d.description AS column_comment\n",
    "                           FROM pg_catalog.pg_attribute a\n",
    "                                    JOIN pg_catalog.pg_class c ON a.attrelid = c.oid\n",
    "                                    JOIN pg_catalog.pg_namespace n ON c.relnamespace = n.oid\n",
    "                                    LEFT JOIN pg_catalog.pg_description d ON a.attrelid = d.objoid AND a.attnum = d.objsubid\n",
    "                           WHERE a.attnum > 0 AND NOT a.attisdropped\n",
    "                             AND n.nspname = 'public'\n",
    "                             AND c.relkind = 'r'\n",
    "                           ORDER BY c.relname, a.attnum;\n",
    "                           \"\"\")\n",
    "\n",
    "            rows = cursor.fetchall()\n",
    "            # 테이블별로 그룹화\n",
    "            tables = defaultdict(list)\n",
    "            for table_name, column_name, data_type, column_comment in rows:\n",
    "                tables[table_name].append({\n",
    "                    \"column_name\": column_name,\n",
    "                    \"data_type\": data_type,\n",
    "                    \"comment\": column_comment\n",
    "                })\n",
    "\n",
    "            result = [{\"table_name\": tbl, \"columns\": cols} for tbl, cols in tables.items()]\n",
    "            return {\"message\": result, \"status\": \"success\"}\n",
    "\n",
    "    except Exception as e:\n",
    "        return {\"error\": str(e)}\n",
    "    finally:\n",
    "        if 'conn' in locals():\n",
    "            conn.close()\n",
    "\n",
    "@mcp.tool\n",
    "async def execute_postgres_query(query: str) -> dict:\n",
    "    \"\"\"사용자가 요청한 SQL 쿼리를 실행하는 도구입니다.\n",
    "    - 쿼리가 명확히 주어진 경우 이 도구만 호출하면 됩니다.\n",
    "    - 쿼리를 자동 생성해야 하는 경우, 필요하다면 먼저 fetch_table_schema를 호출해 스키마를 확인한 뒤 실행하세요.\"\"\"\n",
    "    try:\n",
    "        conn = psycopg2.connect(**DB_CONFIG)\n",
    "        cur = conn.cursor()\n",
    "        cur.execute(query)\n",
    "        result = cur.fetchall()\n",
    "        conn.commit()\n",
    "        return {\n",
    "            \"message\": \"\\n\".join(str(row) for row in result),\n",
    "            \"status\": \"success\"\n",
    "        }\n",
    "    except Exception as e:\n",
    "        return {\n",
    "            \"message\": str(e)\n",
    "        }\n",
    "    finally:\n",
    "        if 'cur' in locals():\n",
    "            cur.close()\n",
    "        if 'conn' in locals():\n",
    "            conn.close()\n",
    "\n",
    "\n",
    "if __name__ == \"__main__\":\n",
    "    mcp.run()"
   ],
   "id": "1d007e6fd985ff68"
  },
  {
   "cell_type": "markdown",
   "id": "8ef228e7-54c0-4925-8c06-6d172ab3286c",
   "metadata": {},
   "source": [
    "### MCP 클라이언트 설정\n",
    "\n",
    "사내 데이터베이스에 대한 MCP 클라이언트를 설정합니다.\n",
    "클라이언트는 위에서 정의한 MCP 서버와 통신하여 데이터베이스 작업을 수행합니다."
   ]
  },
  {
   "metadata": {},
   "cell_type": "code",
   "outputs": [],
   "execution_count": null,
   "source": [
    "# MCP 서버 파라미터 설정\n",
    "internalDb_server_params = StdioServerParameters(\n",
    "    command=\"python\",\n",
    "    args=[\"mcp_server_internal_db.py\"]\n",
    ")"
   ],
   "id": "70e771f8d7befb7b"
  },
  {
   "metadata": {},
   "cell_type": "code",
   "outputs": [],
   "execution_count": null,
   "source": [
    "# MCP 클라이언트 생성\n",
    "internalDb_client = MCPClient(internalDb_server_params)"
   ],
   "id": "c1e2a1cfbb2a8864"
  },
  {
   "metadata": {},
   "cell_type": "code",
   "outputs": [],
   "execution_count": null,
   "source": [
    "# Bedrock 모델 설정\n",
    "model = BedrockModel(\n",
    "    model_id=\"us.anthropic.claude-3-7-sonnet-20250219-v1:0\",\n",
    "    region_name=\"us-east-1\"\n",
    ")"
   ],
   "id": "59e2c9de937953ed"
  },
  {
   "cell_type": "markdown",
   "id": "create-agent",
   "metadata": {},
   "source": [
    "### 데이터베이스 에이전트 생성\n",
    "PostgreSQL 데이터베이스와 연동하는 Strands 에이전트를 생성합니다.\n",
    "이 에이전트는 MCP 클라이언트를 도구로 사용하여 자연어 질문을 SQL 쿼리로 변환하고 실행합니다."
   ]
  },
  {
   "metadata": {},
   "cell_type": "code",
   "outputs": [],
   "execution_count": null,
   "source": [
    "# 사내 데이터베이스 탐색 전문 에이전트\n",
    "internalDb_agent = Agent(\n",
    "    name=\"internalDbAgent\",\n",
    "    system_prompt=\"\"\"당신은 의료 데이터베이스 전문가 AI입니다.\n",
    "\n",
    "**중요**: 모든 데이터베이스 관련 질문에 대해 반드시 다음 중 하나의 도구를 사용해야 합니다:\n",
    "1. fetch_table_schema() - 스키마 정보가 필요할 때\n",
    "2. execute_postgres_query() - 실제 데이터 조회가 필요할 때\n",
    "\n",
    "PostgreSQL 데이터베이스에 저장된 임상 및 유전체 데이터를 분석하고 쿼리할 수 있습니다.\n",
    "\n",
    "주요 기능:\n",
    "1. 데이터베이스 스키마 탐색 및 이해\n",
    "2. 자연어 질문을 SQL 쿼리로 변환\n",
    "3. 임상 데이터 분석 및 통계 제공\n",
    "4. 유전체 데이터 패턴 분석\n",
    "\n",
    "데이터베이스 정보:\n",
    "- chemotherapy_survival: 화학요법 후 환자 생존 데이터\n",
    "  - LRIG1: 유전자 발현량\n",
    "  - Survival_Status: 생존 상태 (true/false)\n",
    "  - Survival_Duration: 생존 기간\n",
    "  - ExpressionGroup: 발현 그룹 (0/1)\n",
    "\n",
    "- clinical_genomic: 임상 및 유전체 정보\n",
    "  - 다양한 유전자 발현량 컬럼들\n",
    "  - 환자 임상 정보 (나이, 성별, 흡연상태 등)\n",
    "  - 종양 정보 (위치, 병리학적 병기 등)\n",
    "  - 치료 정보 (화학요법, 방사선치료 등)\n",
    "\n",
    "항상 도움이 되고 정확한 정보를 제공하며, 의료 데이터의 중요성을 인식하고 신중하게 분석하세요.\"\"\",\n",
    "    model=model,\n",
    "    tools=[internalDb_client]\n",
    ")\n"
   ],
   "id": "1cf29e2355b14c4c"
  },
  {
   "cell_type": "markdown",
   "id": "test-agent",
   "metadata": {},
   "source": [
    "## 데이터베이스 에이전트 테스트\n",
    "데이터베이스 에이전트를 다양한 쿼리로 테스트해봅니다.\n",
    "\n",
    "**참고**: `YOUR_RDS_ENDPOINT`를 실제 RDS 엔드포인트로 변경한 후 테스트를 진행하세요."
   ]
  },
  {
   "cell_type": "markdown",
   "id": "test-1",
   "metadata": {},
   "source": [
    "### Test 1: 데이터베이스 연결 및 스키마 조회"
   ]
  },
  {
   "cell_type": "code",
   "execution_count": null,
   "id": "test-connection",
   "metadata": {},
   "outputs": [],
   "source": [
    "# internal db (postgres) 에이전트 테스트\n",
    "print(\"=== 사내 데이터베이스 에이전트 * Database Connection and Schema * 테스트 ===\")\n",
    "db_result = internalDb_agent(\"데이터베이스에 어떤 테이블들이 있는지 알려주세요\")\n",
    "print(\"\\n\" + \"=\"*50 + \"\\n\")"
   ]
  },
  {
   "cell_type": "markdown",
   "id": "test-2",
   "metadata": {},
   "source": [
    "### Test 2: 간단한 데이터베이스 쿼리"
   ]
  },
  {
   "cell_type": "code",
   "execution_count": null,
   "id": "test-simple-query",
   "metadata": {},
   "outputs": [],
   "source": [
    "# internal db (postgres) 에이전트 테스트\n",
    "print(\"=== 사내 데이터베이스 에이전트 * Simple Database Query * 테스트 ===\")\n",
    "db_result = internalDb_agent(\"현재 데이터베이스 시간을 알려주세요\")\n",
    "print(\"\\n\" + \"=\"*50 + \"\\n\")"
   ]
  },
  {
   "cell_type": "markdown",
   "id": "test-3",
   "metadata": {},
   "source": [
    "### Test 3: 임상 데이터 분석"
   ]
  },
  {
   "cell_type": "code",
   "execution_count": null,
   "id": "test-clinical-analysis",
   "metadata": {},
   "outputs": [],
   "source": [
    "# internal db (postgres) 에이전트 테스트\n",
    "print(\"=== 사내 데이터베이스 에이전트 * Clinical Data Analysis * 테스트 ===\")\n",
    "db_result = internalDb_agent(\"선암(Adenocarcinoma) 진단을 받은 환자의 평균 연령은 얼마입니까?\")\n",
    "print(\"\\n\" + \"=\"*50 + \"\\n\")"
   ]
  },
  {
   "cell_type": "markdown",
   "id": "test-4",
   "metadata": {},
   "source": [
    "### Test 4: 복합 분석 쿼리"
   ]
  },
  {
   "cell_type": "code",
   "execution_count": null,
   "id": "test-complex-query",
   "metadata": {},
   "outputs": [],
   "source": [
    "\n",
    "# internal db (postgres) 에이전트 테스트\n",
    "print(\"=== 사내 데이터베이스 에이전트 * Complex Analysis Query * 테스트 ===\")\n",
    "db_result = internalDb_agent(\"50세 이상 진단을 받은 환자의 수는 몇 명이며, 흡연 여부는 어떻게 됩니까?\")\n",
    "print(\"\\n\" + \"=\"*50 + \"\\n\")"
   ]
  },
  {
   "cell_type": "markdown",
   "id": "test-5",
   "metadata": {},
   "source": [
    "### Test 5: 생존 분석"
   ]
  },
  {
   "cell_type": "code",
   "execution_count": null,
   "id": "test-survival-analysis",
   "metadata": {},
   "outputs": [],
   "source": [
    "\n",
    "# internal db (postgres) 에이전트 테스트\n",
    "print(\"=== 사내 데이터베이스 에이전트 * Survival Analysis * 테스트 ===\")\n",
    "db_result = internalDb_agent(\"화학요법 후 생존한 환자와 사망한 환자의 LRIG1 유전자 발현량 평균을 비교해주세요\")\n",
    "print(\"\\n\" + \"=\"*50 + \"\\n\")"
   ]
  },
  {
   "cell_type": "markdown",
   "id": "test-6",
   "metadata": {},
   "source": [
    "### Test 6: 돌연변이 분석"
   ]
  },
  {
   "cell_type": "code",
   "execution_count": null,
   "id": "test-mutation-analysis",
   "metadata": {},
   "outputs": [],
   "source": [
    "\n",
    "# internal db (postgres) 에이전트 테스트\n",
    "print(\"=== 사내 데이터베이스 에이전트 * Test mutation analysis * 테스트 ===\")\n",
    "db_result = internalDb_agent(\"EGFR 돌연변이를 가진 환자들의 비율과 이들의 생존율을 분석해주세요\")\n",
    "print(\"\\n\" + \"=\"*50 + \"\\n\")\n"
   ]
  },
  {
   "cell_type": "markdown",
   "id": "conclusion",
   "metadata": {},
   "source": [
    "## 결론\n",
    "\n",
    "이 노트북에서는 Strands Agents 프레임워크를 사용하여 PostgreSQL 데이터베이스와 연동하는 에이전트를 성공적으로 구현했습니다.\n",
    "\n",
    "### 주요 구현 내용:\n",
    "\n",
    "#### 1. 데이터베이스 도구 구현\n",
    "- **fetch_table_schema**: 데이터베이스 스키마 탐색 도구\n",
    "- **execute_postgres_query**: SQL 쿼리 실행 도구\n",
    "\n",
    "#### 2. 에이전트 기능\n",
    "- 자연어 질문을 SQL 쿼리로 변환\n",
    "- 임상 및 유전체 데이터 분석\n",
    "- 생존 분석 및 돌연변이 분석\n",
    "- 통계적 분석 및 패턴 발견\n",
    "\n",
    "#### 3. 데이터셋 특징\n",
    "- **chemotherapy_survival**: 화학요법 후 환자 생존 데이터\n",
    "- **clinical_genomic**: 초기 단계 비소세포폐암 환자 코호트 데이터\n",
    "- 종양 조직의 유전자 발현 데이터\n",
    "- 환자의 임상 및 인구통계학적 정보\n",
    "\n",
    "### Strands 프레임워크의 장점:\n",
    "\n",
    "1. **간편한 도구 정의**: `@tool` 데코레이터를 사용한 직관적인 도구 구현\n",
    "2. **직접적인 통합**: Lambda 함수 없이 직접 데이터베이스 연결\n",
    "3. **유연한 에이전트 구성**: 시스템 프롬프트와 도구의 조합으로 전문화된 에이전트 생성\n",
    "4. **쉬운 테스트**: 노트북 환경에서 직접 테스트 가능\n",
    "5. **비용 효율성**: Lambda 함수 비용 제거\n",
    "6. **빠른 실행**: Lambda 콜드 스타트 지연 제거\n",
    "\n",
    "### 사용 예시:\n",
    "- 선암종 환자들의 평균 연령 조회\n",
    "- 편평세포암종 환자들의 가장 흔한 병리학적 T 병기 분석\n",
    "- EGFR 돌연변이를 가진 환자들의 비율 계산\n",
    "- 화학요법 후 생존율과 유전자 발현량 상관관계 분석\n",
    "\n",
    "이 구현을 통해 의료 연구자들은 복잡한 SQL을 작성하지 않고도 자연어로 데이터베이스를 쿼리하고 분석할 수 있게 되었습니다."
   ]
  }
 ],
 "metadata": {
  "kernelspec": {
   "display_name": "Python 3 (ipykernel)",
   "language": "python",
   "name": "python3"
  },
  "language_info": {
   "codemirror_mode": {
    "name": "ipython",
    "version": 3
   },
   "file_extension": ".py",
   "mimetype": "text/x-python",
   "name": "python",
   "nbconvert_exporter": "python",
   "pygments_lexer": "ipython3",
   "version": "3.12.9"
  }
 },
 "nbformat": 4,
 "nbformat_minor": 5
}
