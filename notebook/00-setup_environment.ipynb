{
 "cells": [
  {
   "cell_type": "markdown",
   "id": "045a7b02-6a49-4b6d-b11f-43ed4ad3f190",
   "metadata": {
    "tags": []
   },
   "source": [
    "# Prepare Notebook Environment for Strands Agents\n",
    "\n",
    "In this section we prepare this notebook environment with the necessary dependencies to create any agents using the Strands framework."
   ]
  },
  {
   "cell_type": "markdown",
   "id": "73696601",
   "metadata": {},
   "source": [
    "# Prerequisites\n",
    "\n",
    "1. If you are running the notebook in your own account and not on as part of an AWS hosted event, follow the **Deployment** instructions from the [Self Paced](https://catalog.us-east-1.prod.workshops.aws/workshops/0bf501fc-357d-43b3-b758-b44f9b0e7d49/en-US/introduction/access-and-navigate-aws-account/self-paced) workshop to setup the following dependencies in your account:\n",
    "    - Networking infrastructure (VPC, Subnets, etc.)\n",
    "    - Amazon Redshift Database\n",
    "    - Amazon Bedrock Knowledge Base\n",
    "2. Configure Bedrock Model Access to the following models:\n",
    "    - Amazon\n",
    "        - Titan Embeddings G1 - Text\n",
    "    - Anthropic\n",
    "        - Anthropic Claude 3.7 Sonnet\n",
    "3. Manually sync the Amazon Bedrock Knowledge Base:\n",
    "    - Navigate to the Amazon Bedrock dashboard via AWS Console search\n",
    "    - Select the option icon (top left) to open the navigation bar\n",
    "    - Select \"Knowledge bases\" under the \"Builder tools\" tab\n",
    "    - Choose the Knowledgebase created by the AWS CloudFormation template\n",
    "    - Scroll to the \"Data Source\" option box\n",
    "    - Select the data source (radio button) and Select Sync\n",
    "4. Make sure your notebook execution role has the following managed policies:\n",
    "    - AmazonBedrockFullAccess\n",
    "    - AmazonRedshiftQueryEditor\n",
    "    - AmazonS3FullAccess\n",
    "    - AmazonSageMakerFullAccess\n",
    "    - AWSLambda_FullAccess\n",
    "    - AWSStepFunctionsFullAccess\n",
    "    - IAMFullAccess\n",
    "    - AWSCodeBuildAdminAccess\n",
    "5. For protein design notebooks, additional AWS HealthOmics permissions will be automatically added by this setup notebook."
   ]
  },
  {
   "cell_type": "markdown",
   "id": "be755083-73cf-48b0-8d2f-06769d176503",
   "metadata": {},
   "source": [
    "# Environment Setup\n",
    "\n",
    "#### Run the pip commands below to install all needed packages"
   ]
  },
  {
   "cell_type": "code",
   "execution_count": 1,
   "id": "2e6a7e62",
   "metadata": {
    "execution": {
     "iopub.execute_input": "2025-09-28T14:55:20.978317Z",
     "iopub.status.busy": "2025-09-28T14:55:20.977523Z",
     "iopub.status.idle": "2025-09-28T14:55:40.576704Z",
     "shell.execute_reply": "2025-09-28T14:55:40.575961Z",
     "shell.execute_reply.started": "2025-09-28T14:55:20.978281Z"
    }
   },
   "outputs": [
    {
     "name": "stdout",
     "output_type": "stream",
     "text": [
      "\u001b[31mERROR: pip's dependency resolver does not currently take into account all the packages that are installed. This behaviour is the source of the following dependency conflicts.\n",
      "aiobotocore 2.21.1 requires botocore<1.37.2,>=1.37.0, but you have botocore 1.37.38 which is incompatible.\n",
      "langchain-aws 0.2.19 requires boto3>=1.37.24, but you have boto3 1.37.1 which is incompatible.\n",
      "sagemaker-studio-analytics-extension 0.2.0 requires sparkmagic==0.22.0, but you have sparkmagic 0.21.0 which is incompatible.\u001b[0m\u001b[31m\n",
      "\u001b[0mNote: you may need to restart the kernel to use updated packages.\n"
     ]
    }
   ],
   "source": [
    "%pip install boto3 awscli botocore termcolor sagemaker --quiet"
   ]
  },
  {
   "cell_type": "markdown",
   "id": "7c36cede",
   "metadata": {},
   "source": [
    "Ensure the boto3 version printed below is **1.37.1** or higher."
   ]
  },
  {
   "cell_type": "code",
   "execution_count": 2,
   "id": "22cff0fe-0fc5-455c-a8b7-88f7711afba7",
   "metadata": {
    "execution": {
     "iopub.execute_input": "2025-09-28T14:55:40.578577Z",
     "iopub.status.busy": "2025-09-28T14:55:40.578341Z",
     "iopub.status.idle": "2025-09-28T14:55:42.318328Z",
     "shell.execute_reply": "2025-09-28T14:55:42.317572Z",
     "shell.execute_reply.started": "2025-09-28T14:55:40.578555Z"
    },
    "tags": []
   },
   "outputs": [
    {
     "name": "stdout",
     "output_type": "stream",
     "text": [
      "Name: boto3\n",
      "Version: 1.37.1\n",
      "Summary: The AWS SDK for Python\n",
      "Home-page: https://github.com/boto/boto3\n",
      "Author: Amazon Web Services\n",
      "Author-email: \n",
      "License: Apache License 2.0\n",
      "Location: /opt/conda/lib/python3.12/site-packages\n",
      "Requires: botocore, jmespath, s3transfer\n",
      "Required-by: amazon-q-developer-jupyterlab-ext, amazon-sagemaker-sql-editor, amazon-sagemaker-sql-execution, amazon_sagemaker_jupyter_ai_q_developer, autogluon.common, autogluon.core, autogluon.multimodal, aws-glue-sessions, langchain-aws, PyAthena, redshift_connector, sagemaker, sagemaker-core, sagemaker-jupyterlab-extension-common, sagemaker-kernel-wrapper, sagemaker-mlflow, sagemaker-studio-analytics-extension, sagemaker-studio-dataengineering-extensions, sagemaker-studio-dataengineering-sessions, sagemaker_studio, sagemaker_studio_sparkmagic_lib, snowflake-connector-python\n",
      "Note: you may need to restart the kernel to use updated packages.\n"
     ]
    }
   ],
   "source": [
    "%pip show boto3"
   ]
  },
  {
   "cell_type": "markdown",
   "id": "3d89cd8b-73ff-4cef-b040-31cc4e4b0233",
   "metadata": {},
   "source": [
    "#### Import Python libraries"
   ]
  },
  {
   "cell_type": "code",
   "execution_count": 3,
   "id": "f56fe856-e1d4-42f1-aaf0-424f04ff4ba9",
   "metadata": {
    "execution": {
     "iopub.execute_input": "2025-09-28T14:55:42.319493Z",
     "iopub.status.busy": "2025-09-28T14:55:42.319262Z",
     "iopub.status.idle": "2025-09-28T14:55:46.725860Z",
     "shell.execute_reply": "2025-09-28T14:55:46.725097Z",
     "shell.execute_reply.started": "2025-09-28T14:55:42.319470Z"
    },
    "tags": []
   },
   "outputs": [
    {
     "name": "stdout",
     "output_type": "stream",
     "text": [
      "sagemaker.config INFO - Not applying SDK defaults from location: /etc/xdg/sagemaker/config.yaml\n",
      "sagemaker.config INFO - Not applying SDK defaults from location: /home/sagemaker-user/.config/sagemaker/config.yaml\n"
     ]
    }
   ],
   "source": [
    "# Standard Python libraries\n",
    "import boto3\n",
    "import sagemaker\n",
    "\n",
    "# Import needed functions to create agent\n",
    "from utils.bedrock_agent_helper import AgentsForAmazonBedrock\n",
    "from utils.role_policy_helper import SageMakerRolePolicyChecker"
   ]
  },
  {
   "cell_type": "markdown",
   "id": "17e2d364-aab0-45fc-bf0f-2ad4bd8d9918",
   "metadata": {},
   "source": [
    "#### Extract account information needed for agent creation SageMaker role"
   ]
  },
  {
   "cell_type": "code",
   "execution_count": 4,
   "id": "657e0b1a-d4ff-4cfc-bb50-b64f888ca773",
   "metadata": {
    "execution": {
     "iopub.execute_input": "2025-09-28T14:55:46.727235Z",
     "iopub.status.busy": "2025-09-28T14:55:46.726779Z",
     "iopub.status.idle": "2025-09-28T14:55:47.145312Z",
     "shell.execute_reply": "2025-09-28T14:55:47.144566Z",
     "shell.execute_reply.started": "2025-09-28T14:55:46.727212Z"
    },
    "tags": []
   },
   "outputs": [
    {
     "name": "stdout",
     "output_type": "stream",
     "text": [
      "Account ID: 229020249659\n",
      "Region: us-east-1\n",
      "SageMaker Execution Role: arn:aws:iam::229020249659:role/service-role/AmazonSageMaker-ExecutionRole-20250928T234110\n"
     ]
    }
   ],
   "source": [
    "# boto3 session\n",
    "sts_client = boto3.client('sts')\n",
    "session = boto3.session.Session()\n",
    "\n",
    "# Account info\n",
    "account_id = sts_client.get_caller_identity()[\"Account\"]\n",
    "region = session.region_name\n",
    "print(f\"Account ID: {account_id}\")\n",
    "print(f\"Region: {region}\")\n",
    "\n",
    "# Get the SageMaker session and execution role\n",
    "sagemaker_session = sagemaker.Session()\n",
    "role = sagemaker_session.get_caller_identity_arn()\n",
    "print(f\"SageMaker Execution Role: {role}\")"
   ]
  },
  {
   "cell_type": "markdown",
   "id": "094c599f",
   "metadata": {},
   "source": [
    "#### Check if the SageMaker role has the required policies to run the notebooks"
   ]
  },
  {
   "cell_type": "code",
   "execution_count": 5,
   "id": "3c2f5b32",
   "metadata": {
    "execution": {
     "iopub.execute_input": "2025-09-28T14:55:47.146381Z",
     "iopub.status.busy": "2025-09-28T14:55:47.145981Z",
     "iopub.status.idle": "2025-09-28T14:55:47.267593Z",
     "shell.execute_reply": "2025-09-28T14:55:47.266925Z",
     "shell.execute_reply.started": "2025-09-28T14:55:47.146355Z"
    }
   },
   "outputs": [
    {
     "name": "stdout",
     "output_type": "stream",
     "text": [
      "Missing policies: Error retrieving attached policies: An error occurred (AccessDenied) when calling the ListAttachedRolePolicies operation: User: arn:aws:sts::229020249659:assumed-role/AmazonSageMaker-ExecutionRole-20250928T234110/SageMaker is not authorized to perform: iam:ListAttachedRolePolicies on resource: role AmazonSageMaker-ExecutionRole-20250928T234110 because no identity-based policy allows the iam:ListAttachedRolePolicies action\n",
      "Please attach the missing policies manually or contact your administrator.\n",
      "Note: HealthOmics policy attachment: Error creating policy: An error occurred (AccessDenied) when calling the CreatePolicy operation: User: arn:aws:sts::229020249659:assumed-role/AmazonSageMaker-ExecutionRole-20250928T234110/SageMaker is not authorized to perform: iam:CreatePolicy on resource: policy HealthOmicsFullAccess because no identity-based policy allows the iam:CreatePolicy action\n"
     ]
    }
   ],
   "source": [
    "# Check and add required policies\n",
    "role_checker = SageMakerRolePolicyChecker()\n",
    "role_name = role.split('/')[-1]  # Extract role name from ARN\n",
    "\n",
    "try:\n",
    "    # Check existing policies\n",
    "    role_checker.check_policies(role)\n",
    "    print(\"All required managed policies are attached!\")\n",
    "except Exception as e:\n",
    "    print(f\"Missing policies: {e}\")\n",
    "    print(\"Please attach the missing policies manually or contact your administrator.\")\n",
    "\n",
    "# Add HealthOmics policy for protein design notebook\n",
    "try:\n",
    "    role_checker.attach_healthomics_policy(role_name)\n",
    "    print(\"HealthOmics policy attached successfully!\")\n",
    "except Exception as e:\n",
    "    print(f\"Note: HealthOmics policy attachment: {e}\")"
   ]
  },
  {
   "cell_type": "code",
   "execution_count": null,
   "id": "f7e6de12-c161-4a3c-8c0b-0675fae899fb",
   "metadata": {},
   "outputs": [],
   "source": []
  }
 ],
 "metadata": {
  "kernelspec": {
   "display_name": "Python 3 (ipykernel)",
   "language": "python",
   "name": "python3"
  },
  "language_info": {
   "codemirror_mode": {
    "name": "ipython",
    "version": 3
   },
   "file_extension": ".py",
   "mimetype": "text/x-python",
   "name": "python",
   "nbconvert_exporter": "python",
   "pygments_lexer": "ipython3",
   "version": "3.12.9"
  }
 },
 "nbformat": 4,
 "nbformat_minor": 5
}
