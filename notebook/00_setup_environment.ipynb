{
 "cells": [
  {
   "cell_type": "markdown",
   "id": "045a7b02-6a49-4b6d-b11f-43ed4ad3f190",
   "metadata": {
    "tags": []
   },
   "source": [
    "# Strands Agents를 위한 노트북 환경 준비\n",
    "\n",
    "이 섹션에서는 Strands 프레임워크를 사용하여 에이전트를 생성하는 데 필요한 종속성으로 노트북 환경을 준비합니다."
   ]
  },
  {
   "cell_type": "markdown",
   "id": "73696601",
   "metadata": {},
   "source": [
    "# 사전 요구사항\n",
    "\n",
    "1. AWS 호스트 이벤트의 일부가 아닌 자체 계정에서 노트북을 실행하는 경우, [Self Paced](https://catalog.us-east-1.prod.workshops.aws/workshops/0bf501fc-357d-43b3-b758-b44f9b0e7d49/en-US/introduction/access-and-navigate-aws-account/self-paced) 워크샵의 **배포** 지침을 따라 계정에 다음 종속성을 설정하세요:\n",
    "    - 네트워킹 인프라 (VPC, 서브넷 등)\n",
    "    - Amazon Redshift 데이터베이스\n",
    "    - Amazon Bedrock Knowledge Base\n",
    "2. 다음 모델에 대한 Bedrock 모델 액세스를 구성하세요:\n",
    "    - Amazon\n",
    "        - Titan Embeddings G1 - Text\n",
    "    - Anthropic\n",
    "        - Anthropic Claude 3.7 Sonnet\n",
    "3. Amazon Bedrock Knowledge Base를 수동으로 동기화하세요:\n",
    "    - AWS 콘솔 검색을 통해 Amazon Bedrock 대시보드로 이동\n",
    "    - 옵션 아이콘(왼쪽 상단)을 선택하여 탐색 모음 열기\n",
    "    - \"Builder tools\" 탭에서 \"Knowledge bases\" 선택\n",
    "    - AWS CloudFormation 템플릿으로 생성된 Knowledge base 선택\n",
    "    - \"Data Source\" 옵션 박스로 스크롤\n",
    "    - 데이터 소스(라디오 버튼) 선택 후 Sync 선택\n",
    "4. 노트북 실행 역할에 다음 관리형 정책이 있는지 확인하세요:\n",
    "    - AmazonBedrockFullAccess\n",
    "    - AmazonRedshiftQueryEditor\n",
    "    - AmazonS3FullAccess\n",
    "    - AmazonSageMakerFullAccess\n",
    "    - AWSLambda_FullAccess\n",
    "    - AWSStepFunctionsFullAccess\n",
    "    - IAMFullAccess\n",
    "    - AWSCodeBuildAdminAccess\n",
    "5. 단백질 디자인 노트북의 경우, 추가 AWS HealthOmics 권한이 이 설정 노트북에 의해 자동으로 추가됩니다."
   ]
  },
  {
   "cell_type": "markdown",
   "id": "be755083-73cf-48b0-8d2f-06769d176503",
   "metadata": {},
   "source": [
    "# 환경 설정\n",
    "\n",
    "#### 필요한 모든 패키지를 설치하려면 아래 pip 명령을 실행하세요"
   ]
  },
  {
   "cell_type": "code",
   "execution_count": null,
   "id": "2e6a7e62",
   "metadata": {
    "execution": {
     "iopub.execute_input": "2025-09-28T14:55:20.978317Z",
     "iopub.status.busy": "2025-09-28T14:55:20.977523Z",
     "iopub.status.idle": "2025-09-28T14:55:40.576704Z",
     "shell.execute_reply": "2025-09-28T14:55:40.575961Z",
     "shell.execute_reply.started": "2025-09-28T14:55:20.978281Z"
    }
   },
   "outputs": [],
   "source": [
    "%pip install boto3 awscli botocore termcolor sagemaker --quiet"
   ]
  },
  {
   "cell_type": "markdown",
   "id": "7c36cede",
   "metadata": {},
   "source": [
    "아래에 출력된 boto3 버전이 **1.37.1** 이상인지 확인하세요."
   ]
  },
  {
   "cell_type": "code",
   "execution_count": null,
   "id": "22cff0fe-0fc5-455c-a8b7-88f7711afba7",
   "metadata": {
    "execution": {
     "iopub.execute_input": "2025-09-28T14:55:40.578577Z",
     "iopub.status.busy": "2025-09-28T14:55:40.578341Z",
     "iopub.status.idle": "2025-09-28T14:55:42.318328Z",
     "shell.execute_reply": "2025-09-28T14:55:42.317572Z",
     "shell.execute_reply.started": "2025-09-28T14:55:40.578555Z"
    },
    "tags": []
   },
   "outputs": [],
   "source": [
    "%pip show boto3"
   ]
  },
  {
   "cell_type": "markdown",
   "id": "3d89cd8b-73ff-4cef-b040-31cc4e4b0233",
   "metadata": {},
   "source": [
    "#### Python 라이브러리 가져오기"
   ]
  },
  {
   "cell_type": "code",
   "execution_count": null,
   "id": "f56fe856-e1d4-42f1-aaf0-424f04ff4ba9",
   "metadata": {
    "execution": {
     "iopub.execute_input": "2025-09-28T14:55:42.319493Z",
     "iopub.status.busy": "2025-09-28T14:55:42.319262Z",
     "iopub.status.idle": "2025-09-28T14:55:46.725860Z",
     "shell.execute_reply": "2025-09-28T14:55:46.725097Z",
     "shell.execute_reply.started": "2025-09-28T14:55:42.319470Z"
    },
    "tags": []
   },
   "outputs": [],
   "source": [
    "# Standard Python libraries\n",
    "import boto3\n",
    "import sagemaker\n",
    "\n",
    "# Import needed functions to create agent\n",
    "from utils.bedrock_agent_helper import AgentsForAmazonBedrock\n",
    "from utils.role_policy_helper import SageMakerRolePolicyChecker"
   ]
  },
  {
   "cell_type": "markdown",
   "id": "17e2d364-aab0-45fc-bf0f-2ad4bd8d9918",
   "metadata": {},
   "source": [
    "#### 에이전트 생성에 필요한 SageMaker 역할 및 계정 정보 추출"
   ]
  },
  {
   "cell_type": "code",
   "execution_count": null,
   "id": "657e0b1a-d4ff-4cfc-bb50-b64f888ca773",
   "metadata": {
    "execution": {
     "iopub.execute_input": "2025-09-28T14:55:46.727235Z",
     "iopub.status.busy": "2025-09-28T14:55:46.726779Z",
     "iopub.status.idle": "2025-09-28T14:55:47.145312Z",
     "shell.execute_reply": "2025-09-28T14:55:47.144566Z",
     "shell.execute_reply.started": "2025-09-28T14:55:46.727212Z"
    },
    "tags": []
   },
   "outputs": [],
   "source": [
    "# boto3 세션\n",
    "sts_client = boto3.client('sts')\n",
    "session = boto3.session.Session()\n",
    "\n",
    "# 계정 정보\n",
    "account_id = sts_client.get_caller_identity()[\"Account\"]\n",
    "region = session.region_name\n",
    "print(f\"계정 ID: {account_id}\")\n",
    "print(f\"리전: {region}\")\n",
    "\n",
    "# SageMaker 세션 및 실행 역할 가져오기\n",
    "sagemaker_session = sagemaker.Session()\n",
    "role = sagemaker_session.get_caller_identity_arn()\n",
    "print(f\"SageMaker 실행 역할: {role}\")"
   ]
  },
  {
   "cell_type": "markdown",
   "id": "094c599f",
   "metadata": {},
   "source": [
    "#### 노트북 실행에 필요한 정책이 SageMaker 역할에 있는지 확인"
   ]
  },
  {
   "cell_type": "code",
   "execution_count": null,
   "id": "3c2f5b32",
   "metadata": {
    "execution": {
     "iopub.execute_input": "2025-09-28T14:55:47.146381Z",
     "iopub.status.busy": "2025-09-28T14:55:47.145981Z",
     "iopub.status.idle": "2025-09-28T14:55:47.267593Z",
     "shell.execute_reply": "2025-09-28T14:55:47.266925Z",
     "shell.execute_reply.started": "2025-09-28T14:55:47.146355Z"
    }
   },
   "outputs": [],
   "source": [
    "# 필수 정책 확인 및 추가\n",
    "role_checker = SageMakerRolePolicyChecker()\n",
    "role_name = role.split('/')[-1]  # ARN에서 역할 이름 추출\n",
    "\n",
    "try:\n",
    "    # 기존 정책 확인\n",
    "    role_checker.check_policies(role)\n",
    "    print(\"모든 필수 관리형 정책이 연결되어 있습니다!\")\n",
    "except Exception as e:\n",
    "    print(f\"누락된 정책: {e}\")\n",
    "    print(\"누락된 정책을 수동으로 연결하거나 관리자에게 문의하세요.\")\n",
    "\n",
    "# 단백질 디자인 노트북을 위한 HealthOmics 정책 추가\n",
    "try:\n",
    "    role_checker.attach_healthomics_policy(role_name)\n",
    "    print(\"HealthOmics 정책이 성공적으로 연결되었습니다!\")\n",
    "except Exception as e:\n",
    "    print(f\"참고: HealthOmics 정책 연결: {e}\")"
   ]
  },
  {
   "cell_type": "markdown",
   "id": "f7e6de12-c161-4a3c-8c0b-0675fae899fb",
   "metadata": {},
   "source": [
    "#### 워크샵에서 사용될 주요 AWS 서비스에 대한 권한 테스트"
   ]
  },
  {
   "cell_type": "code",
   "execution_count": null,
   "id": "6bbp99um5v",
   "metadata": {},
   "outputs": [],
   "source": [
    "# 주요 AWS 서비스 권한 테스트\n",
    "from termcolor import colored\n",
    "import json\n",
    "\n",
    "def test_service_permission(client_name, test_operation, operation_params=None):\n",
    "    \"\"\"서비스 권한 테스트 도우미 함수\"\"\"\n",
    "    try:\n",
    "        client = boto3.client(client_name, region_name=region)\n",
    "        \n",
    "        # 테스트 작업 실행\n",
    "        if operation_params:\n",
    "            response = getattr(client, test_operation)(**operation_params)\n",
    "        else:\n",
    "            response = getattr(client, test_operation)()\n",
    "            \n",
    "        return True, \"권한 확인됨\"\n",
    "    except client.exceptions.ResourceNotFoundException:\n",
    "        # 리소스가 없는 것은 권한 문제가 아님\n",
    "        return True, \"권한 확인됨 (리소스 없음)\"\n",
    "    except Exception as e:\n",
    "        error_msg = str(e)\n",
    "        if \"AccessDenied\" in error_msg or \"UnauthorizedOperation\" in error_msg:\n",
    "            return False, f\"권한 거부: {error_msg[:100]}...\"\n",
    "        elif \"ResourceNotFound\" in error_msg or \"does not exist\" in error_msg:\n",
    "            return True, \"권한 확인됨 (리소스 없음)\"\n",
    "        else:\n",
    "            # 다른 에러는 권한과 관련 없을 수 있음\n",
    "            return True, f\"권한 확인됨 (기타: {error_msg[:50]}...)\"\n",
    "\n",
    "# 테스트할 서비스 목록\n",
    "services_to_test = [\n",
    "    {\n",
    "        \"name\": \"Amazon Bedrock (Knowledge Base)\",\n",
    "        \"client\": \"bedrock-agent\",\n",
    "        \"operation\": \"list_knowledge_bases\",\n",
    "        \"params\": {\"maxResults\": 1}\n",
    "    },\n",
    "    {\n",
    "        \"name\": \"Amazon Bedrock (Agents/AgentCore)\",\n",
    "        \"client\": \"bedrock-agent\",\n",
    "        \"operation\": \"list_agents\",\n",
    "        \"params\": {\"maxResults\": 1}\n",
    "    },\n",
    "    {\n",
    "        \"name\": \"Amazon Bedrock (Models)\",\n",
    "        \"client\": \"bedrock\",\n",
    "        \"operation\": \"list_foundation_models\",\n",
    "        \"params\": None\n",
    "    },\n",
    "    {\n",
    "        \"name\": \"Amazon S3\",\n",
    "        \"client\": \"s3\",\n",
    "        \"operation\": \"list_buckets\",\n",
    "        \"params\": None\n",
    "    },\n",
    "    {\n",
    "        \"name\": \"AWS Lambda\",\n",
    "        \"client\": \"lambda\",\n",
    "        \"operation\": \"list_functions\",\n",
    "        \"params\": {\"MaxItems\": 1}\n",
    "    },\n",
    "    {\n",
    "        \"name\": \"Amazon Redshift\",\n",
    "        \"client\": \"redshift\",\n",
    "        \"operation\": \"describe_clusters\",\n",
    "        \"params\": None\n",
    "    }\n",
    "]\n",
    "\n",
    "print(\"=\" * 60)\n",
    "print(\"AWS 서비스 권한 테스트 결과\")\n",
    "print(\"=\" * 60)\n",
    "\n",
    "all_passed = True\n",
    "for service in services_to_test:\n",
    "    success, message = test_service_permission(\n",
    "        service[\"client\"],\n",
    "        service[\"operation\"],\n",
    "        service[\"params\"]\n",
    "    )\n",
    "    \n",
    "    if success:\n",
    "        status = colored(\"✓ 통과\", \"green\")\n",
    "    else:\n",
    "        status = colored(\"✗ 실패\", \"red\")\n",
    "        all_passed = False\n",
    "    \n",
    "    print(f\"{status} - {service['name']}\")\n",
    "    if not success:\n",
    "        print(f\"     {message}\")\n",
    "\n",
    "print(\"=\" * 60)\n",
    "\n",
    "if all_passed:\n",
    "    print(colored(\"✓ 모든 서비스 권한 테스트 통과!\", \"green\"))\n",
    "    print(\"워크샵을 진행할 준비가 완료되었습니다.\")\n",
    "else:\n",
    "    print(colored(\"⚠ 일부 권한이 누락되었습니다.\", \"yellow\"))\n",
    "    print(\"위에서 실패한 서비스에 대한 권한을 확인하고 추가해주세요.\")"
   ]
  }
 ],
 "metadata": {
  "kernelspec": {
   "display_name": "Python 3 (ipykernel)",
   "language": "python",
   "name": "python3"
  },
  "language_info": {
   "codemirror_mode": {
    "name": "ipython",
    "version": 3
   },
   "file_extension": ".py",
   "mimetype": "text/x-python",
   "name": "python",
   "nbconvert_exporter": "python",
   "pygments_lexer": "ipython3",
   "version": "3.12.9"
  }
 },
 "nbformat": 4,
 "nbformat_minor": 5
}
